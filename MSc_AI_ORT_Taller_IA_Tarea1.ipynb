{
  "nbformat": 4,
  "nbformat_minor": 0,
  "metadata": {
    "colab": {
      "provenance": [],
      "gpuType": "V100",
      "machine_shape": "hm",
      "authorship_tag": "ABX9TyPrvA5sswX5BBM7BaQt24Lk",
      "include_colab_link": true
    },
    "kernelspec": {
      "name": "python3",
      "display_name": "Python 3"
    },
    "language_info": {
      "name": "python"
    },
    "accelerator": "GPU"
  },
  "cells": [
    {
      "cell_type": "markdown",
      "metadata": {
        "id": "view-in-github",
        "colab_type": "text"
      },
      "source": [
        "<a href=\"https://colab.research.google.com/github/MarianoChic09/MSc-AI-taller-de-deep-learning/blob/main/MSc_AI_ORT_Taller_IA_Tarea1.ipynb\" target=\"_parent\"><img src=\"https://colab.research.google.com/assets/colab-badge.svg\" alt=\"Open In Colab\"/></a>"
      ]
    },
    {
      "cell_type": "markdown",
      "source": [
        "# Taller de Deep Learning - Tarea 1\n",
        "\n",
        "Introducción:\n",
        "El objetivo de esta tarea es evaluar su conocimiento sobre Deep Learning aplicado a un caso de uso real. En particular, vamos a evaluar la performance de sus modelos en una tarea de clasificación de escenas.\n",
        "\n",
        "Dataset:\n",
        "El dataset a ser utilizado consiste de más de 13.000 imágenes de entrenamiento agrupadas\n",
        "en 6 posibles “escenarios”: edificios, bosques, glaciares, montañas, océanos, calles.\n",
        "Pueden descargarlo en el siguiente link.\n",
        "El mismo contiene dos carpetas (train_set y test_set) donde las imágenes están\n",
        "agrupadas en sub carpetas de acuerdo a su categoría."
      ],
      "metadata": {
        "id": "ljHYjlFHIIfP"
      }
    },
    {
      "cell_type": "code",
      "execution_count": 1,
      "metadata": {
        "id": "x9nJFwzcIE3x",
        "colab": {
          "base_uri": "https://localhost:8080/"
        },
        "outputId": "f374721a-d94a-40d3-a543-20c68e43a448"
      },
      "outputs": [
        {
          "output_type": "stream",
          "name": "stdout",
          "text": [
            "Drive already mounted at /content/drive; to attempt to forcibly remount, call drive.mount(\"/content/drive\", force_remount=True).\n"
          ]
        }
      ],
      "source": [
        "from google.colab import drive\n",
        "drive.mount(\"/content/drive\")"
      ]
    },
    {
      "cell_type": "code",
      "source": [
        "! cp -r \"/content/drive/MyDrive/Colab Notebooks/Datasets/scene_classification\" .\n",
        "! unzip -q scene_classification.zip\n",
        "! rm scene_classification.zip"
      ],
      "metadata": {
        "id": "Yh3ZiKw2IgAy"
      },
      "execution_count": null,
      "outputs": []
    },
    {
      "cell_type": "code",
      "source": [
        "#%cd \"/content/drive/MyDrive/Colab Notebooks/Datasets/scene_classification\"\n",
        "#%ls"
      ],
      "metadata": {
        "id": "lMmPVA42JUvo"
      },
      "execution_count": 3,
      "outputs": []
    },
    {
      "cell_type": "markdown",
      "source": [
        "## Cargando el dataset"
      ],
      "metadata": {
        "id": "RmsVwGZIIlEu"
      }
    },
    {
      "cell_type": "code",
      "source": [
        "import os\n",
        "\n",
        "# os.chdir(\"/content/drive/MyDrive/Colab Notebooks/Datasets/scene_classification\")"
      ],
      "metadata": {
        "id": "bNzZiNaA9zCD"
      },
      "execution_count": 4,
      "outputs": []
    },
    {
      "cell_type": "code",
      "source": [
        "print(os.getcwd())"
      ],
      "metadata": {
        "id": "ssoy8VWp96TY",
        "outputId": "d2d28783-e583-486d-f8b0-dedb2a762343",
        "colab": {
          "base_uri": "https://localhost:8080/"
        }
      },
      "execution_count": 5,
      "outputs": [
        {
          "output_type": "stream",
          "name": "stdout",
          "text": [
            "/content\n"
          ]
        }
      ]
    },
    {
      "cell_type": "code",
      "source": [
        "print(os.listdir())\n",
        "# os.chdir(\"./data/imgs\")\n",
        "print(os.listdir())\n",
        "os.chdir(\"../../\")\n",
        "print(os.listdir())\n",
        "os.chdir(\"/content/drive/MyDrive/Colab Notebooks/Datasets/scene_classification\")\n",
        "print(os.listdir())\n"
      ],
      "metadata": {
        "id": "R_b3Nn6R-IJC",
        "outputId": "41ecf78b-665c-48ca-82fd-3114421f11a3",
        "colab": {
          "base_uri": "https://localhost:8080/"
        }
      },
      "execution_count": 6,
      "outputs": [
        {
          "output_type": "stream",
          "name": "stdout",
          "text": [
            "['.config', 'drive', 'scene_classification', 'sample_data']\n",
            "['.config', 'drive', 'scene_classification', 'sample_data']\n",
            "['libx32', 'mnt', 'etc', 'home', 'root', 'lib', 'srv', 'sys', 'tmp', 'boot', 'lib64', 'run', 'proc', 'usr', 'bin', 'dev', 'lib32', 'var', 'opt', 'media', 'sbin', 'content', '.dockerenv', 'datalab', 'tools', 'python-apt', 'NGC-DL-CONTAINER-LICENSE', 'cuda-keyring_1.0-1_all.deb']\n",
            "['train_set', 'test_set', 'scene_classification', 'runs']\n"
          ]
        }
      ]
    },
    {
      "cell_type": "code",
      "source": [
        "import os\n",
        "\n",
        "print(\"Directorio actual:\", os.getcwd())\n",
        "# print(\"\\nContenido de 'train_set':\", os.listdir(\"train_set\"))"
      ],
      "metadata": {
        "colab": {
          "base_uri": "https://localhost:8080/"
        },
        "id": "QEZsuLMcLhcy",
        "outputId": "8cca6738-d8e6-4c81-f769-9ff702f117ef"
      },
      "execution_count": 7,
      "outputs": [
        {
          "output_type": "stream",
          "name": "stdout",
          "text": [
            "Directorio actual: /content/drive/MyDrive/Colab Notebooks/Datasets/scene_classification\n"
          ]
        }
      ]
    },
    {
      "cell_type": "code",
      "source": [
        "# Reemplaza 'class_1' con el nombre de uno de tus subdirectorios.\n",
        "print(\"Contenido de 'train_set/buildings':\", os.listdir(\"train_set/buildings\"))"
      ],
      "metadata": {
        "colab": {
          "base_uri": "https://localhost:8080/"
        },
        "id": "KtJuaoapLkQ-",
        "outputId": "04583c83-7561-46f0-b4f2-6ad4c463372b"
      },
      "execution_count": 8,
      "outputs": [
        {
          "output_type": "stream",
          "name": "stdout",
          "text": [
            "Contenido de 'train_set/buildings': ['19513.jpg', '19447.jpg', '19456.jpg', '1959.jpg', '19460.jpg', '1954.jpg', '19584.jpg', '1964.jpg', '19638.jpg', '19608.jpg', '19455.jpg', '19526.jpg', '19416.jpg', '19556.jpg', '19623.jpg', '19446.jpg', '19407.jpg', '1943.jpg', '19466.jpg', '2059.jpg', '2099.jpg', '1979.jpg', '2170.jpg', '19901.jpg', '19778.jpg', '19969.jpg', '19830.jpg', '19923.jpg', '20048.jpg', '19913.jpg', '2083.jpg', '19895.jpg', '19649.jpg', '19848.jpg', '2076.jpg', '19976.jpg', '2136.jpg', '19728.jpg', '19806.jpg', '19963.jpg', '19996.jpg', '19855.jpg', '20027.jpg', '1977.jpg', '20054.jpg', '20011.jpg', '19713.jpg', '2144.jpg', '19802.jpg', '2002.jpg', '19915.jpg', '19701.jpg', '19896.jpg', '2038.jpg', '19674.jpg', '19689.jpg', '2108.jpg', '19973.jpg', '19661.jpg', '2171.jpg', '19776.jpg', '19846.jpg', '19910.jpg', '2158.jpg', '19816.jpg', '19874.jpg', '19789.jpg', '20017.jpg', '2114.jpg', '2088.jpg', '19666.jpg', '19722.jpg', '2069.jpg', '19800.jpg', '19735.jpg', '19978.jpg', '19782.jpg', '2041.jpg', '2043.jpg', '19815.jpg', '2104.jpg', '19955.jpg', '19668.jpg', '2406.jpg', '2430.jpg', '2202.jpg', '2362.jpg', '2193.jpg', '2369.jpg', '2185.jpg', '2342.jpg', '2285.jpg', '2273.jpg', '2418.jpg', '2209.jpg', '2179.jpg', '2264.jpg', '235.jpg', '2263.jpg', '2385.jpg', '2236.jpg', '2332.jpg', '2203.jpg', '2182.jpg', '246.jpg', '2414.jpg', '2204.jpg', '230.jpg', '2356.jpg', '2252.jpg', '2176.jpg', '2300.jpg', '2319.jpg', '2238.jpg', '2426.jpg', '218.jpg', '2880.jpg', '2587.jpg', '2802.jpg', '2713.jpg', '2717.jpg', '2463.jpg', '2688.jpg', '2874.jpg', '2817.jpg', '2871.jpg', '2602.jpg', '2639.jpg', '2710.jpg', '286.jpg', '2670.jpg', '265.jpg', '2705.jpg', '2827.jpg', '2790.jpg', '2648.jpg', '2823.jpg', '2775.jpg', '2796.jpg', '2469.jpg', '2809.jpg', '2747.jpg', '2612.jpg', '2741.jpg', '263.jpg', '2691.jpg', '2735.jpg', '266.jpg', '2770.jpg', '2733.jpg', '2633.jpg', '2636.jpg', '2495.jpg', '2678.jpg', '2558.jpg', '2575.jpg', '2749.jpg', '2815.jpg', '2586.jpg', '2478.jpg', '2607.jpg', '2743.jpg', '2568.jpg', '2653.jpg', '2697.jpg', '256.jpg', '2662.jpg', '2850.jpg', '2808.jpg', '2643.jpg', '2738.jpg', '2847.jpg', '3056.jpg', '3000.jpg', '3064.jpg', '3051.jpg', '2887.jpg', '2922.jpg', '3091.jpg', '3082.jpg', '3067.jpg', '2928.jpg', '2948.jpg', '3017.jpg', '2936.jpg', '2985.jpg', '2997.jpg', '3086.jpg', '3020.jpg', '3028.jpg', '3095.jpg', '2960.jpg', '2954.jpg', '309.jpg', '2999.jpg', '2951.jpg', '304.jpg', '292.jpg', '2882.jpg', '2908.jpg', '3035.jpg', '2961.jpg', '3316.jpg', '3145.jpg', '3611.jpg', '3136.jpg', '3572.jpg', '3359.jpg', '343.jpg', '3540.jpg', '3524.jpg', '3245.jpg', '3170.jpg', '3253.jpg', '3745.jpg', '315.jpg', '3151.jpg', '3364.jpg', '3596.jpg', '3126.jpg', '3499.jpg', '3209.jpg', '3142.jpg', '3449.jpg', '3420.jpg', '3699.jpg', '3567.jpg', '3397.jpg', '3645.jpg', '3391.jpg', '3743.jpg', '3488.jpg', '3667.jpg', '3328.jpg', '3457.jpg', '318.jpg', '3670.jpg', '3506.jpg', '3669.jpg', '321.jpg', '3528.jpg', '3560.jpg', '3257.jpg', '3336.jpg', '3263.jpg', '3251.jpg', '3216.jpg', '3775.jpg', '3297.jpg', '3523.jpg', '3193.jpg', '3481.jpg', '3387.jpg', '3579.jpg', '3638.jpg', '3310.jpg', '3768.jpg', '3113.jpg', '3477.jpg', '3339.jpg', '3395.jpg', '3323.jpg', '3664.jpg', '3722.jpg', '367.jpg', '3207.jpg', '3255.jpg', '3813.jpg', '3931.jpg', '3844.jpg', '3912.jpg', '390.jpg', '3825.jpg', '3792.jpg', '3921.jpg', '3829.jpg', '3920.jpg', '3822.jpg', '3798.jpg', '3869.jpg', '392.jpg', '3888.jpg', '3928.jpg', '3831.jpg', '3956.jpg', '3955.jpg', '3878.jpg', '3856.jpg', '3929.jpg', '3905.jpg', '3913.jpg', '3809.jpg', '4398.jpg', '4098.jpg', '4156.jpg', '4075.jpg', '4130.jpg', '440.jpg', '4016.jpg', '4082.jpg', '4.jpg', '4269.jpg', '4267.jpg', '3971.jpg', '412.jpg', '4458.jpg', '4337.jpg', '4057.jpg', '3992.jpg', '401.jpg', '4152.jpg', '4327.jpg', '4351.jpg', '3989.jpg', '4141.jpg', '4463.jpg', '4466.jpg', '4469.jpg', '4459.jpg', '4294.jpg', '4100.jpg', '4233.jpg', '4332.jpg', '4053.jpg', '4290.jpg', '4392.jpg', '4129.jpg', '4158.jpg', '4365.jpg', '426.jpg', '4178.jpg', '4012.jpg', '3993.jpg', '4341.jpg', '4161.jpg', '3991.jpg', '4000.jpg', '4259.jpg', '4359.jpg', '4304.jpg', '4067.jpg', '4060.jpg', '4253.jpg', '4457.jpg', '4042.jpg', '4244.jpg', '4455.jpg', '4338.jpg', '422.jpg', '4160.jpg', '4079.jpg', '4239.jpg', '4440.jpg', '4002.jpg', '4139.jpg', '4630.jpg', '4481.jpg', '4571.jpg', '4621.jpg', '4620.jpg', '4631.jpg', '4520.jpg', '4560.jpg', '4479.jpg', '4517.jpg', '451.jpg', '4557.jpg', '4506.jpg', '4544.jpg', '4623.jpg', '4598.jpg', '4589.jpg', '4634.jpg', '4486.jpg', '4593.jpg', '4600.jpg', '4573.jpg', '4551.jpg', '4534.jpg', '463.jpg', '4500.jpg', '4558.jpg', '448.jpg', '5269.jpg', '4916.jpg', '5186.jpg', '5384.jpg', '47.jpg', '4797.jpg', '5160.jpg', '53.jpg', '5302.jpg', '5059.jpg', '5025.jpg', '4806.jpg', '4686.jpg', '5358.jpg', '495.jpg', '506.jpg', '505.jpg', '4715.jpg', '4979.jpg', '5193.jpg', '5292.jpg', '5324.jpg', '5343.jpg', '5440.jpg', '5048.jpg', '5337.jpg', '4796.jpg', '4860.jpg', '5152.jpg', '488.jpg', '508.jpg', '5111.jpg', '4878.jpg', '4906.jpg', '4667.jpg', '5277.jpg', '5188.jpg', '5340.jpg', '4959.jpg', '4988.jpg', '526.jpg', '5079.jpg', '4770.jpg', '4821.jpg', '5053.jpg', '4961.jpg', '4832.jpg', '5037.jpg', '5206.jpg', '4774.jpg', '5331.jpg', '5114.jpg', '5092.jpg', '5190.jpg', '5327.jpg', '4818.jpg', '4812.jpg', '5424.jpg', '4795.jpg', '5291.jpg', '5313.jpg', '4895.jpg', '5170.jpg', '4748.jpg', '5069.jpg', '4932.jpg', '5285.jpg', '5652.jpg', '5504.jpg', '5604.jpg', '5695.jpg', '5463.jpg', '5638.jpg', '5568.jpg', '55.jpg', '5563.jpg', '5444.jpg', '5658.jpg', '5656.jpg', '5543.jpg', '5614.jpg', '5452.jpg', '5630.jpg', '5633.jpg', '5628.jpg', '5617.jpg', '5583.jpg', '5650.jpg', '5477.jpg', '5451.jpg', '5661.jpg', '5579.jpg', '5533.jpg', '5546.jpg', '5557.jpg', '5535.jpg', '5866.jpg', '5791.jpg', '5952.jpg', '5735.jpg', '5817.jpg', '5761.jpg', '5798.jpg', '5741.jpg', '5743.jpg', '5788.jpg', '5958.jpg', '5712.jpg', '5955.jpg', '578.jpg', '5696.jpg', '5919.jpg', '5852.jpg', '5820.jpg', '5831.jpg', '586.jpg', '5883.jpg', '5770.jpg', '5965.jpg', '5708.jpg', '5805.jpg', '5927.jpg', '5947.jpg', '595.jpg', '5918.jpg', '6073.jpg', '6037.jpg', '6080.jpg', '612.jpg', '6143.jpg', '6075.jpg', '5998.jpg', '6045.jpg', '6033.jpg', '6054.jpg', '6046.jpg', '6123.jpg', '6117.jpg', '5971.jpg', '6028.jpg', '6024.jpg', '6014.jpg', '6119.jpg', '6005.jpg', '6105.jpg', '6505.jpg', '6285.jpg', '6235.jpg', '6379.jpg', '6190.jpg', '6340.jpg', '6305.jpg', '6355.jpg', '6205.jpg', '6281.jpg', '6503.jpg', '6420.jpg', '6315.jpg', '6213.jpg', '6175.jpg', '6187.jpg', '6280.jpg', '6343.jpg', '6313.jpg', '6473.jpg', '6201.jpg', '6479.jpg', '6266.jpg', '6328.jpg', '6346.jpg', '6526.jpg', '6232.jpg', '6383.jpg', '6525.jpg', '6394.jpg', '635.jpg', '6238.jpg', '6231.jpg', '6509.jpg', '6259.jpg', '6326.jpg', '6290.jpg', '6524.jpg', '6386.jpg', '6436.jpg', '6265.jpg', '6429.jpg', '6414.jpg', '618.jpg', '6233.jpg', '6360.jpg', '6339.jpg', '617.jpg', '6331.jpg', '6271.jpg', '6417.jpg', '6212.jpg', '6718.jpg', '6605.jpg', '6884.jpg', '6702.jpg', '6871.jpg', '6780.jpg', '6608.jpg', '6535.jpg', '6890.jpg', '6894.jpg', '6773.jpg', '6537.jpg', '6699.jpg', '6685.jpg', '6587.jpg', '6720.jpg', '6747.jpg', '6755.jpg', '6748.jpg', '6759.jpg', '6710.jpg', '6641.jpg', '6757.jpg', '6763.jpg', '6700.jpg', '6814.jpg', '6648.jpg', '6767.jpg', '66.jpg', '6643.jpg', '6826.jpg', '6629.jpg', '6891.jpg', '6795.jpg', '6684.jpg', '6585.jpg', '6586.jpg', '6673.jpg', '7143.jpg', '7202.jpg', '6909.jpg', '7114.jpg', '7214.jpg', '7091.jpg', '7084.jpg', '6956.jpg', '7138.jpg', '7035.jpg', '7227.jpg', '726.jpg', '7010.jpg', '7229.jpg', '6898.jpg', '703.jpg', '7024.jpg', '7241.jpg', '7258.jpg', '6983.jpg', '7235.jpg', '6958.jpg', '7108.jpg', '7054.jpg', '694.jpg', '7195.jpg', '7065.jpg', '7250.jpg', '7185.jpg', '6961.jpg', '7237.jpg', '6897.jpg', '6927.jpg', '6959.jpg', '7118.jpg', '7168.jpg', '6935.jpg', '7253.jpg', '7228.jpg', '7071.jpg', '6970.jpg', '7171.jpg', '7151.jpg', '6954.jpg', '6903.jpg', '7076.jpg', '721.jpg', '7222.jpg', '7383.jpg', '7328.jpg', '7342.jpg', '7439.jpg', '7443.jpg', '7311.jpg', '7325.jpg', '7382.jpg', '727.jpg', '7276.jpg', '7463.jpg', '7292.jpg', '7418.jpg', '747.jpg', '7262.jpg', '7374.jpg', '7308.jpg', '7361.jpg', '7321.jpg', '7347.jpg', '739.jpg', '7379.jpg', '7357.jpg', '7277.jpg', '7287.jpg', '7455.jpg', '7282.jpg', '7324.jpg', '7267.jpg', '7291.jpg', '742.jpg', '7701.jpg', '7730.jpg', '7959.jpg', '7574.jpg', '7584.jpg', '7703.jpg', '7547.jpg', '7496.jpg', '751.jpg', '7939.jpg', '7822.jpg', '7937.jpg', '789.jpg', '7610.jpg', '7530.jpg', '7542.jpg', '7846.jpg', '7493.jpg', '7630.jpg', '765.jpg', '7994.jpg', '7634.jpg', '7544.jpg', '7531.jpg', '7754.jpg', '7930.jpg', '7856.jpg', '7553.jpg', '7637.jpg', '7755.jpg', '7919.jpg', '7926.jpg', '7593.jpg', '7666.jpg', '775.jpg', '7742.jpg', '7478.jpg', '7807.jpg', '7667.jpg', '752.jpg', '7860.jpg', '7877.jpg', '7890.jpg', '7997.jpg', '7471.jpg', '7998.jpg', '7541.jpg', '7859.jpg', '7491.jpg', '7563.jpg', '7798.jpg', '7562.jpg', '7570.jpg', '7758.jpg', '749.jpg', '7520.jpg', '7636.jpg', '7924.jpg', '7518.jpg', '7498.jpg', '7638.jpg', '772.jpg', '7501.jpg', '7710.jpg', '7891.jpg', '7600.jpg', '7509.jpg', '8238.jpg', '8081.jpg', '8179.jpg', '8132.jpg', '8261.jpg', '8129.jpg', '8302.jpg', '8054.jpg', '8001.jpg', '808.jpg', '8139.jpg', '8093.jpg', '8121.jpg', '8171.jpg', '8159.jpg', '8042.jpg', '810.jpg', '8243.jpg', '8100.jpg', '8114.jpg', '809.jpg', '801.jpg', '8241.jpg', '8271.jpg', '8018.jpg', '8131.jpg', '8151.jpg', '8228.jpg', '8065.jpg', '8292.jpg', '8202.jpg', '8107.jpg', '8683.jpg', '8518.jpg', '8385.jpg', '8752.jpg', '8538.jpg', '8630.jpg', '8357.jpg', '8376.jpg', '8622.jpg', '8513.jpg', '8623.jpg', '8382.jpg', '8444.jpg', '8658.jpg', '8418.jpg', '8525.jpg', '8367.jpg', '8746.jpg', '8619.jpg', '8421.jpg', '8312.jpg', '8748.jpg', '8682.jpg', '8659.jpg', '8713.jpg', '8577.jpg', '8430.jpg', '8380.jpg', '8397.jpg', '8324.jpg', '8604.jpg', '8601.jpg', '835.jpg', '8363.jpg', '8481.jpg', '8542.jpg', '8358.jpg', '8705.jpg', '8431.jpg', '8318.jpg', '8556.jpg', '8639.jpg', '8458.jpg', '869.jpg', '8592.jpg', '864.jpg', '847.jpg', '8475.jpg', '8342.jpg', '8596.jpg', '8602.jpg', '8553.jpg', '8399.jpg', '8390.jpg', '8701.jpg', '8360.jpg', '8366.jpg', '8647.jpg', '8474.jpg', '8723.jpg', '8435.jpg', '8777.jpg', '8824.jpg', '8838.jpg', '8801.jpg', '8813.jpg', '8792.jpg', '8903.jpg', '8797.jpg', '8915.jpg', '8921.jpg', '8786.jpg', '8891.jpg', '8912.jpg', '8896.jpg', '8788.jpg', '8933.jpg', '8948.jpg', '8821.jpg', '8914.jpg', '8897.jpg', '8810.jpg', '8830.jpg', '8878.jpg', '8923.jpg', '8822.jpg', '8843.jpg', '8859.jpg', '878.jpg', '9135.jpg', '9446.jpg', '9112.jpg', '9196.jpg', '9208.jpg', '9173.jpg', '9243.jpg', '9312.jpg', '9364.jpg', '9329.jpg', '9458.jpg', '9018.jpg', '92.jpg', '9037.jpg', '9283.jpg', '9157.jpg', '9369.jpg', '9151.jpg', '9095.jpg', '9353.jpg', '906.jpg', '9217.jpg', '8964.jpg', '9281.jpg', '8985.jpg', '8976.jpg', '9127.jpg', '9355.jpg', '909.jpg', '9202.jpg', '897.jpg', '9241.jpg', '9042.jpg', '9291.jpg', '8966.jpg', '9002.jpg', '9332.jpg', '9410.jpg', '9189.jpg', '9345.jpg', '9191.jpg', '8998.jpg', '9400.jpg', '9059.jpg', '9007.jpg', '9432.jpg', '9404.jpg', '9231.jpg', '9297.jpg', '9117.jpg', '9032.jpg', '9019.jpg', '904.jpg', '9699.jpg', '9656.jpg', '9570.jpg', '9725.jpg', '9637.jpg', '9487.jpg', '9737.jpg', '9680.jpg', '9622.jpg', '968.jpg', '9736.jpg', '9627.jpg', '9520.jpg', '96.jpg', '9673.jpg', '9501.jpg', '9684.jpg', '963.jpg', '9537.jpg', '9527.jpg', '9517.jpg', '9540.jpg', '967.jpg', '9716.jpg', '9578.jpg', '9750.jpg', '9498.jpg', '960.jpg', '9631.jpg', '9526.jpg', '9925.jpg', '9913.jpg', '9929.jpg', '9768.jpg', '9810.jpg', '9807.jpg', '9757.jpg', '993.jpg', '9922.jpg', '9905.jpg', '9862.jpg', '990.jpg', '9899.jpg', '9769.jpg', '9948.jpg', '9785.jpg', '9932.jpg', '9938.jpg', '991.jpg', '9921.jpg', '9821.jpg', '9946.jpg', '9962.jpg', '9762.jpg', '9942.jpg', '9764.jpg', '9918.jpg', '9966.jpg', '9977.jpg', '9811.jpg', '9767.jpg', '9819.jpg', '11601.jpg', '11530.jpg', '11628.jpg', '11523.jpg', '11855.jpg', '11499.jpg', '11622.jpg', '11731.jpg', '11899.jpg', '11929.jpg', '11568.jpg', '11658.jpg', '11795.jpg', '11605.jpg', '11599.jpg', '11808.jpg', '11425.jpg', '11418.jpg', '11788.jpg', '11494.jpg', '11627.jpg', '11594.jpg', '11753.jpg', '11696.jpg', '11910.jpg', '1161.jpg', '11613.jpg', '1204.jpg', '12024.jpg', '11941.jpg', '11990.jpg', '12028.jpg', '12060.jpg', '11937.jpg', '12000.jpg', '12010.jpg', '11945.jpg', '11947.jpg', '11991.jpg', '12058.jpg', '12050.jpg', '11959.jpg', '1201.jpg', '1196.jpg', '11992.jpg', '11961.jpg', '1193.jpg', '11993.jpg', '12042.jpg', '12400.jpg', '12221.jpg', '12232.jpg', '12265.jpg', '12427.jpg', '1220.jpg', '12494.jpg', '12417.jpg', '12288.jpg', '1244.jpg', '12169.jpg', '12348.jpg', '125.jpg', '12231.jpg', '12070.jpg', '12065.jpg', '12295.jpg', '12273.jpg', '12426.jpg', '12091.jpg', '12200.jpg', '12134.jpg', '1248.jpg', '12157.jpg', '12067.jpg', '12171.jpg', '12172.jpg', '12223.jpg', '12268.jpg', '1221.jpg', '12435.jpg', '12406.jpg', '12063.jpg', '12263.jpg', '12233.jpg', '12244.jpg', '12103.jpg', '12257.jpg', '12432.jpg', '12315.jpg', '12384.jpg', '12382.jpg', '12068.jpg', '12280.jpg', '12451.jpg', '12330.jpg', '12391.jpg', '12135.jpg', '12160.jpg', '1242.jpg', '12393.jpg', '12462.jpg', '12168.jpg', '12396.jpg', '1231.jpg', '12489.jpg', '12290.jpg', '12144.jpg', '12193.jpg', '12561.jpg', '12517.jpg', '12617.jpg', '12513.jpg', '12629.jpg', '12507.jpg', '12552.jpg', '12578.jpg', '12590.jpg', '12533.jpg', '12544.jpg', '12500.jpg', '12535.jpg', '12555.jpg', '12536.jpg', '12636.jpg', '1263.jpg', '12632.jpg', '12540.jpg', '12551.jpg', '12512.jpg', '12543.jpg', '12615.jpg', '12602.jpg', '12864.jpg', '12685.jpg', '12770.jpg', '12659.jpg', '1291.jpg', '12994.jpg', '12719.jpg', '12817.jpg', '12782.jpg', '12758.jpg', '12755.jpg', '12874.jpg', '12963.jpg', '12734.jpg', '12684.jpg', '12729.jpg', '12943.jpg', '12802.jpg', '12913.jpg', '12973.jpg', '12733.jpg', '12692.jpg', '12668.jpg', '12736.jpg', '1281.jpg', '1273.jpg', '12789.jpg', '12990.jpg', '12680.jpg', '12996.jpg', '12716.jpg', '12761.jpg', '12938.jpg', '12720.jpg', '13023.jpg', '12934.jpg', '12669.jpg', '12942.jpg', '12649.jpg', '12939.jpg', '12863.jpg', '12744.jpg', '12982.jpg', '12827.jpg', '12741.jpg', '12727.jpg', '12703.jpg', '12766.jpg', '12818.jpg', '13008.jpg', '13024.jpg', '12930.jpg', '12887.jpg', '12925.jpg', '13010.jpg', '12999.jpg', '13308.jpg', '13027.jpg', '13135.jpg', '13170.jpg', '13236.jpg', '13131.jpg', '13238.jpg', '13111.jpg', '13188.jpg', '13234.jpg', '13222.jpg', '13213.jpg', '1311.jpg', '13082.jpg', '13276.jpg', '13253.jpg', '13216.jpg', '1303.jpg', '13191.jpg', '13220.jpg', '13050.jpg', '13183.jpg', '13184.jpg', '13079.jpg', '13284.jpg', '13171.jpg', '13124.jpg', '13258.jpg', '13287.jpg', '13247.jpg', '1317.jpg', '13143.jpg', '1325.jpg', '13533.jpg', '13409.jpg', '13463.jpg', '1332.jpg', '13579.jpg', '13383.jpg', '13477.jpg', '13395.jpg', '13537.jpg', '13474.jpg', '13540.jpg', '13472.jpg', '13534.jpg', '13357.jpg', '13568.jpg', '13486.jpg', '1343.jpg', '13511.jpg', '13478.jpg', '13364.jpg', '13470.jpg', '13371.jpg', '13538.jpg', '1333.jpg', '13453.jpg', '13490.jpg', '13352.jpg', '13452.jpg', '13404.jpg', '13526.jpg', '13315.jpg', '13432.jpg', '13400.jpg', '13377.jpg', '13590.jpg', '13338.jpg', '13583.jpg', '13480.jpg', '13681.jpg', '13640.jpg', '13822.jpg', '13770.jpg', '13674.jpg', '13649.jpg', '13629.jpg', '13843.jpg', '13813.jpg', '13624.jpg', '13745.jpg', '13812.jpg', '13779.jpg', '13848.jpg', '137.jpg', '13741.jpg', '13689.jpg', '1366.jpg', '13697.jpg', '13603.jpg', '13753.jpg', '13777.jpg', '13746.jpg', '13844.jpg', '13815.jpg', '13827.jpg', '13599.jpg', '13609.jpg', '13823.jpg', '13806.jpg', '13621.jpg', '1363.jpg', '13846.jpg', '13676.jpg', '13835.jpg', '13796.jpg', '13735.jpg', '13702.jpg', '13622.jpg', '13790.jpg', '13951.jpg', '13860.jpg', '13961.jpg', '13863.jpg', '13882.jpg', '13969.jpg', '13901.jpg', '13916.jpg', '13905.jpg', '1391.jpg', '13946.jpg', '13888.jpg', '13932.jpg', '139.jpg', '13943.jpg', '1395.jpg', '14389.jpg', '14114.jpg', '14297.jpg', '14467.jpg', '14124.jpg', '14016.jpg', '14004.jpg', '14094.jpg', '14022.jpg', '14410.jpg', '14217.jpg', '14456.jpg', '142.jpg', '14158.jpg', '14247.jpg', '1415.jpg', '14434.jpg', '14261.jpg', '14383.jpg', '14300.jpg', '1413.jpg', '14294.jpg', '13978.jpg', '14295.jpg', '14182.jpg', '14416.jpg', '14148.jpg', '14464.jpg', '14439.jpg', '14447.jpg', '14525.jpg', '14246.jpg', '1403.jpg', '14212.jpg', '14474.jpg', '13982.jpg', '14231.jpg', '14454.jpg', '14161.jpg', '14184.jpg', '14218.jpg', '14205.jpg', '14372.jpg', '14035.jpg', '14194.jpg', '14001.jpg', '14318.jpg', '14092.jpg', '1445.jpg', '14365.jpg', '1406.jpg', '13983.jpg', '14189.jpg', '14521.jpg', '14321.jpg', '14284.jpg', '14081.jpg', '14014.jpg', '1429.jpg', '14681.jpg', '14708.jpg', '14651.jpg', '14705.jpg', '14661.jpg', '14731.jpg', '14723.jpg', '14662.jpg', '14707.jpg', '14649.jpg', '14721.jpg', '146.jpg', '14577.jpg', '14704.jpg', '14556.jpg', '14694.jpg', '14673.jpg', '14677.jpg', '14565.jpg', '14738.jpg', '14543.jpg', '14568.jpg', '14548.jpg', '14576.jpg', '14535.jpg', '14691.jpg', '1471.jpg', '14710.jpg', '14823.jpg', '15071.jpg', '14749.jpg', '14870.jpg', '14830.jpg', '15064.jpg', '14883.jpg', '14896.jpg', '14837.jpg', '14852.jpg', '14984.jpg', '15078.jpg', '15176.jpg', '1482.jpg', '14769.jpg', '15146.jpg', '15030.jpg', '15048.jpg', '14816.jpg', '14856.jpg', '14885.jpg', '15147.jpg', '14857.jpg', '14952.jpg', '14958.jpg', '14898.jpg', '15061.jpg', '14783.jpg', '14854.jpg', '15026.jpg', '15052.jpg', '14991.jpg', '14894.jpg', '14756.jpg', '15141.jpg', '14766.jpg', '14826.jpg', '15042.jpg', '14847.jpg', '15098.jpg', '14808.jpg', '14918.jpg', '14758.jpg', '15140.jpg', '14799.jpg', '15091.jpg', '14892.jpg', '1501.jpg', '14912.jpg', '14876.jpg', '14820.jpg', '14968.jpg', '14760.jpg', '14744.jpg', '1503.jpg', '14947.jpg', '14868.jpg', '14916.jpg', '15216.jpg', '15109.jpg', '15045.jpg', '14903.jpg', '1539.jpg', '15223.jpg', '15346.jpg', '15242.jpg', '15288.jpg', '15261.jpg', '15398.jpg', '15324.jpg', '15361.jpg', '15227.jpg', '154.jpg', '15291.jpg', '15331.jpg', '15404.jpg', '15345.jpg', '15334.jpg', '15322.jpg', '15344.jpg', '15405.jpg', '15320.jpg', '15293.jpg', '15236.jpg', '15397.jpg', '15218.jpg', '15304.jpg', '15238.jpg', '15374.jpg', '15451.jpg', '15542.jpg', '15538.jpg', '15428.jpg', '1546.jpg', '1542.jpg', '15515.jpg', '15523.jpg', '15491.jpg', '1550.jpg', '15518.jpg', '15487.jpg', '15439.jpg', '15528.jpg', '15514.jpg', '15409.jpg', '15429.jpg', '15690.jpg', '1569.jpg', '15673.jpg', '15545.jpg', '15641.jpg', '1560.jpg', '15626.jpg', '15587.jpg', '15596.jpg', '15653.jpg', '1563.jpg', '15674.jpg', '15675.jpg', '15693.jpg', '15624.jpg', '15573.jpg', '15577.jpg', '1562.jpg', '157.jpg', '15992.jpg', '15827.jpg', '16006.jpg', '1593.jpg', '15768.jpg', '15701.jpg', '15734.jpg', '15792.jpg', '15714.jpg', '15784.jpg', '15906.jpg', '1580.jpg', '15791.jpg', '15944.jpg', '15959.jpg', '15955.jpg', '15743.jpg', '15985.jpg', '15729.jpg', '15877.jpg', '15796.jpg', '15973.jpg', '15815.jpg', '15966.jpg', '15861.jpg', '15920.jpg', '15824.jpg', '15749.jpg', '15905.jpg', '15956.jpg', '15945.jpg', '15871.jpg', '15742.jpg', '1587.jpg', '16020.jpg', '15822.jpg', '15938.jpg', '15794.jpg', '15988.jpg', '158.jpg', '15787.jpg', '15845.jpg', '15730.jpg', '15864.jpg', '15962.jpg', '15699.jpg', '16280.jpg', '16208.jpg', '1630.jpg', '16115.jpg', '16243.jpg', '16279.jpg', '16199.jpg', '16166.jpg', '16059.jpg', '16123.jpg', '16095.jpg', '16064.jpg', '16141.jpg', '1610.jpg', '16221.jpg', '1623.jpg', '1629.jpg', '16078.jpg', '16183.jpg', '16274.jpg', '16160.jpg', '1611.jpg', '16171.jpg', '1622.jpg', '16289.jpg', '16234.jpg', '16272.jpg', '16079.jpg', '16159.jpg', '16137.jpg', '16057.jpg', '16100.jpg', '16594.jpg', '1656.jpg', '16432.jpg', '16457.jpg', '16793.jpg', '16423.jpg', '16607.jpg', '16455.jpg', '16624.jpg', '16478.jpg', '16463.jpg', '16569.jpg', '16800.jpg', '16774.jpg', '16672.jpg', '16550.jpg', '16562.jpg', '16488.jpg', '16507.jpg', '16575.jpg', '16753.jpg', '16314.jpg', '16795.jpg', '16466.jpg', '16643.jpg', '16730.jpg', '16593.jpg', '16452.jpg', '16483.jpg', '16339.jpg', '16543.jpg', '16681.jpg', '16346.jpg', '16578.jpg', '16564.jpg', '16734.jpg', '1647.jpg', '16413.jpg', '16623.jpg', '16362.jpg', '16567.jpg', '16807.jpg', '16431.jpg', '16315.jpg', '16547.jpg', '16577.jpg', '16579.jpg', '1643.jpg', '16595.jpg', '16733.jpg', '16324.jpg', '16395.jpg', '16750.jpg', '16456.jpg', '16538.jpg', '16692.jpg', '16559.jpg', '16377.jpg', '1668.jpg', '1636.jpg', '16326.jpg', '16349.jpg', '16614.jpg', '16500.jpg', '16786.jpg', '1716.jpg', '17064.jpg', '17161.jpg', '16933.jpg', '16808.jpg', '17236.jpg', '17094.jpg', '16952.jpg', '17235.jpg', '17187.jpg', '16813.jpg', '17033.jpg', '17202.jpg', '17085.jpg', '17065.jpg', '16948.jpg', '16902.jpg', '1693.jpg', '16912.jpg', '17267.jpg', '16988.jpg', '16985.jpg', '17154.jpg', '17055.jpg', '17270.jpg', '17262.jpg', '16965.jpg', '1683.jpg', '17198.jpg', '1684.jpg', '17264.jpg', '16939.jpg', '1718.jpg', '16873.jpg', '17075.jpg', '17000.jpg', '17225.jpg', '16979.jpg', '16888.jpg', '16889.jpg', '17058.jpg', '17211.jpg', '16837.jpg', '17073.jpg', '17156.jpg', '17165.jpg', '1687.jpg', '17032.jpg', '16931.jpg', '17193.jpg', '16911.jpg', '17403.jpg', '17503.jpg', '17480.jpg', '17462.jpg', '17451.jpg', '17495.jpg', '17406.jpg', '1739.jpg', '17332.jpg', '17345.jpg', '17338.jpg', '17401.jpg', '17418.jpg', '17272.jpg', '17397.jpg', '17302.jpg', '17453.jpg', '17450.jpg', '17425.jpg', '17416.jpg', '17308.jpg', '17296.jpg', '17337.jpg', '17322.jpg', '17457.jpg', '17273.jpg', '17330.jpg', '17427.jpg', '17452.jpg', '17354.jpg', '17468.jpg', '17491.jpg', '17479.jpg', '17719.jpg', '17764.jpg', '17563.jpg', '17609.jpg', '17520.jpg', '17575.jpg', '17825.jpg', '1751.jpg', '1763.jpg', '17574.jpg', '17731.jpg', '17830.jpg', '17594.jpg', '17516.jpg', '17750.jpg', '17771.jpg', '17541.jpg', '17687.jpg', '17602.jpg', '17805.jpg', '17662.jpg', '17551.jpg', '17806.jpg', '17605.jpg', '17560.jpg', '1760.jpg', '17793.jpg', '17545.jpg', '17821.jpg', '17751.jpg', '17835.jpg', '17636.jpg', '17552.jpg', '17537.jpg', '17590.jpg', '17673.jpg', '1753.jpg', '17718.jpg', '17539.jpg', '17581.jpg', '18056.jpg', '17912.jpg', '17951.jpg', '17898.jpg', '18017.jpg', '18026.jpg', '17896.jpg', '17983.jpg', '17953.jpg', '17875.jpg', '17868.jpg', '17973.jpg', '18050.jpg', '1786.jpg', '18072.jpg', '18025.jpg', '18034.jpg', '17906.jpg', '17981.jpg', '17932.jpg', '17956.jpg', '18029.jpg', '18084.jpg', '17977.jpg', '18037.jpg', '18105.jpg', '17903.jpg', '17891.jpg', '17873.jpg', '1787.jpg', '18087.jpg', '18045.jpg', '17853.jpg', '18099.jpg', '17969.jpg', '17989.jpg', '18079.jpg', '18052.jpg', '18133.jpg', '18203.jpg', '18456.jpg', '18156.jpg', '18252.jpg', '18115.jpg', '18548.jpg', '18279.jpg', '18438.jpg', '18375.jpg', '18538.jpg', '18546.jpg', '18234.jpg', '18560.jpg', '18412.jpg', '18397.jpg', '18312.jpg', '18467.jpg', '18237.jpg', '18240.jpg', '18291.jpg', '18335.jpg', '18283.jpg', '18157.jpg', '18415.jpg', '18166.jpg', '18435.jpg', '18258.jpg', '18449.jpg', '18260.jpg', '18321.jpg', '18364.jpg', '18272.jpg', '18542.jpg', '18389.jpg', '18419.jpg', '1850.jpg', '18195.jpg', '1846.jpg', '18151.jpg', '18140.jpg', '18235.jpg', '18331.jpg', '18496.jpg', '18289.jpg', '18550.jpg', '18201.jpg', '18344.jpg', '18446.jpg', '18182.jpg', '18167.jpg', '18324.jpg', '18342.jpg', '18593.jpg', '18815.jpg', '18580.jpg', '1872.jpg', '18758.jpg', '18756.jpg', '18743.jpg', '18772.jpg', '18771.jpg', '18881.jpg', '18639.jpg', '18694.jpg', '18814.jpg', '18824.jpg', '18875.jpg', '18668.jpg', '1859.jpg', '18565.jpg', '18846.jpg', '18854.jpg', '18793.jpg', '18564.jpg', '18672.jpg', '18769.jpg', '18720.jpg', '18725.jpg', '18777.jpg', '1867.jpg', '18592.jpg', '18791.jpg', '18794.jpg', '18676.jpg', '18797.jpg', '18755.jpg', '18767.jpg', '18752.jpg', '18655.jpg', '1879.jpg', '1877.jpg', '18602.jpg', '188.jpg', '19256.jpg', '19056.jpg', '19089.jpg', '19127.jpg', '19151.jpg', '18959.jpg', '19386.jpg', '18951.jpg', '1937.jpg', '19260.jpg', '18902.jpg', '18934.jpg', '191.jpg', '18893.jpg', '19364.jpg', '19344.jpg', '18922.jpg', '18883.jpg', '19245.jpg', '19003.jpg', '1900.jpg', '19325.jpg', '19228.jpg', '18992.jpg', '19023.jpg', '19374.jpg', '18991.jpg', '18962.jpg', '19080.jpg', '19036.jpg', '19249.jpg', '19302.jpg', '19217.jpg', '19101.jpg', '1891.jpg', '19405.jpg', '18917.jpg', '19153.jpg', '1940.jpg', '19077.jpg', '1901.jpg', '19180.jpg', '18887.jpg', '18971.jpg', '19375.jpg', '19280.jpg', '19293.jpg', '19221.jpg', '19108.jpg', '19126.jpg', '18885.jpg', '19164.jpg', '19159.jpg', '19150.jpg', '18919.jpg', '18993.jpg', '19016.jpg', '19125.jpg', '19104.jpg', '18938.jpg', '19347.jpg', '19078.jpg', '19383.jpg', '19032.jpg', '19057.jpg', '19332.jpg', '19134.jpg', '19440.jpg', '19571.jpg', '19537.jpg', '19595.jpg', '19552.jpg', '19624.jpg', '1955.jpg', '10196.jpg', '10144.jpg', '10056.jpg', '10032.jpg', '10185.jpg', '1012.jpg', '0.jpg', '10113.jpg', '10176.jpg', '10006.jpg', '10191.jpg', '10184.jpg', '10014.jpg', '10210.jpg', '10029.jpg', '10205.jpg', '1001.jpg', '10151.jpg', '10198.jpg', '1009.jpg', '10126.jpg', '10018.jpg', '10161.jpg', '10165.jpg', '10695.jpg', '10328.jpg', '1064.jpg', '10452.jpg', '10480.jpg', '10306.jpg', '1028.jpg', '1055.jpg', '10318.jpg', '10421.jpg', '10656.jpg', '10466.jpg', '10641.jpg', '10576.jpg', '10502.jpg', '10495.jpg', '10570.jpg', '10231.jpg', '10383.jpg', '10553.jpg', '10582.jpg', '1041.jpg', '10598.jpg', '10608.jpg', '10252.jpg', '10310.jpg', '10295.jpg', '10444.jpg', '10266.jpg', '10511.jpg', '10499.jpg', '10489.jpg', '10520.jpg', '10559.jpg', '10257.jpg', '10626.jpg', '10303.jpg', '10357.jpg', '1058.jpg', '10374.jpg', '10672.jpg', '10228.jpg', '10316.jpg', '10367.jpg', '10362.jpg', '10251.jpg', '10500.jpg', '10630.jpg', '10278.jpg', '10485.jpg', '10528.jpg', '10312.jpg', '10646.jpg', '10402.jpg', '10620.jpg', '10350.jpg', '10653.jpg', '1045.jpg', '10872.jpg', '10865.jpg', '10809.jpg', '10849.jpg', '10744.jpg', '1093.jpg', '10699.jpg', '10832.jpg', '10792.jpg', '1090.jpg', '10886.jpg', '10924.jpg', '10798.jpg', '10730.jpg', '10812.jpg', '10911.jpg', '10978.jpg', '10754.jpg', '10828.jpg', '10921.jpg', '10790.jpg', '10842.jpg', '10756.jpg', '10892.jpg', '10831.jpg', '10878.jpg', '10805.jpg', '10963.jpg', '10936.jpg', '10720.jpg', '10717.jpg', '10899.jpg', '10997.jpg', '11055.jpg', '11259.jpg', '11181.jpg', '11345.jpg', '11235.jpg', '1112.jpg', '11209.jpg', '11197.jpg', '11011.jpg', '11316.jpg', '11098.jpg', '11315.jpg', '112.jpg', '11274.jpg', '11042.jpg', '11037.jpg', '11249.jpg', '11334.jpg', '11309.jpg', '11203.jpg', '11307.jpg', '11363.jpg', '11290.jpg', '11317.jpg', '11278.jpg', '11226.jpg', '1107.jpg', '11054.jpg', '11108.jpg', '11117.jpg', '11084.jpg', '11302.jpg', '11305.jpg', '11131.jpg', '11306.jpg', '11244.jpg', '11338.jpg', '11024.jpg', '1104.jpg', '11366.jpg', '11173.jpg', '11323.jpg', '11349.jpg', '11045.jpg', '11187.jpg', '11003.jpg', '11157.jpg', '11077.jpg', '11827.jpg', '11700.jpg', '11595.jpg', '11560.jpg', '11845.jpg', '11477.jpg', '11670.jpg', '11718.jpg', '11569.jpg', '11570.jpg', '11471.jpg', '11620.jpg', '11924.jpg', '11428.jpg', '11374.jpg', '11635.jpg', '11883.jpg', '11371.jpg', '11796.jpg', '11483.jpg', '11642.jpg', '11780.jpg', '11410.jpg', '11621.jpg', '11813.jpg', '11458.jpg', '11378.jpg', '11502.jpg']\n"
          ]
        }
      ]
    },
    {
      "cell_type": "code",
      "source": [
        "all_extensions = set()  # Para almacenar todas las extensiones encontradas\n",
        "\n",
        "# Iterar sobre cada subdirectorio en \"train_set\"\n",
        "for folder in os.listdir(\"train_set\"):\n",
        "    # Determinar las extensiones de archivos en el subdirectorio actual\n",
        "    extensions = {os.path.splitext(file)[1].lower() for file in os.listdir(f\"train_set/{folder}\")}\n",
        "    all_extensions.update(extensions)\n",
        "\n",
        "    print(f\"Para la carpeta {folder}:\")\n",
        "    print(extensions)\n",
        "    print(\"-\" * 50)\n",
        "\n",
        "print(\"Todas las extensiones encontradas:\", all_extensions)"
      ],
      "metadata": {
        "colab": {
          "base_uri": "https://localhost:8080/"
        },
        "id": "JxwTzTtELq52",
        "outputId": "9824d389-efdf-4d74-c7bc-93fac39c5c93"
      },
      "execution_count": 9,
      "outputs": [
        {
          "output_type": "stream",
          "name": "stdout",
          "text": [
            "Para la carpeta street:\n",
            "{'.jpg'}\n",
            "--------------------------------------------------\n",
            "Para la carpeta forest:\n",
            "{'.jpg'}\n",
            "--------------------------------------------------\n",
            "Para la carpeta mountain:\n",
            "{'.jpg'}\n",
            "--------------------------------------------------\n",
            "Para la carpeta buildings:\n",
            "{'.jpg'}\n",
            "--------------------------------------------------\n",
            "Para la carpeta glacier:\n",
            "{'.jpg'}\n",
            "--------------------------------------------------\n",
            "Para la carpeta sea:\n",
            "{'.jpg'}\n",
            "--------------------------------------------------\n",
            "Todas las extensiones encontradas: {'.jpg'}\n"
          ]
        }
      ]
    },
    {
      "cell_type": "code",
      "source": [
        "import torch.nn as nn\n",
        "import matplotlib.pyplot as plt\n",
        "import torch.nn.functional as F\n",
        "from torchvision import transforms\n",
        "from sklearn.metrics import accuracy_score, confusion_matrix\n",
        "import time\n",
        "import torch\n",
        "\n",
        "class CustomCNN(nn.Module):\n",
        "  def __init__(self, in_channels,number_classes):\n",
        "    # in_channels: int, cantidad de canales de la imagen original\n",
        "    super(CustomCNN, self).__init__()\n",
        "    self.conv1 = nn.Conv2d(in_channels, out_channels = 32, kernel_size = 3,padding=1)\n",
        "    self.conv2 = nn.Conv2d(in_channels = 32, out_channels = 32, kernel_size = 3,padding=1)\n",
        "    self.conv3 = nn.Conv2d(in_channels = 32, out_channels = 64, kernel_size = 3,padding=1)\n",
        "    self.conv4 = nn.Conv2d(in_channels = 64, out_channels = 64, kernel_size = 3,padding=1)\n",
        "    self.conv5 = nn.Conv2d(in_channels = 64, out_channels = 120, kernel_size = 3,padding=1)\n",
        "\n",
        "    self.linear1 = nn.Linear(in_features = 120*18*18, out_features = 512)\n",
        "    self.linear2 = nn.Linear(in_features = 512, out_features = number_classes)\n",
        "\n",
        "    self.max_pooling = nn.MaxPool2d(kernel_size = 2, stride = 2)\n",
        "    self.dropout = nn.Dropout(p=0.5)\n",
        "\n",
        "  def forward(self, x):\n",
        "    out = F.relu(self.conv1(x))\n",
        "    out = F.relu(self.conv2(out))\n",
        "    out = self.max_pooling(out)\n",
        "\n",
        "    out = F.relu(self.conv3(out))\n",
        "    out = F.relu(self.conv4(out))\n",
        "    out = self.max_pooling(out)\n",
        "\n",
        "    out = F.relu(self.conv5(out))\n",
        "    out = self.max_pooling(out)\n",
        "\n",
        "    out = self.dropout(out).flatten(1)\n",
        "\n",
        "    out = F.relu(self.linear1(out))\n",
        "    out = self.dropout(out)\n",
        "    out = self.linear2(out)\n",
        "    return out"
      ],
      "metadata": {
        "id": "nlu90T8YB1nq"
      },
      "execution_count": 10,
      "outputs": []
    },
    {
      "cell_type": "code",
      "source": [
        "# def get_dataloaders(train_dataset, test_dataset, batch_size):\n",
        "\n",
        "#     train_size = int(0.8 * len(train_dataset))\n",
        "#     valid_size = len(train_dataset) - train_size\n",
        "#     train_dataset, validation_dataset = torch.utils.data.random_split(train_dataset, [train_size, valid_size])\n",
        "\n",
        "#     train_loader = DataLoader(train_dataset, batch_size=batch_size, shuffle=True, pin_memory=True, num_workers=4)\n",
        "#     valid_loader = DataLoader(validation_dataset, batch_size=batch_size, shuffle=True, pin_memory=True, num_workers=4)\n",
        "#     test_loader = DataLoader(test_dataset, batch_size=batch_size, shuffle=True, pin_memory=True, num_workers=4)\n",
        "\n",
        "#     return train_loader, valid_loader, test_loader\n",
        "from sklearn.metrics import precision_score, recall_score, f1_score, accuracy_score\n",
        "from torch.utils.tensorboard import SummaryWriter\n",
        "writer = SummaryWriter('runs/experimento_1')\n",
        "\n",
        "def train_epoch(training_model, loader, criterion, optim):\n",
        "    training_model.train()\n",
        "    epoch_loss = 0.0\n",
        "    all_labels = []\n",
        "    all_predictions = []\n",
        "\n",
        "    for images, labels in loader:\n",
        "      all_labels.extend(labels.numpy())\n",
        "\n",
        "      optim.zero_grad()\n",
        "\n",
        "      predictions = training_model(images.to(device))\n",
        "      all_predictions.extend(torch.argmax(predictions, dim=1).cpu().numpy())\n",
        "\n",
        "      loss = criterion(predictions, labels.to(device))\n",
        "\n",
        "      loss.backward()\n",
        "      optim.step()\n",
        "\n",
        "      epoch_loss += loss.item()\n",
        "\n",
        "      precision = precision_score(all_labels, all_predictions, average='macro', zero_division=0)\n",
        "      recall = recall_score(all_labels, all_predictions, average='macro', zero_division=1)\n",
        "      f1 = f1_score(all_labels, all_predictions, average='macro')\n",
        "\n",
        "    return epoch_loss / len(loader), accuracy_score(all_labels, all_predictions) * 100, precision, recall, f1\n",
        "\n",
        "\n",
        "def validation_epoch(val_model, loader, criterion):\n",
        "    val_model.eval()\n",
        "    epoch_loss = 0.0\n",
        "    all_labels = []\n",
        "    all_predictions = []\n",
        "\n",
        "    with torch.no_grad():\n",
        "      for images, labels in loader:\n",
        "        all_labels.extend(labels.numpy())\n",
        "\n",
        "        predictions = val_model(images.to(device))\n",
        "        all_predictions.extend(torch.argmax(predictions, dim=1).cpu().numpy())\n",
        "\n",
        "        loss = criterion(predictions, labels.to(device))\n",
        "\n",
        "        epoch_loss += loss.item()\n",
        "        precision = precision_score(all_labels, all_predictions, average='macro', zero_division=0)\n",
        "        recall = recall_score(all_labels, all_predictions, average='macro', zero_division=1)\n",
        "        f1 = f1_score(all_labels, all_predictions, average='macro')\n",
        "\n",
        "    return epoch_loss / len(loader), accuracy_score(all_labels, all_predictions) * 100, precision, recall, f1\n",
        "\n",
        "\n",
        "def train_model(model, train_loader, test_loader, criterion, optim, number_epochs,experiment_name='experimento_1'):\n",
        "  train_history = []\n",
        "  test_history = []\n",
        "  accuracy_history = []\n",
        "  writer = SummaryWriter(f'runs/{experiment_name}')  # Inicializar el escritor de TensorBoard\n",
        "\n",
        "\n",
        "  for epoch in range(number_epochs):\n",
        "      start_time = time.time()\n",
        "\n",
        "      train_loss, train_acc, train_precision, train_recall, train_f1 = train_epoch(model, train_loader, criterion, optimizer)\n",
        "      # Registrar métricas de entrenamiento en TensorBoard\n",
        "      writer.add_scalar('Training Loss', train_loss, epoch)\n",
        "      writer.add_scalar('Training Accuracy', train_acc, epoch)\n",
        "      writer.add_scalar('Training Precision', train_precision, epoch)\n",
        "      writer.add_scalar('Training Recall', train_recall, epoch)\n",
        "      writer.add_scalar('Training F1', train_f1, epoch)\n",
        "\n",
        "      train_history.append(train_loss)\n",
        "      print(\"Training epoch {} | Loss {:.6f} | Accuracy {:.2f}% | Precision {:.2f}% | Recall {:.2f}% | F1 Score {:.2f}% | Time {:.2f} seconds\"\n",
        "              .format(epoch + 1, train_loss, train_acc, train_precision*100, train_recall*100, train_f1*100, time.time() - start_time))\n",
        "      # print(\"Training epoch {} | Loss {:.6f} | Accuracy {:.2f}% | Time {:.2f} seconds\"\n",
        "      #       .format(epoch + 1, train_loss, train_acc, time.time() - start_time))\n",
        "\n",
        "      start_time = time.time()\n",
        "      test_loss, acc, val_precision, val_recall, val_f1 = validation_epoch(model, test_loader, criterion)\n",
        "\n",
        "      # Registrar métricas de validación en TensorBoard\n",
        "      writer.add_scalar('Validation Loss', test_loss, epoch)\n",
        "      writer.add_scalar('Validation Accuracy', acc, epoch)\n",
        "      writer.add_scalar('Validation Precision', val_precision, epoch)\n",
        "      writer.add_scalar('Validation Recall', val_recall, epoch)\n",
        "      writer.add_scalar('Validation F1', val_f1, epoch)\n",
        "\n",
        "      test_history.append(test_loss)\n",
        "      accuracy_history.append(acc)\n",
        "      # print(\"Validation epoch {} | Loss {:.6f} | Accuracy {:.2f}% | Time {:.2f} seconds\"\n",
        "      #       .format(epoch + 1, test_loss, acc, time.time() - start_time))\n",
        "      print(\"Validation epoch {} | Loss {:.6f} | Accuracy {:.2f}% | Precision {:.2f}% | Recall {:.2f}% | F1 Score {:.2f}% | Time {:.2f} seconds\"\n",
        "              .format(epoch + 1, test_loss, acc, val_precision*100, val_recall*100, val_f1*100, time.time() - start_time))\n",
        "\n",
        "def test_model(test_model, loader, criterion):\n",
        "    test_model.eval()\n",
        "    epoch_loss = 0.0\n",
        "    all_labels = []\n",
        "    all_predictions = []\n",
        "\n",
        "    with torch.no_grad():\n",
        "        for images, labels in loader:\n",
        "            all_labels.extend(labels.numpy())\n",
        "\n",
        "            predictions = test_model(images.to(device))\n",
        "            all_predictions.extend(torch.argmax(predictions, dim=1).cpu().numpy())\n",
        "\n",
        "            loss = criterion(predictions, labels.to(device))\n",
        "            epoch_loss += loss.item()\n",
        "\n",
        "            precision = precision_score(all_labels, all_predictions, average='macro', zero_division=0)\n",
        "            recall = recall_score(all_labels, all_predictions, average='macro', zero_division=1)\n",
        "            f1 = f1_score(all_labels, all_predictions, average='macro')\n",
        "\n",
        "        print(\"Test | Loss {:.6f} | Accuracy {:.2f}% | Precision {:.2f}% | Recall {:.2f}% | F1 Score {:.2f}%\"\n",
        "      .format(epoch_loss / len(loader), accuracy_score(all_labels, all_predictions) * 100, precision*100, recall*100, f1*100))\n",
        "\n",
        "\n",
        "    return epoch_loss / len(loader), accuracy_score(all_labels, all_predictions) * 100, precision, recall, f1\n",
        "\n",
        "device = torch.device('cuda:0' if torch.cuda.is_available() else 'cpu')\n",
        "print(device)"
      ],
      "metadata": {
        "colab": {
          "base_uri": "https://localhost:8080/"
        },
        "id": "mm1B4udkCEAF",
        "outputId": "d52ca9c5-dc8f-4734-cf52-90ab626e99f6"
      },
      "execution_count": 11,
      "outputs": [
        {
          "output_type": "stream",
          "name": "stdout",
          "text": [
            "cuda:0\n"
          ]
        }
      ]
    },
    {
      "cell_type": "code",
      "source": [
        "import os\n",
        "\n",
        "dataset_dir = './train_set'\n",
        "\n",
        "class_distribution = {}\n",
        "\n",
        "for class_dir in os.listdir(dataset_dir):\n",
        "    class_dir_path = os.path.join(dataset_dir, class_dir)\n",
        "\n",
        "    if os.path.isdir(class_dir_path):\n",
        "        img_count = len([f for f in os.listdir(class_dir_path) if os.path.isfile(os.path.join(class_dir_path, f)) and f.lower().endswith(('.png', '.jpg', '.jpeg'))])\n",
        "        class_distribution[class_dir] = img_count\n",
        "\n",
        "for class_name, count in class_distribution.items():\n",
        "    print(f\"{class_name}: {count}\")"
      ],
      "metadata": {
        "id": "disYowtV2tE5",
        "outputId": "ddeb4c57-e332-408e-c040-13327029da76",
        "colab": {
          "base_uri": "https://localhost:8080/"
        }
      },
      "execution_count": 12,
      "outputs": [
        {
          "output_type": "stream",
          "name": "stdout",
          "text": [
            "street: 2382\n",
            "forest: 2271\n",
            "mountain: 2512\n",
            "buildings: 2191\n",
            "glacier: 2404\n",
            "sea: 2274\n"
          ]
        }
      ]
    },
    {
      "cell_type": "markdown",
      "source": [
        "# Augmentations"
      ],
      "metadata": {
        "id": "qwfL_KF5wVnU"
      }
    },
    {
      "cell_type": "markdown",
      "source": [
        "Entreno el Custom CNN con un \"baseline\" sin transformaciones y despues otro agregando algunas de estas transformaciones para comparar y ver si mejora el accuracy."
      ],
      "metadata": {
        "id": "zp85pe06wBiu"
      }
    },
    {
      "cell_type": "markdown",
      "source": [
        "## Baseline"
      ],
      "metadata": {
        "id": "QNFhXvmZwX_b"
      }
    },
    {
      "cell_type": "code",
      "source": [
        "print(os.listdir())\n",
        "# os.chdir(\"./data/imgs\")\n",
        "print(os.listdir())\n",
        "os.chdir(\"../../\")\n",
        "print(os.listdir())\n",
        "os.chdir(\"/content/drive/MyDrive/Colab Notebooks/Datasets/scene_classification\")\n",
        "print(os.listdir())"
      ],
      "metadata": {
        "colab": {
          "base_uri": "https://localhost:8080/"
        },
        "id": "nr5l4W0LZNW_",
        "outputId": "88776ab3-a55e-4e70-9511-bb2c64774170"
      },
      "execution_count": 13,
      "outputs": [
        {
          "output_type": "stream",
          "name": "stdout",
          "text": [
            "['train_set', 'test_set', 'scene_classification', 'runs']\n",
            "['train_set', 'test_set', 'scene_classification', 'runs']\n",
            "['Untitled0.ipynb', 'Copia de Desafio_Final 31-03.ipynb', 'Data', 'Notebook', 'Untitled1.ipynb', 'data_final_modelado.csv', 'Desafio_Final - Colab.ipynb', 'Desafio_Final - Entregable.ipynb', 'Desafio_Final - Colab Pipeline.ipynb', 'Compartir Bruno Lucas - Halley', 'Copy of Whisper2.ipynb', 'Correlacion-Flotacion-Mineralogia.ipynb', 'Untitled2.ipynb', 'Forecast-Velocidad-de-Espuma-Flotacion.ipynb', 'Analisis Camaras IDAS TPH.ipynb', 'main 2.ipynb', 'Temporal_Difference.ipynb', 'Intro_to_Pytorch.ipynb', 'Untitled3.ipynb', 'Prueba de algoritmos DQN y DDQN.ipynb', 'Untitled (1)', 'practico_stable_baselines.ipynb', 'Colab - Obligatorio_2023_Letra.ipynb', 'Obligatorio Final', 'Videos-Mario-Agentes-Inteligentes-2023.ipynb', 'Obligatorio_2023_Letra (1).ipynb', 'Untitled4.ipynb', 'Parcial 12 12 2022 de Analisis Predictivo de Series Temporales.ipynb', 'Parcial 14-12-2022 de Analisis Predictivo de Series Temporales.ipynb', 'Series Temporales 2023 - Obligatorio', 'Analisis de Flotacion.ipynb', 'Untitled5.ipynb', 'CNN_01_Letra.ipynb', 'boston_regression.ipynb', 'Datasets', 'Untitled', 'MSc-AI-ORT-Taller-IA-Tarea1.ipynb']\n",
            "['train_set', 'test_set', 'scene_classification', 'runs']\n"
          ]
        }
      ]
    },
    {
      "cell_type": "code",
      "source": [
        "import torch\n",
        "from torchvision import transforms\n",
        "from torchvision.datasets import ImageFolder\n",
        "from torch.utils.data import DataLoader\n",
        "\n",
        "torch.manual_seed(42)\n",
        "torch.backends.cudnn.deterministic = True\n",
        "torch.backends.cudnn.benchmark = False\n",
        "\n",
        "train_transform = transforms.Compose([\n",
        "    transforms.Resize((150, 150)),  # Me aseguro que las imagenes tienen el mismo tamaño\n",
        "    transforms.ToTensor()\n",
        "])\n",
        "\n",
        "test_transform = transforms.Compose([\n",
        "    transforms.Resize((150, 150)),\n",
        "    transforms.ToTensor()\n",
        "])\n",
        "\n",
        "train_dataset = ImageFolder(\"train_set\", transform=train_transform)\n",
        "test_dataset = ImageFolder(\"test_set\", transform=test_transform)\n",
        "\n",
        "BATCH_SIZE = 10\n",
        "\n",
        "train_size = int(0.8 * len(train_dataset))\n",
        "valid_size = len(train_dataset) - train_size\n",
        "train, validation = torch.utils.data.random_split(train_dataset, [train_size, valid_size])\n",
        "print(f\"{len(train)} Training images, {len(validation)} Validation images\")\n",
        "\n",
        "train_loader = DataLoader(train, batch_size=BATCH_SIZE, shuffle=True, pin_memory=True)\n",
        "val_loader = DataLoader(validation, batch_size=BATCH_SIZE, pin_memory=True)\n",
        "test_loader = DataLoader(test_dataset, batch_size=BATCH_SIZE, pin_memory=True)\n",
        "\n",
        "\n",
        "device = torch.device('cuda:0' if torch.cuda.is_available() else 'cpu')\n",
        "print(device)\n",
        "\n",
        "\n",
        "BATCH_SIZE = 10\n",
        "LR = 0.001\n",
        "NUMBER_EPOCHS = 5\n",
        "criterion = nn.CrossEntropyLoss().to(device)\n",
        "\n",
        "# defino la red baseline y su optimizador\n",
        "modelo_sin_aug = CustomCNN(3, 6).to(device)\n",
        "optimizer = torch.optim.Adam(modelo_sin_aug.parameters(), lr=LR)\n",
        "\n",
        "# Entreno el modelo\n",
        "train_model(modelo_sin_aug, train_loader, val_loader, criterion, optimizer, NUMBER_EPOCHS)"
      ],
      "metadata": {
        "id": "D1CnKg6bwAkI",
        "outputId": "e898aafa-466f-4344-96a4-417cd5b7a17a",
        "colab": {
          "base_uri": "https://localhost:8080/"
        }
      },
      "execution_count": 14,
      "outputs": [
        {
          "output_type": "stream",
          "name": "stdout",
          "text": [
            "11227 Training images, 2807 Validation images\n",
            "cuda:0\n",
            "Training epoch 1 | Loss 1.052647 | Accuracy 57.09% | Precision 56.13% | Recall 56.90% | F1 Score 56.14% | Time 54.25 seconds\n",
            "Validation epoch 1 | Loss 0.943610 | Accuracy 64.27% | Precision 65.14% | Recall 65.03% | F1 Score 63.48% | Time 7.41 seconds\n",
            "Training epoch 2 | Loss 0.779591 | Accuracy 70.34% | Precision 70.43% | Recall 70.41% | F1 Score 70.40% | Time 53.33 seconds\n",
            "Validation epoch 2 | Loss 0.647831 | Accuracy 75.31% | Precision 76.03% | Recall 75.33% | F1 Score 75.14% | Time 7.42 seconds\n",
            "Training epoch 3 | Loss 0.665322 | Accuracy 75.36% | Precision 75.49% | Recall 75.50% | F1 Score 75.48% | Time 52.51 seconds\n",
            "Validation epoch 3 | Loss 0.608174 | Accuracy 76.88% | Precision 77.11% | Recall 76.82% | F1 Score 76.75% | Time 7.23 seconds\n",
            "Training epoch 4 | Loss 0.569170 | Accuracy 78.78% | Precision 78.96% | Recall 78.94% | F1 Score 78.95% | Time 52.78 seconds\n",
            "Validation epoch 4 | Loss 0.567593 | Accuracy 79.87% | Precision 80.60% | Recall 80.02% | F1 Score 79.93% | Time 7.29 seconds\n",
            "Training epoch 5 | Loss 0.492726 | Accuracy 81.69% | Precision 81.89% | Recall 81.85% | F1 Score 81.87% | Time 52.92 seconds\n",
            "Validation epoch 5 | Loss 0.562574 | Accuracy 79.41% | Precision 79.74% | Recall 79.40% | F1 Score 79.39% | Time 7.36 seconds\n"
          ]
        }
      ]
    },
    {
      "cell_type": "code",
      "source": [
        "test_loss, test_accuracy,  test_precision, test_recall, test_f1 = test_model(modelo_sin_aug, test_loader, criterion)\n",
        "print(\"Test Loss: {:.6f}\".format(test_loss))\n",
        "print(\"Test Accuracy: {:.2f}%\".format(test_accuracy))\n",
        "print(\"Test Precision: {:.6f}\".format(test_precision))\n",
        "print(\"Test Recall: {:.2f}%\".format(test_recall))\n",
        "print(\"Test F1: {:.6f}\".format(test_f1))"
      ],
      "metadata": {
        "id": "X1frJnhAwoj0",
        "outputId": "1d20eb58-509c-4a14-b619-9d9740c08648",
        "colab": {
          "base_uri": "https://localhost:8080/"
        }
      },
      "execution_count": 15,
      "outputs": [
        {
          "output_type": "stream",
          "name": "stdout",
          "text": [
            "Test | Loss 0.544546 | Accuracy 79.93% | Precision 80.67% | Recall 80.20% | F1 Score 80.19%\n",
            "Test Loss: 0.544546\n",
            "Test Accuracy: 79.93%\n",
            "Test Precision: 0.806724\n",
            "Test Recall: 0.80%\n",
            "Test F1: 0.801865\n"
          ]
        }
      ]
    },
    {
      "cell_type": "markdown",
      "source": [
        "## Modelo con Augmentations"
      ],
      "metadata": {
        "id": "XCIvqi0BwaQC"
      }
    },
    {
      "cell_type": "code",
      "source": [
        "import torch\n",
        "from torchvision import transforms\n",
        "from torchvision.datasets import ImageFolder\n",
        "from torch.utils.data import DataLoader\n",
        "import numpy as np\n",
        "\n",
        "torch.manual_seed(42)\n",
        "torch.backends.cudnn.deterministic = True\n",
        "torch.backends.cudnn.benchmark = False\n",
        "\n",
        "# train_transform  = transforms.Compose([\n",
        "#     #transforms.RandomResizedCrop(150, scale=(0.8, 1.0)),\n",
        "#     # transforms.RandomRotation(15),\n",
        "#     # transforms.RandomHorizontalFlip(),\n",
        "#     transforms.Resize((150, 150)),\n",
        "#     transforms.RandomAffine(degrees=15, translate=(0.1, 0.1), scale=(0.25, 1.25), shear=15),\n",
        "#     transforms.ColorJitter(brightness=0.2, contrast=0.2, saturation=0.2, hue=0.1),\n",
        "#     transforms.ToTensor(),\n",
        "#     # transforms.Normalize(mean=[0.485, 0.456, 0.406], std=[0.229, 0.224, 0.225]),\n",
        "#     # transforms.RandomErasing(p=0.5, scale=(0.02, 0.33), ratio=(0.3, 3.3), value=0, inplace=False)\n",
        "# ])\n",
        "\n",
        "train_transform = transforms.Compose([\n",
        "    transforms.Resize((150, 150)),\n",
        "    transforms.RandomAffine(degrees=0.4*180/np.pi,\n",
        "                            translate=(0.5, 0.3),\n",
        "                            scale=(1-0.4, 1+0.4),\n",
        "                            shear=0.3*180/np.pi),\n",
        "    transforms.RandomHorizontalFlip(p=0.5),\n",
        "    transforms.RandomVerticalFlip(p=0.4),\n",
        "    transforms.ColorJitter(brightness=(0.1, 0.6)),\n",
        "    transforms.RandomRotation(degrees=0.4*180/np.pi),\n",
        "    transforms.ToTensor()  # This converts the image to the [0,1] range\n",
        "])\n",
        "\n",
        "\n",
        "test_transform = transforms.Compose([\n",
        "    transforms.Resize((150, 150)),\n",
        "    transforms.ToTensor()\n",
        "])\n",
        "\n",
        "train_dataset = ImageFolder(\"train_set\", transform=train_transform)\n",
        "test_dataset = ImageFolder(\"test_set\", transform=test_transform)\n",
        "\n",
        "BATCH_SIZE = 10\n",
        "\n",
        "train_size = int(0.8 * len(train_dataset))\n",
        "valid_size = len(train_dataset) - train_size\n",
        "train, validation = torch.utils.data.random_split(train_dataset, [train_size, valid_size])\n",
        "print(f\"{len(train)} Training images, {len(validation)} Validation images\")\n",
        "\n",
        "train_loader = DataLoader(train, batch_size=BATCH_SIZE, shuffle=True, pin_memory=True)\n",
        "val_loader = DataLoader(validation, batch_size=BATCH_SIZE, pin_memory=True)\n",
        "test_loader = DataLoader(test_dataset, batch_size=BATCH_SIZE, pin_memory=True)\n",
        "\n",
        "device = torch.device('cuda:0' if torch.cuda.is_available() else 'cpu')\n",
        "print(device)\n",
        "\n",
        "BATCH_SIZE = 40\n",
        "LR = 0.01\n",
        "NUMBER_EPOCHS = 15\n",
        "criterion = nn.CrossEntropyLoss().to(device)\n",
        "\n",
        "modelo_con_aug = CustomCNN(3, 6).to(device)\n",
        "optimizer = torch.optim.Adam(modelo_con_aug.parameters(), lr=LR)\n",
        "\n",
        "train_model(modelo_con_aug, train_loader, val_loader, criterion, optimizer, NUMBER_EPOCHS)\n"
      ],
      "metadata": {
        "colab": {
          "base_uri": "https://localhost:8080/"
        },
        "id": "nxtJe86fHI8M",
        "outputId": "0d335f10-4672-4f02-f7a0-b74dd6d48e39"
      },
      "execution_count": 16,
      "outputs": [
        {
          "output_type": "stream",
          "name": "stdout",
          "text": [
            "11227 Training images, 2807 Validation images\n",
            "cuda:0\n",
            "Training epoch 1 | Loss 1.888597 | Accuracy 17.24% | Precision 17.33% | Recall 16.45% | F1 Score 13.02% | Time 61.18 seconds\n",
            "Validation epoch 1 | Loss 1.791100 | Accuracy 17.39% | Precision 2.90% | Recall 16.67% | F1 Score 4.94% | Time 9.46 seconds\n",
            "Training epoch 2 | Loss 1.792657 | Accuracy 17.75% | Precision 13.11% | Recall 16.64% | F1 Score 10.63% | Time 59.87 seconds\n",
            "Validation epoch 2 | Loss 1.794661 | Accuracy 16.85% | Precision 2.81% | Recall 16.67% | F1 Score 4.81% | Time 9.47 seconds\n",
            "Training epoch 3 | Loss 1.792193 | Accuracy 17.52% | Precision 16.70% | Recall 16.68% | F1 Score 13.06% | Time 59.40 seconds\n",
            "Validation epoch 3 | Loss 1.791845 | Accuracy 16.74% | Precision 2.79% | Recall 16.67% | F1 Score 4.78% | Time 9.46 seconds\n",
            "Training epoch 4 | Loss 1.792683 | Accuracy 17.09% | Precision 15.49% | Recall 16.23% | F1 Score 12.19% | Time 59.18 seconds\n",
            "Validation epoch 4 | Loss 1.790889 | Accuracy 16.85% | Precision 2.81% | Recall 16.67% | F1 Score 4.81% | Time 9.35 seconds\n",
            "Training epoch 5 | Loss 1.792500 | Accuracy 17.90% | Precision 11.47% | Recall 16.87% | F1 Score 11.31% | Time 60.17 seconds\n",
            "Validation epoch 5 | Loss 1.792290 | Accuracy 16.85% | Precision 2.81% | Recall 16.67% | F1 Score 4.81% | Time 9.59 seconds\n",
            "Training epoch 6 | Loss 1.792902 | Accuracy 17.40% | Precision 13.66% | Recall 16.34% | F1 Score 10.82% | Time 60.60 seconds\n",
            "Validation epoch 6 | Loss 1.792088 | Accuracy 16.85% | Precision 2.81% | Recall 16.67% | F1 Score 4.81% | Time 9.85 seconds\n",
            "Training epoch 7 | Loss 1.792726 | Accuracy 16.99% | Precision 13.45% | Recall 15.99% | F1 Score 10.89% | Time 59.77 seconds\n",
            "Validation epoch 7 | Loss 1.795014 | Accuracy 18.35% | Precision 3.06% | Recall 16.67% | F1 Score 5.17% | Time 9.35 seconds\n",
            "Training epoch 8 | Loss 1.792252 | Accuracy 17.50% | Precision 16.43% | Recall 16.64% | F1 Score 13.07% | Time 59.78 seconds\n",
            "Validation epoch 8 | Loss 1.792918 | Accuracy 16.85% | Precision 2.81% | Recall 16.67% | F1 Score 4.81% | Time 9.60 seconds\n",
            "Training epoch 9 | Loss 1.792302 | Accuracy 17.76% | Precision 17.48% | Recall 17.04% | F1 Score 13.99% | Time 59.55 seconds\n",
            "Validation epoch 9 | Loss 1.791364 | Accuracy 16.74% | Precision 2.79% | Recall 16.67% | F1 Score 4.78% | Time 9.68 seconds\n",
            "Training epoch 10 | Loss 1.792501 | Accuracy 17.32% | Precision 11.26% | Recall 16.41% | F1 Score 11.94% | Time 60.82 seconds\n",
            "Validation epoch 10 | Loss 1.792576 | Accuracy 16.85% | Precision 2.81% | Recall 16.67% | F1 Score 4.81% | Time 9.59 seconds\n",
            "Training epoch 11 | Loss 1.792397 | Accuracy 17.87% | Precision 14.09% | Recall 16.86% | F1 Score 11.75% | Time 60.07 seconds\n",
            "Validation epoch 11 | Loss 1.793364 | Accuracy 16.74% | Precision 2.79% | Recall 16.67% | F1 Score 4.78% | Time 9.47 seconds\n",
            "Training epoch 12 | Loss 1.792245 | Accuracy 17.62% | Precision 11.28% | Recall 16.66% | F1 Score 11.54% | Time 60.64 seconds\n",
            "Validation epoch 12 | Loss 1.792454 | Accuracy 16.85% | Precision 2.81% | Recall 16.67% | F1 Score 4.81% | Time 9.63 seconds\n",
            "Training epoch 13 | Loss 1.792659 | Accuracy 17.44% | Precision 11.10% | Recall 16.31% | F1 Score 9.79% | Time 60.98 seconds\n",
            "Validation epoch 13 | Loss 1.796272 | Accuracy 16.74% | Precision 2.79% | Recall 16.67% | F1 Score 4.78% | Time 9.66 seconds\n",
            "Training epoch 14 | Loss 1.792871 | Accuracy 17.31% | Precision 13.69% | Recall 16.32% | F1 Score 10.87% | Time 61.63 seconds\n",
            "Validation epoch 14 | Loss 1.793146 | Accuracy 17.39% | Precision 2.90% | Recall 16.67% | F1 Score 4.94% | Time 9.85 seconds\n",
            "Training epoch 15 | Loss 1.792480 | Accuracy 17.24% | Precision 13.46% | Recall 16.28% | F1 Score 11.27% | Time 62.94 seconds\n",
            "Validation epoch 15 | Loss 1.792093 | Accuracy 16.85% | Precision 2.81% | Recall 16.67% | F1 Score 4.81% | Time 10.07 seconds\n"
          ]
        }
      ]
    },
    {
      "cell_type": "markdown",
      "source": [
        "--------"
      ],
      "metadata": {
        "id": "lZJHBy7ZHJTi"
      }
    },
    {
      "cell_type": "code",
      "source": [
        "test_loss, test_accuracy,  test_precision, test_recall, test_f1 = test_model(modelo_con_aug, test_loader, criterion)\n",
        "print(\"Test Loss: {:.6f}\".format(test_loss))\n",
        "print(\"Test Accuracy: {:.2f}%\".format(test_accuracy))\n",
        "print(\"Test Precision: {:.6f}\".format(test_precision))\n",
        "print(\"Test Recall: {:.2f}%\".format(test_recall))\n",
        "print(\"Test F1: {:.6f}\".format(test_f1))"
      ],
      "metadata": {
        "colab": {
          "base_uri": "https://localhost:8080/"
        },
        "id": "hQDRM0HBwPoh",
        "outputId": "23ed3c3e-98b1-4b08-8fcd-0963c092db2e"
      },
      "execution_count": 17,
      "outputs": [
        {
          "output_type": "stream",
          "name": "stdout",
          "text": [
            "Test | Loss 1.790672 | Accuracy 17.50% | Precision 2.92% | Recall 16.67% | F1 Score 4.96%\n",
            "Test Loss: 1.790672\n",
            "Test Accuracy: 17.50%\n",
            "Test Precision: 0.029167\n",
            "Test Recall: 0.17%\n",
            "Test F1: 0.049645\n"
          ]
        }
      ]
    },
    {
      "cell_type": "markdown",
      "source": [
        "# Dense Net"
      ],
      "metadata": {
        "id": "_mlgsFz7yPsS"
      }
    },
    {
      "cell_type": "code",
      "source": [
        "import math\n",
        "def compute_same_padding(input_shape, strides, kernel_size):\n",
        "    padding_total = (input_shape*strides-input_shape-strides+kernel_size)/2\n",
        "    return math.ceil(padding_total/2)"
      ],
      "metadata": {
        "id": "OB1ih9oSyON6"
      },
      "execution_count": 65,
      "outputs": []
    },
    {
      "cell_type": "code",
      "source": [
        "class CompositeFunction(nn.Module):\n",
        "    #BatchNorm + Relu + Conv\n",
        "    def __init__(self, in_channels, out_channels, kernel_size, input_shape, strides = 1):\n",
        "        super(CompositeFunction, self).__init__()\n",
        "        self.bn = nn.BatchNorm2d(num_features = in_channels)\n",
        "        P = compute_same_padding(input_shape, strides, kernel_size)\n",
        "        self.conv = nn.Conv2d(in_channels = in_channels, out_channels = out_channels, kernel_size = kernel_size, padding = P)\n",
        "\n",
        "    def forward(self, x):\n",
        "        out = self.bn(x)\n",
        "        out = self.conv(F.relu(out))\n",
        "        return out"
      ],
      "metadata": {
        "id": "xD40CX3byV_u"
      },
      "execution_count": 66,
      "outputs": []
    },
    {
      "cell_type": "code",
      "source": [
        "class DenseBlock(nn.Module):\n",
        "  #out_channels = in_channels + k * reps\n",
        "  #bottleneck = 4*k\n",
        "  def __init__(self, in_channels, reps, k, input_shape):\n",
        "    super(DenseBlock, self).__init__()\n",
        "    # Su implementacion\n",
        "    self.reps = reps\n",
        "    self.convs = []\n",
        "    for i in range(reps):\n",
        "        self.convs.append(CompositeFunction(in_channels+k*i, 4*k, 1, input_shape))\n",
        "        self.convs.append(CompositeFunction(4*k, k, 3, input_shape))\n",
        "\n",
        "    self.convs = nn.ModuleList(self.convs)\n",
        "\n",
        "  def forward(self, x):\n",
        "    for i in range(self.reps):\n",
        "        x1 = self.convs[2*i](x)\n",
        "        x2 = self.convs[2*i+1](x1)\n",
        "        x = torch.cat([x,x2],1)\n",
        "    return x"
      ],
      "metadata": {
        "id": "O0sG7WsTyZgA"
      },
      "execution_count": 67,
      "outputs": []
    },
    {
      "cell_type": "code",
      "source": [
        "class TransitionLayer(nn.Module):\n",
        "  def __init__(self, in_channels, out_channels, input_shape):\n",
        "    super(TransitionLayer, self).__init__()\n",
        "    self.comp = CompositeFunction(in_channels, out_channels, 1, input_shape)\n",
        "    self.pool = nn.AvgPool2d(kernel_size=2, stride=2)\n",
        "\n",
        "  def forward(self, x):\n",
        "    out = self.comp(x)\n",
        "    out = self.pool(out)\n",
        "    return out"
      ],
      "metadata": {
        "id": "yFS3Cr_EycYY"
      },
      "execution_count": 68,
      "outputs": []
    },
    {
      "cell_type": "code",
      "source": [
        "class DenseNet(nn.Module):\n",
        "    #DenseNet 121\n",
        "    def __init__(self, n_classes, input_shape, k):\n",
        "        super(DenseNet, self).__init__()\n",
        "        self.input_conv = CompositeFunction(in_channels = 3, out_channels = 2*k ,kernel_size = 7, input_shape = input_shape, strides = 2)\n",
        "        self.input_max_pooling = nn.MaxPool2d(kernel_size = 2, stride = 2)\n",
        "\n",
        "        self.dense_block1 = DenseBlock(2*k, 6, k, int(input_shape/2))\n",
        "        self.transitionLayer1 = TransitionLayer(in_channels=(6+2)*k, out_channels=4*k,  input_shape = int(input_shape/2))\n",
        "\n",
        "        self.dense_block2 = DenseBlock(4*k, 12, k, int(input_shape/4))\n",
        "        self.transitionLayer2 = TransitionLayer(in_channels=(12+4)*k, out_channels=8*k, input_shape =int(input_shape/4))\n",
        "\n",
        "        self.dense_block3 = DenseBlock(8*k, 24, k, int(input_shape/8))\n",
        "        self.transitionLayer3 = TransitionLayer(in_channels=(24+8)*k, out_channels=16*k, input_shape =int(input_shape/8))\n",
        "\n",
        "        self.dense_block4 = DenseBlock(16*k, 16, k, input_shape =int(input_shape/16))\n",
        "        last_number_of_filters = 16*k+16*k\n",
        "        # Classifier\n",
        "        # h = int(input_shape/16)\n",
        "        # w = h\n",
        "        h = int(input_shape / (2**4))  # As per your code\n",
        "        w = h\n",
        "        num_features_before_fc1 = last_number_of_filters * w * h\n",
        "        self.fully_connected_1 = nn.Linear(12800, 512)#num_features_before_fc1, 512)\n",
        "        self.output = nn.Linear(512, n_classes)\n",
        "\n",
        "\n",
        "    def forward(self, x):\n",
        "        out = self.input_conv(x)\n",
        "        out = self.input_max_pooling(out)\n",
        "        out = self.dense_block1(out)\n",
        "        out = self.transitionLayer1(out)\n",
        "        out = self.dense_block2(out)\n",
        "        out = self.transitionLayer2(out)\n",
        "        out = self.dense_block3(out)\n",
        "        out = self.transitionLayer3(out)\n",
        "        out = self.dense_block4(out)\n",
        "        out = out.flatten(1)\n",
        "        out = F.relu(self.fully_connected_1(out))\n",
        "        out = self.output(out)\n",
        "\n",
        "        return out"
      ],
      "metadata": {
        "id": "RgtpFqL8yf70"
      },
      "execution_count": 77,
      "outputs": []
    },
    {
      "cell_type": "code",
      "source": [
        "densenet = DenseNet(10, 32, 4).to(device)\n",
        "optimizer = torch.optim.Adam(densenet.parameters(), lr=LR)"
      ],
      "metadata": {
        "id": "PQGdykECylU2"
      },
      "execution_count": 78,
      "outputs": []
    },
    {
      "cell_type": "code",
      "source": [
        "BATCH_SIZE = 10\n",
        "NUMBER_EPOCHS = 10\n",
        "\n",
        "import torch\n",
        "from torchvision import transforms\n",
        "from torchvision.datasets import ImageFolder\n",
        "from torch.utils.data import DataLoader\n",
        "\n",
        "torch.manual_seed(42)\n",
        "torch.backends.cudnn.deterministic = True\n",
        "torch.backends.cudnn.benchmark = False\n",
        "\n",
        "train_transform = transforms.Compose([\n",
        "    transforms.Resize((150, 150)),  # Me aseguro que las imagenes tienen el mismo tamaño\n",
        "    transforms.ToTensor()\n",
        "])\n",
        "\n",
        "test_transform = transforms.Compose([\n",
        "    transforms.Resize((150, 150)),\n",
        "    transforms.ToTensor()\n",
        "])\n",
        "\n",
        "train_dataset = ImageFolder(\"train_set\", transform=train_transform)\n",
        "test_dataset = ImageFolder(\"test_set\", transform=test_transform)\n",
        "\n",
        "train_size = int(0.8 * len(train_dataset))\n",
        "valid_size = len(train_dataset) - train_size\n",
        "train, validation = torch.utils.data.random_split(train_dataset, [train_size, valid_size])\n",
        "print(f\"{len(train)} Training images, {len(validation)} Validation images\")\n",
        "\n",
        "train_loader = DataLoader(train, batch_size=BATCH_SIZE, shuffle=True, pin_memory=True)\n",
        "val_loader = DataLoader(validation, batch_size=BATCH_SIZE, pin_memory=True)\n",
        "test_loader = DataLoader(test_dataset, batch_size=BATCH_SIZE, pin_memory=True)\n",
        "\n",
        "\n",
        "device = torch.device('cuda:0' if torch.cuda.is_available() else 'cpu')\n",
        "print(device)\n",
        "\n",
        "\n",
        "BATCH_SIZE = 10\n",
        "LR = 0.001\n",
        "NUMBER_EPOCHS = 10\n",
        "criterion = nn.CrossEntropyLoss().to(device)\n",
        "\n",
        "densenet = DenseNet(10, 32, 4).to(device)\n",
        "optimizer = torch.optim.Adam(densenet.parameters(), lr=LR)\n",
        "# train_loader, valid_loader, test_loader = get_dataloaders(train_transform, test_transform, BATCH_SIZE)\n",
        "\n",
        "train_model(densenet, train_loader, val_loader, criterion, optimizer, NUMBER_EPOCHS)"
      ],
      "metadata": {
        "colab": {
          "base_uri": "https://localhost:8080/"
        },
        "id": "WQ-0HhF-yqhF",
        "outputId": "3326fe24-3a9f-4e77-9685-b22659100935"
      },
      "execution_count": 79,
      "outputs": [
        {
          "output_type": "stream",
          "name": "stdout",
          "text": [
            "11227 Training images, 2807 Validation images\n",
            "cuda:0\n",
            "Training epoch 1 | Loss 1.049164 | Accuracy 59.62% | Precision 51.00% | Recall 65.36% | F1 Score 50.98% | Time 112.09 seconds\n",
            "Validation epoch 1 | Loss 0.937133 | Accuracy 64.23% | Precision 66.92% | Recall 64.60% | F1 Score 64.52% | Time 12.34 seconds\n",
            "Training epoch 2 | Loss 0.823950 | Accuracy 68.38% | Precision 68.48% | Recall 68.49% | F1 Score 68.48% | Time 111.55 seconds\n",
            "Validation epoch 2 | Loss 0.926339 | Accuracy 63.84% | Precision 64.90% | Recall 64.47% | F1 Score 63.23% | Time 12.03 seconds\n",
            "Training epoch 3 | Loss 0.704869 | Accuracy 73.08% | Precision 73.28% | Recall 73.22% | F1 Score 73.24% | Time 110.10 seconds\n",
            "Validation epoch 3 | Loss 0.662156 | Accuracy 75.88% | Precision 76.20% | Recall 75.90% | F1 Score 75.94% | Time 12.25 seconds\n",
            "Training epoch 4 | Loss 0.606767 | Accuracy 77.59% | Precision 77.78% | Recall 77.77% | F1 Score 77.77% | Time 111.23 seconds\n",
            "Validation epoch 4 | Loss 0.590581 | Accuracy 78.48% | Precision 78.78% | Recall 78.46% | F1 Score 78.51% | Time 12.29 seconds\n",
            "Training epoch 5 | Loss 0.549390 | Accuracy 79.35% | Precision 79.58% | Recall 79.52% | F1 Score 79.55% | Time 109.10 seconds\n",
            "Validation epoch 5 | Loss 0.604692 | Accuracy 79.23% | Precision 80.19% | Recall 79.33% | F1 Score 79.20% | Time 11.74 seconds\n",
            "Training epoch 6 | Loss 0.459360 | Accuracy 83.18% | Precision 83.35% | Recall 83.35% | F1 Score 83.35% | Time 108.82 seconds\n",
            "Validation epoch 6 | Loss 0.692558 | Accuracy 74.92% | Precision 77.38% | Recall 75.28% | F1 Score 74.90% | Time 11.92 seconds\n",
            "Training epoch 7 | Loss 0.387195 | Accuracy 85.73% | Precision 85.92% | Recall 85.90% | F1 Score 85.91% | Time 111.66 seconds\n",
            "Validation epoch 7 | Loss 0.594819 | Accuracy 79.59% | Precision 79.76% | Recall 79.69% | F1 Score 79.41% | Time 11.96 seconds\n",
            "Training epoch 8 | Loss 0.326973 | Accuracy 88.18% | Precision 88.35% | Recall 88.33% | F1 Score 88.34% | Time 109.95 seconds\n",
            "Validation epoch 8 | Loss 0.628703 | Accuracy 79.27% | Precision 79.26% | Recall 79.11% | F1 Score 79.00% | Time 12.03 seconds\n",
            "Training epoch 9 | Loss 0.278301 | Accuracy 89.64% | Precision 89.82% | Recall 89.81% | F1 Score 89.81% | Time 109.88 seconds\n",
            "Validation epoch 9 | Loss 0.652570 | Accuracy 79.80% | Precision 80.17% | Recall 80.07% | F1 Score 79.86% | Time 12.15 seconds\n",
            "Training epoch 10 | Loss 0.230663 | Accuracy 91.54% | Precision 91.69% | Recall 91.67% | F1 Score 91.68% | Time 109.94 seconds\n",
            "Validation epoch 10 | Loss 0.817729 | Accuracy 77.02% | Precision 77.65% | Recall 76.66% | F1 Score 76.65% | Time 12.14 seconds\n"
          ]
        }
      ]
    },
    {
      "cell_type": "code",
      "source": [
        "test_transform = transforms.Compose([\n",
        "  transforms.ToTensor()\n",
        "])\n",
        "\n",
        "# _, _, test_loader = get_dataloaders(None, test_transform, BATCH_SIZE)\n",
        "\n",
        "# test_loss, accuracy = validation_epoch(densenet, test_loader, criterion)\n",
        "\n",
        "test_loss, test_accuracy,  test_precision, test_recall, test_f1 = test_model(densenet, test_loader, criterion)\n",
        "\n",
        "print(f\"DenseNet Test set:\\n\")\n",
        "print(\"Test Loss: {:.6f}\".format(test_loss))\n",
        "print(\"Test Accuracy: {:.2f}%\".format(test_accuracy))\n",
        "print(\"Test Precision: {:.6f}\".format(test_precision))\n",
        "print(\"Test Recall: {:.2f}%\".format(test_recall))\n",
        "print(\"Test F1: {:.6f}\".format(test_f1))\n",
        "\n"
      ],
      "metadata": {
        "colab": {
          "base_uri": "https://localhost:8080/"
        },
        "id": "lKjiqvXo17yv",
        "outputId": "aa92904b-7e59-480e-ebc5-f76ad2cb8e10"
      },
      "execution_count": 81,
      "outputs": [
        {
          "output_type": "stream",
          "name": "stdout",
          "text": [
            "Test | Loss 0.817400 | Accuracy 76.67% | Precision 77.44% | Recall 76.83% | F1 Score 76.57%\n",
            "DenseNet Test set:\n",
            "\n",
            "Test Loss: 0.817400\n",
            "Test Accuracy: 76.67%\n",
            "Test Precision: 0.774416\n",
            "Test Recall: 0.77%\n",
            "Test F1: 0.765699\n"
          ]
        }
      ]
    },
    {
      "cell_type": "code",
      "source": [
        "!tensorboard --logdir=runs\n"
      ],
      "metadata": {
        "colab": {
          "base_uri": "https://localhost:8080/"
        },
        "id": "lnY1DqYAtABu",
        "outputId": "09e7046a-e22e-458d-8fb0-f98fe61a0de7"
      },
      "execution_count": 83,
      "outputs": [
        {
          "output_type": "stream",
          "name": "stdout",
          "text": [
            "2023-10-15 01:44:06.143310: W tensorflow/compiler/tf2tensorrt/utils/py_utils.cc:38] TF-TRT Warning: Could not find TensorRT\n",
            "\n",
            "NOTE: Using experimental fast data loading logic. To disable, pass\n",
            "    \"--load_fast=false\" and report issues on GitHub. More details:\n",
            "    https://github.com/tensorflow/tensorboard/issues/4784\n",
            "\n",
            "Serving TensorBoard on localhost; to expose to the network, use a proxy or pass --bind_all\n",
            "TensorBoard 2.13.0 at http://localhost:6006/ (Press CTRL+C to quit)\n"
          ]
        }
      ]
    },
    {
      "cell_type": "markdown",
      "source": [
        "# ResNet"
      ],
      "metadata": {
        "id": "fk-cb0fDWU7p"
      }
    },
    {
      "cell_type": "markdown",
      "source": [
        "\n",
        "### Deep Residual Learning for Image Recognition\n",
        "Paper: https://arxiv.org/pdf/1512.03385.pdf"
      ],
      "metadata": {
        "id": "vHtyduV-jmaQ"
      }
    },
    {
      "cell_type": "markdown",
      "source": [
        "![image.png](data:image/png;base64,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)"
      ],
      "metadata": {
        "id": "UGN4KriyUei2"
      }
    },
    {
      "cell_type": "markdown",
      "source": [
        "![image.png](data:image/png;base64,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)"
      ],
      "metadata": {
        "id": "USeMWtjfUmFO"
      }
    },
    {
      "cell_type": "code",
      "source": [
        "# class Block(nn.module):\n"
      ],
      "metadata": {
        "id": "mNXRkRNOUeMY"
      },
      "execution_count": null,
      "outputs": []
    },
    {
      "cell_type": "code",
      "source": [
        "import torch\n",
        "import torch.nn as nn\n",
        "from torchsummary import summary\n",
        "\n",
        "class Bottleneck(nn.Module):\n",
        "  expansion = 4\n",
        "\n",
        "  def __init__(self, in_channels, out_channels, stride=1, downsample=None):\n",
        "      super(Bottleneck, self).__init__()\n",
        "      self.conv1 = nn.Conv2d(in_channels, out_channels, kernel_size=1, stride=1, bias=False)\n",
        "      self.bn1 = nn.BatchNorm2d(out_channels)\n",
        "      self.conv2 = nn.Conv2d(out_channels, out_channels, kernel_size=3, stride=stride, padding=1, bias=False)\n",
        "      self.bn2 = nn.BatchNorm2d(out_channels)\n",
        "      self.conv3 = nn.Conv2d(out_channels, out_channels * self.expansion, kernel_size=1, stride=1, bias=False)\n",
        "      self.bn3 = nn.BatchNorm2d(out_channels * self.expansion)\n",
        "      self.relu = nn.ReLU(inplace=True)\n",
        "      self.downsample = downsample\n",
        "\n",
        "  def forward(self, x):\n",
        "      residual = x\n",
        "      out = self.conv1(x)\n",
        "      out = self.bn1(out)\n",
        "      out = self.relu(out)\n",
        "      out = self.conv2(out)\n",
        "      out = self.bn2(out)\n",
        "      out = self.relu(out)\n",
        "      out = self.conv3(out)\n",
        "      out = self.bn3(out)\n",
        "\n",
        "      if self.downsample:\n",
        "          residual = self.downsample(x)\n",
        "\n",
        "      out += residual\n",
        "      out = self.relu(out)\n",
        "      return out\n",
        "\n",
        "\n",
        "class ResNet(nn.Module):\n",
        "  def __init__(self, block, layers, num_classes=1000):\n",
        "      super(ResNet, self).__init__()\n",
        "      self.in_channels = 64\n",
        "      self.conv1 = nn.Conv2d(3, 64, kernel_size=7, stride=2, padding=3, bias=False)\n",
        "      self.bn1 = nn.BatchNorm2d(64)\n",
        "      self.relu = nn.ReLU(inplace=True)\n",
        "      self.maxpool = nn.MaxPool2d(kernel_size=3, stride=2, padding=1)\n",
        "      self.layer1 = self._make_layer(block, 64, layers[0])\n",
        "      self.layer2 = self._make_layer(block, 128, layers[1], stride=2)\n",
        "      self.layer3 = self._make_layer(block, 256, layers[2], stride=2)\n",
        "      self.layer4 = self._make_layer(block, 512, layers[3], stride=2)\n",
        "      self.avgpool = nn.AdaptiveAvgPool2d((1, 1))\n",
        "      self.fc = nn.Linear(512 * block.expansion, num_classes)\n",
        "\n",
        "  def _make_layer(self, block, out_channels, blocks, stride=1):\n",
        "      downsample = None\n",
        "      if stride != 1 or self.in_channels != out_channels * block.expansion:\n",
        "          downsample = nn.Sequential(\n",
        "              nn.Conv2d(self.in_channels, out_channels * block.expansion, kernel_size=1, stride=stride, bias=False),\n",
        "              nn.BatchNorm2d(out_channels * block.expansion)\n",
        "          )\n",
        "      layers = []\n",
        "      layers.append(block(self.in_channels, out_channels, stride, downsample))\n",
        "      self.in_channels = out_channels * block.expansion\n",
        "      for i in range(1, blocks):\n",
        "          layers.append(block(self.in_channels, out_channels))\n",
        "\n",
        "      return nn.Sequential(*layers)\n",
        "\n",
        "  def forward(self, x):\n",
        "      x = self.conv1(x)\n",
        "      x = self.bn1(x)\n",
        "      x = self.relu(x)\n",
        "      x = self.maxpool(x)\n",
        "      x = self.layer1(x)\n",
        "      x = self.layer2(x)\n",
        "      x = self.layer3(x)\n",
        "      x = self.layer4(x)\n",
        "      x = self.avgpool(x)\n",
        "      x = torch.flatten(x, 1)\n",
        "      x = self.fc(x)\n",
        "      return x\n",
        "\n",
        "\n",
        "def resnet50(num_classes=1000):\n",
        "  return ResNet(Bottleneck, [3, 4, 6, 3], num_classes = num_classes)\n",
        "\n",
        "def resnet101(num_classes=1000):\n",
        "  return ResNet(Bottleneck, [3, 4, 23, 3], num_classes = num_classes)\n",
        "\n",
        "def resnet152(num_classes=1000):\n",
        "  return ResNet(Bottleneck, [3, 4, 36, 3], num_classes = num_classes)\n",
        "\n",
        "model_resnet50 = resnet50(num_classes = 10).to(device)\n",
        "\n",
        "summary(model_resnet50,input_size=(3,150,150))"
      ],
      "metadata": {
        "id": "bQFln-cEWYd6",
        "outputId": "72dd9efc-a2e1-41ae-b43d-755d6151e668",
        "colab": {
          "base_uri": "https://localhost:8080/"
        }
      },
      "execution_count": 18,
      "outputs": [
        {
          "output_type": "stream",
          "name": "stdout",
          "text": [
            "----------------------------------------------------------------\n",
            "        Layer (type)               Output Shape         Param #\n",
            "================================================================\n",
            "            Conv2d-1           [-1, 64, 75, 75]           9,408\n",
            "       BatchNorm2d-2           [-1, 64, 75, 75]             128\n",
            "              ReLU-3           [-1, 64, 75, 75]               0\n",
            "         MaxPool2d-4           [-1, 64, 38, 38]               0\n",
            "            Conv2d-5           [-1, 64, 38, 38]           4,096\n",
            "       BatchNorm2d-6           [-1, 64, 38, 38]             128\n",
            "              ReLU-7           [-1, 64, 38, 38]               0\n",
            "            Conv2d-8           [-1, 64, 38, 38]          36,864\n",
            "       BatchNorm2d-9           [-1, 64, 38, 38]             128\n",
            "             ReLU-10           [-1, 64, 38, 38]               0\n",
            "           Conv2d-11          [-1, 256, 38, 38]          16,384\n",
            "      BatchNorm2d-12          [-1, 256, 38, 38]             512\n",
            "           Conv2d-13          [-1, 256, 38, 38]          16,384\n",
            "      BatchNorm2d-14          [-1, 256, 38, 38]             512\n",
            "             ReLU-15          [-1, 256, 38, 38]               0\n",
            "       Bottleneck-16          [-1, 256, 38, 38]               0\n",
            "           Conv2d-17           [-1, 64, 38, 38]          16,384\n",
            "      BatchNorm2d-18           [-1, 64, 38, 38]             128\n",
            "             ReLU-19           [-1, 64, 38, 38]               0\n",
            "           Conv2d-20           [-1, 64, 38, 38]          36,864\n",
            "      BatchNorm2d-21           [-1, 64, 38, 38]             128\n",
            "             ReLU-22           [-1, 64, 38, 38]               0\n",
            "           Conv2d-23          [-1, 256, 38, 38]          16,384\n",
            "      BatchNorm2d-24          [-1, 256, 38, 38]             512\n",
            "             ReLU-25          [-1, 256, 38, 38]               0\n",
            "       Bottleneck-26          [-1, 256, 38, 38]               0\n",
            "           Conv2d-27           [-1, 64, 38, 38]          16,384\n",
            "      BatchNorm2d-28           [-1, 64, 38, 38]             128\n",
            "             ReLU-29           [-1, 64, 38, 38]               0\n",
            "           Conv2d-30           [-1, 64, 38, 38]          36,864\n",
            "      BatchNorm2d-31           [-1, 64, 38, 38]             128\n",
            "             ReLU-32           [-1, 64, 38, 38]               0\n",
            "           Conv2d-33          [-1, 256, 38, 38]          16,384\n",
            "      BatchNorm2d-34          [-1, 256, 38, 38]             512\n",
            "             ReLU-35          [-1, 256, 38, 38]               0\n",
            "       Bottleneck-36          [-1, 256, 38, 38]               0\n",
            "           Conv2d-37          [-1, 128, 38, 38]          32,768\n",
            "      BatchNorm2d-38          [-1, 128, 38, 38]             256\n",
            "             ReLU-39          [-1, 128, 38, 38]               0\n",
            "           Conv2d-40          [-1, 128, 19, 19]         147,456\n",
            "      BatchNorm2d-41          [-1, 128, 19, 19]             256\n",
            "             ReLU-42          [-1, 128, 19, 19]               0\n",
            "           Conv2d-43          [-1, 512, 19, 19]          65,536\n",
            "      BatchNorm2d-44          [-1, 512, 19, 19]           1,024\n",
            "           Conv2d-45          [-1, 512, 19, 19]         131,072\n",
            "      BatchNorm2d-46          [-1, 512, 19, 19]           1,024\n",
            "             ReLU-47          [-1, 512, 19, 19]               0\n",
            "       Bottleneck-48          [-1, 512, 19, 19]               0\n",
            "           Conv2d-49          [-1, 128, 19, 19]          65,536\n",
            "      BatchNorm2d-50          [-1, 128, 19, 19]             256\n",
            "             ReLU-51          [-1, 128, 19, 19]               0\n",
            "           Conv2d-52          [-1, 128, 19, 19]         147,456\n",
            "      BatchNorm2d-53          [-1, 128, 19, 19]             256\n",
            "             ReLU-54          [-1, 128, 19, 19]               0\n",
            "           Conv2d-55          [-1, 512, 19, 19]          65,536\n",
            "      BatchNorm2d-56          [-1, 512, 19, 19]           1,024\n",
            "             ReLU-57          [-1, 512, 19, 19]               0\n",
            "       Bottleneck-58          [-1, 512, 19, 19]               0\n",
            "           Conv2d-59          [-1, 128, 19, 19]          65,536\n",
            "      BatchNorm2d-60          [-1, 128, 19, 19]             256\n",
            "             ReLU-61          [-1, 128, 19, 19]               0\n",
            "           Conv2d-62          [-1, 128, 19, 19]         147,456\n",
            "      BatchNorm2d-63          [-1, 128, 19, 19]             256\n",
            "             ReLU-64          [-1, 128, 19, 19]               0\n",
            "           Conv2d-65          [-1, 512, 19, 19]          65,536\n",
            "      BatchNorm2d-66          [-1, 512, 19, 19]           1,024\n",
            "             ReLU-67          [-1, 512, 19, 19]               0\n",
            "       Bottleneck-68          [-1, 512, 19, 19]               0\n",
            "           Conv2d-69          [-1, 128, 19, 19]          65,536\n",
            "      BatchNorm2d-70          [-1, 128, 19, 19]             256\n",
            "             ReLU-71          [-1, 128, 19, 19]               0\n",
            "           Conv2d-72          [-1, 128, 19, 19]         147,456\n",
            "      BatchNorm2d-73          [-1, 128, 19, 19]             256\n",
            "             ReLU-74          [-1, 128, 19, 19]               0\n",
            "           Conv2d-75          [-1, 512, 19, 19]          65,536\n",
            "      BatchNorm2d-76          [-1, 512, 19, 19]           1,024\n",
            "             ReLU-77          [-1, 512, 19, 19]               0\n",
            "       Bottleneck-78          [-1, 512, 19, 19]               0\n",
            "           Conv2d-79          [-1, 256, 19, 19]         131,072\n",
            "      BatchNorm2d-80          [-1, 256, 19, 19]             512\n",
            "             ReLU-81          [-1, 256, 19, 19]               0\n",
            "           Conv2d-82          [-1, 256, 10, 10]         589,824\n",
            "      BatchNorm2d-83          [-1, 256, 10, 10]             512\n",
            "             ReLU-84          [-1, 256, 10, 10]               0\n",
            "           Conv2d-85         [-1, 1024, 10, 10]         262,144\n",
            "      BatchNorm2d-86         [-1, 1024, 10, 10]           2,048\n",
            "           Conv2d-87         [-1, 1024, 10, 10]         524,288\n",
            "      BatchNorm2d-88         [-1, 1024, 10, 10]           2,048\n",
            "             ReLU-89         [-1, 1024, 10, 10]               0\n",
            "       Bottleneck-90         [-1, 1024, 10, 10]               0\n",
            "           Conv2d-91          [-1, 256, 10, 10]         262,144\n",
            "      BatchNorm2d-92          [-1, 256, 10, 10]             512\n",
            "             ReLU-93          [-1, 256, 10, 10]               0\n",
            "           Conv2d-94          [-1, 256, 10, 10]         589,824\n",
            "      BatchNorm2d-95          [-1, 256, 10, 10]             512\n",
            "             ReLU-96          [-1, 256, 10, 10]               0\n",
            "           Conv2d-97         [-1, 1024, 10, 10]         262,144\n",
            "      BatchNorm2d-98         [-1, 1024, 10, 10]           2,048\n",
            "             ReLU-99         [-1, 1024, 10, 10]               0\n",
            "      Bottleneck-100         [-1, 1024, 10, 10]               0\n",
            "          Conv2d-101          [-1, 256, 10, 10]         262,144\n",
            "     BatchNorm2d-102          [-1, 256, 10, 10]             512\n",
            "            ReLU-103          [-1, 256, 10, 10]               0\n",
            "          Conv2d-104          [-1, 256, 10, 10]         589,824\n",
            "     BatchNorm2d-105          [-1, 256, 10, 10]             512\n",
            "            ReLU-106          [-1, 256, 10, 10]               0\n",
            "          Conv2d-107         [-1, 1024, 10, 10]         262,144\n",
            "     BatchNorm2d-108         [-1, 1024, 10, 10]           2,048\n",
            "            ReLU-109         [-1, 1024, 10, 10]               0\n",
            "      Bottleneck-110         [-1, 1024, 10, 10]               0\n",
            "          Conv2d-111          [-1, 256, 10, 10]         262,144\n",
            "     BatchNorm2d-112          [-1, 256, 10, 10]             512\n",
            "            ReLU-113          [-1, 256, 10, 10]               0\n",
            "          Conv2d-114          [-1, 256, 10, 10]         589,824\n",
            "     BatchNorm2d-115          [-1, 256, 10, 10]             512\n",
            "            ReLU-116          [-1, 256, 10, 10]               0\n",
            "          Conv2d-117         [-1, 1024, 10, 10]         262,144\n",
            "     BatchNorm2d-118         [-1, 1024, 10, 10]           2,048\n",
            "            ReLU-119         [-1, 1024, 10, 10]               0\n",
            "      Bottleneck-120         [-1, 1024, 10, 10]               0\n",
            "          Conv2d-121          [-1, 256, 10, 10]         262,144\n",
            "     BatchNorm2d-122          [-1, 256, 10, 10]             512\n",
            "            ReLU-123          [-1, 256, 10, 10]               0\n",
            "          Conv2d-124          [-1, 256, 10, 10]         589,824\n",
            "     BatchNorm2d-125          [-1, 256, 10, 10]             512\n",
            "            ReLU-126          [-1, 256, 10, 10]               0\n",
            "          Conv2d-127         [-1, 1024, 10, 10]         262,144\n",
            "     BatchNorm2d-128         [-1, 1024, 10, 10]           2,048\n",
            "            ReLU-129         [-1, 1024, 10, 10]               0\n",
            "      Bottleneck-130         [-1, 1024, 10, 10]               0\n",
            "          Conv2d-131          [-1, 256, 10, 10]         262,144\n",
            "     BatchNorm2d-132          [-1, 256, 10, 10]             512\n",
            "            ReLU-133          [-1, 256, 10, 10]               0\n",
            "          Conv2d-134          [-1, 256, 10, 10]         589,824\n",
            "     BatchNorm2d-135          [-1, 256, 10, 10]             512\n",
            "            ReLU-136          [-1, 256, 10, 10]               0\n",
            "          Conv2d-137         [-1, 1024, 10, 10]         262,144\n",
            "     BatchNorm2d-138         [-1, 1024, 10, 10]           2,048\n",
            "            ReLU-139         [-1, 1024, 10, 10]               0\n",
            "      Bottleneck-140         [-1, 1024, 10, 10]               0\n",
            "          Conv2d-141          [-1, 512, 10, 10]         524,288\n",
            "     BatchNorm2d-142          [-1, 512, 10, 10]           1,024\n",
            "            ReLU-143          [-1, 512, 10, 10]               0\n",
            "          Conv2d-144            [-1, 512, 5, 5]       2,359,296\n",
            "     BatchNorm2d-145            [-1, 512, 5, 5]           1,024\n",
            "            ReLU-146            [-1, 512, 5, 5]               0\n",
            "          Conv2d-147           [-1, 2048, 5, 5]       1,048,576\n",
            "     BatchNorm2d-148           [-1, 2048, 5, 5]           4,096\n",
            "          Conv2d-149           [-1, 2048, 5, 5]       2,097,152\n",
            "     BatchNorm2d-150           [-1, 2048, 5, 5]           4,096\n",
            "            ReLU-151           [-1, 2048, 5, 5]               0\n",
            "      Bottleneck-152           [-1, 2048, 5, 5]               0\n",
            "          Conv2d-153            [-1, 512, 5, 5]       1,048,576\n",
            "     BatchNorm2d-154            [-1, 512, 5, 5]           1,024\n",
            "            ReLU-155            [-1, 512, 5, 5]               0\n",
            "          Conv2d-156            [-1, 512, 5, 5]       2,359,296\n",
            "     BatchNorm2d-157            [-1, 512, 5, 5]           1,024\n",
            "            ReLU-158            [-1, 512, 5, 5]               0\n",
            "          Conv2d-159           [-1, 2048, 5, 5]       1,048,576\n",
            "     BatchNorm2d-160           [-1, 2048, 5, 5]           4,096\n",
            "            ReLU-161           [-1, 2048, 5, 5]               0\n",
            "      Bottleneck-162           [-1, 2048, 5, 5]               0\n",
            "          Conv2d-163            [-1, 512, 5, 5]       1,048,576\n",
            "     BatchNorm2d-164            [-1, 512, 5, 5]           1,024\n",
            "            ReLU-165            [-1, 512, 5, 5]               0\n",
            "          Conv2d-166            [-1, 512, 5, 5]       2,359,296\n",
            "     BatchNorm2d-167            [-1, 512, 5, 5]           1,024\n",
            "            ReLU-168            [-1, 512, 5, 5]               0\n",
            "          Conv2d-169           [-1, 2048, 5, 5]       1,048,576\n",
            "     BatchNorm2d-170           [-1, 2048, 5, 5]           4,096\n",
            "            ReLU-171           [-1, 2048, 5, 5]               0\n",
            "      Bottleneck-172           [-1, 2048, 5, 5]               0\n",
            "AdaptiveAvgPool2d-173           [-1, 2048, 1, 1]               0\n",
            "          Linear-174                   [-1, 10]          20,490\n",
            "================================================================\n",
            "Total params: 23,528,522\n",
            "Trainable params: 23,528,522\n",
            "Non-trainable params: 0\n",
            "----------------------------------------------------------------\n",
            "Input size (MB): 0.26\n",
            "Forward/backward pass size (MB): 135.13\n",
            "Params size (MB): 89.75\n",
            "Estimated Total Size (MB): 225.14\n",
            "----------------------------------------------------------------\n"
          ]
        }
      ]
    },
    {
      "cell_type": "code",
      "source": [
        "# def get_dataloaders(train_dataset, test_dataset, batch_size):\n",
        "\n",
        "#     train_size = int(0.8 * len(train_dataset))\n",
        "#     valid_size = len(train_dataset) - train_size\n",
        "#     train_dataset, validation_dataset = torch.utils.data.random_split(train_dataset, [train_size, valid_size])\n",
        "\n",
        "#     train_loader = DataLoader(train_dataset, batch_size=batch_size, shuffle=True, pin_memory=True, num_workers=4)\n",
        "#     valid_loader = DataLoader(validation_dataset, batch_size=batch_size, shuffle=True, pin_memory=True, num_workers=4)\n",
        "#     test_loader = DataLoader(test_dataset, batch_size=batch_size, shuffle=True, pin_memory=True, num_workers=4)\n",
        "\n",
        "#     return train_loader, valid_loader, test_loader\n",
        "# from torch.utils.tensorboard import SummaryWriter\n",
        "# writer = SummaryWriter('runs/')\n",
        "\n",
        "# def train_epoch(training_model, loader, criterion, optim):\n",
        "#     training_model.train()\n",
        "#     epoch_loss = 0.0\n",
        "#     all_labels = []\n",
        "#     all_predictions = []\n",
        "\n",
        "#     for images, labels in loader:\n",
        "#       all_labels.extend(labels.numpy())\n",
        "\n",
        "#       optim.zero_grad()\n",
        "\n",
        "#       predictions = training_model(images.to(device))\n",
        "#       all_predictions.extend(torch.argmax(predictions, dim=1).cpu().numpy())\n",
        "\n",
        "#       loss = criterion(predictions, labels.to(device))\n",
        "\n",
        "#       loss.backward()\n",
        "#       optim.step()\n",
        "\n",
        "#       epoch_loss += loss.item()\n",
        "\n",
        "#     return epoch_loss / len(loader), accuracy_score(all_labels, all_predictions) * 100\n",
        "\n",
        "\n",
        "# def validation_epoch(val_model, loader, criterion):\n",
        "#     val_model.eval()\n",
        "#     epoch_loss = 0.0\n",
        "#     all_labels = []\n",
        "#     all_predictions = []\n",
        "\n",
        "#     with torch.no_grad():\n",
        "#       for images, labels in loader:\n",
        "#         all_labels.extend(labels.numpy())\n",
        "\n",
        "#         predictions = val_model(images.to(device))\n",
        "#         all_predictions.extend(torch.argmax(predictions, dim=1).cpu().numpy())\n",
        "\n",
        "#         loss = criterion(predictions, labels.to(device))\n",
        "\n",
        "#         epoch_loss += loss.item()\n",
        "\n",
        "#     return epoch_loss / len(loader), accuracy_score(all_labels, all_predictions) * 100\n",
        "\n",
        "\n",
        "# def train_model(model, train_loader, test_loader, criterion, optim, number_epochs, run_name):\n",
        "#   writer = SummaryWriter(f'runs/{run_name}')\n",
        "#   train_history = []\n",
        "#   test_history = []\n",
        "#   accuracy_history = []\n",
        "\n",
        "#   for epoch in range(number_epochs):\n",
        "#       start_time = time.time()\n",
        "\n",
        "#       train_loss, train_acc = train_epoch(model, train_loader, criterion, optimizer)\n",
        "#       train_history.append(train_loss)\n",
        "#       print(\"Training epoch {} | Loss {:.6f} | Accuracy {:.2f}% | Time {:.2f} seconds\"\n",
        "#             .format(epoch + 1, train_loss, train_acc, time.time() - start_time))\n",
        "\n",
        "#       start_time = time.time()\n",
        "#       test_loss, acc = validation_epoch(model, test_loader, criterion)\n",
        "#       test_history.append(test_loss)\n",
        "#       accuracy_history.append(acc)\n",
        "#       print(\"Validation epoch {} | Loss {:.6f} | Accuracy {:.2f}% | Time {:.2f} seconds\"\n",
        "#             .format(epoch + 1, test_loss, acc, time.time() - start_time))\n",
        "\n",
        "#       writer.add_scalar('Training loss', train_loss, epoch)\n",
        "#       writer.add_scalar('Training accuracy', train_acc, epoch)\n",
        "#       writer.add_scalar('Validation loss', test_loss, epoch)\n",
        "#       writer.add_scalar('Validation accuracy', acc, epoch)\n",
        "#       for name, param in model.named_parameters():\n",
        "#             writer.add_histogram(name, param.clone().cpu().data.numpy(), epoch)\n",
        "#             if param.grad is not None:\n",
        "#                 writer.add_histogram(f\"{name}.grad\", param.grad.clone().cpu().data.numpy(), epoch)\n",
        "\n",
        "#       writer.close()\n",
        "\n",
        "# def test_model(test_model, loader, criterion):\n",
        "#     test_model.eval()\n",
        "#     epoch_loss = 0.0\n",
        "#     all_labels = []\n",
        "#     all_predictions = []\n",
        "\n",
        "#     with torch.no_grad():\n",
        "#         for images, labels in loader:\n",
        "#             all_labels.extend(labels.numpy())\n",
        "\n",
        "#             predictions = test_model(images.to(device))\n",
        "#             all_predictions.extend(torch.argmax(predictions, dim=1).cpu().numpy())\n",
        "\n",
        "#             loss = criterion(predictions, labels.to(device))\n",
        "#             epoch_loss += loss.item()\n",
        "\n",
        "#     return epoch_loss / len(loader), accuracy_score(all_labels, all_predictions) * 100\n",
        "\n",
        "# device = torch.device('cuda:0' if torch.cuda.is_available() else 'cpu')\n",
        "# print(device)"
      ],
      "metadata": {
        "id": "_hFWqldubiQ-"
      },
      "execution_count": 19,
      "outputs": []
    },
    {
      "cell_type": "code",
      "source": [
        "import torch\n",
        "from torchvision import transforms\n",
        "from torchvision.datasets import ImageFolder\n",
        "from torch.utils.data import DataLoader\n",
        "from datetime import datetime\n",
        "\n",
        "\n",
        "torch.manual_seed(42)\n",
        "torch.backends.cudnn.deterministic = True\n",
        "torch.backends.cudnn.benchmark = False\n",
        "\n",
        "train_transform = transforms.Compose([\n",
        "    transforms.Resize((150, 150)),\n",
        "    transforms.ToTensor()\n",
        "])\n",
        "\n",
        "test_transform = transforms.Compose([\n",
        "    transforms.Resize((150, 150)),\n",
        "    transforms.ToTensor()\n",
        "])\n",
        "\n",
        "train_dataset = ImageFolder(\"train_set\", transform=train_transform)\n",
        "test_dataset = ImageFolder(\"test_set\", transform=test_transform)\n",
        "\n",
        "train_size = int(0.8 * len(train_dataset))\n",
        "valid_size = len(train_dataset) - train_size\n",
        "train, validation = torch.utils.data.random_split(train_dataset, [train_size, valid_size])\n",
        "print(f\"{len(train)} Training images, {len(validation)} Validation images\")\n",
        "\n",
        "train_loader = DataLoader(train, batch_size=BATCH_SIZE, shuffle=True, pin_memory=True)\n",
        "val_loader = DataLoader(validation, batch_size=BATCH_SIZE, pin_memory=True)\n",
        "test_loader = DataLoader(test_dataset, batch_size=BATCH_SIZE, pin_memory=True)\n",
        "\n",
        "#\n",
        "device = torch.device('cuda:0' if torch.cuda.is_available() else 'cpu')\n",
        "print(device)\n",
        "\n",
        "\n",
        "BATCH_SIZE = 20\n",
        "LR = 0.0001\n",
        "NUMBER_EPOCHS = 20\n",
        "criterion = nn.CrossEntropyLoss().to(device)\n",
        "\n",
        "device = torch.device(\"cuda\" if torch.cuda.is_available() else \"cpu\")\n",
        "model_resnet50 = resnet50(num_classes = 10).to(device)\n",
        "\n",
        "# summary(model_resnet50,input_size=(3,150,150))\n",
        "\n",
        "optimizer = torch.optim.Adam(model_resnet50.parameters(), lr=LR)\n",
        "\n",
        "run_name = 'resnet_sin_aug'+str(datetime.now())\n",
        "\n",
        "train_model(model_resnet50, train_loader, val_loader, criterion, optimizer, NUMBER_EPOCHS,run_name)\n"
      ],
      "metadata": {
        "id": "5YqYcZfobiQ-",
        "outputId": "10530513-81ed-4a13-a3e2-ce1cec764d6f",
        "colab": {
          "base_uri": "https://localhost:8080/"
        }
      },
      "execution_count": 20,
      "outputs": [
        {
          "output_type": "stream",
          "name": "stdout",
          "text": [
            "11227 Training images, 2807 Validation images\n",
            "cuda:0\n",
            "Training epoch 1 | Loss 1.066600 | Accuracy 58.87% | Precision 50.23% | Recall 64.68% | F1 Score 50.26% | Time 44.72 seconds\n",
            "Validation epoch 1 | Loss 1.038655 | Accuracy 61.99% | Precision 65.30% | Recall 61.33% | F1 Score 61.77% | Time 6.47 seconds\n",
            "Training epoch 2 | Loss 0.728775 | Accuracy 72.62% | Precision 72.59% | Recall 72.67% | F1 Score 72.63% | Time 44.16 seconds\n",
            "Validation epoch 2 | Loss 0.868667 | Accuracy 67.12% | Precision 73.69% | Recall 67.73% | F1 Score 67.34% | Time 6.76 seconds\n",
            "Training epoch 3 | Loss 0.576529 | Accuracy 79.29% | Precision 79.37% | Recall 79.41% | F1 Score 79.39% | Time 44.35 seconds\n",
            "Validation epoch 3 | Loss 0.658206 | Accuracy 76.13% | Precision 78.90% | Recall 76.07% | F1 Score 75.71% | Time 6.50 seconds\n",
            "Training epoch 4 | Loss 0.482748 | Accuracy 82.32% | Precision 82.42% | Recall 82.44% | F1 Score 82.43% | Time 44.45 seconds\n",
            "Validation epoch 4 | Loss 0.649347 | Accuracy 76.06% | Precision 78.16% | Recall 76.17% | F1 Score 76.07% | Time 6.68 seconds\n",
            "Training epoch 5 | Loss 0.415971 | Accuracy 85.05% | Precision 85.22% | Recall 85.18% | F1 Score 85.20% | Time 44.34 seconds\n",
            "Validation epoch 5 | Loss 0.562943 | Accuracy 80.41% | Precision 81.51% | Recall 80.70% | F1 Score 80.44% | Time 6.70 seconds\n",
            "Training epoch 6 | Loss 0.351719 | Accuracy 87.44% | Precision 87.55% | Recall 87.56% | F1 Score 87.55% | Time 44.19 seconds\n",
            "Validation epoch 6 | Loss 0.781961 | Accuracy 72.21% | Precision 79.24% | Recall 72.58% | F1 Score 72.41% | Time 6.72 seconds\n",
            "Training epoch 7 | Loss 0.320560 | Accuracy 88.50% | Precision 88.60% | Recall 88.63% | F1 Score 88.61% | Time 44.85 seconds\n",
            "Validation epoch 7 | Loss 0.585726 | Accuracy 80.41% | Precision 80.73% | Recall 80.55% | F1 Score 80.31% | Time 6.74 seconds\n",
            "Training epoch 8 | Loss 0.277676 | Accuracy 90.14% | Precision 90.24% | Recall 90.21% | F1 Score 90.23% | Time 44.57 seconds\n",
            "Validation epoch 8 | Loss 0.801809 | Accuracy 75.49% | Precision 79.46% | Recall 75.65% | F1 Score 75.29% | Time 6.61 seconds\n",
            "Training epoch 9 | Loss 0.244558 | Accuracy 91.23% | Precision 91.30% | Recall 91.29% | F1 Score 91.29% | Time 44.63 seconds\n",
            "Validation epoch 9 | Loss 0.803456 | Accuracy 75.63% | Precision 79.20% | Recall 76.38% | F1 Score 75.84% | Time 6.74 seconds\n",
            "Training epoch 10 | Loss 0.211470 | Accuracy 92.71% | Precision 92.76% | Recall 92.75% | F1 Score 92.76% | Time 44.57 seconds\n",
            "Validation epoch 10 | Loss 0.642396 | Accuracy 80.48% | Precision 81.13% | Recall 80.38% | F1 Score 80.31% | Time 6.70 seconds\n",
            "Training epoch 11 | Loss 0.188358 | Accuracy 93.53% | Precision 93.59% | Recall 93.57% | F1 Score 93.58% | Time 44.43 seconds\n",
            "Validation epoch 11 | Loss 0.764186 | Accuracy 79.41% | Precision 80.96% | Recall 79.00% | F1 Score 78.80% | Time 6.54 seconds\n",
            "Training epoch 12 | Loss 0.166116 | Accuracy 94.16% | Precision 94.22% | Recall 94.20% | F1 Score 94.21% | Time 44.12 seconds\n",
            "Validation epoch 12 | Loss 0.792040 | Accuracy 78.20% | Precision 79.52% | Recall 78.52% | F1 Score 78.13% | Time 6.77 seconds\n",
            "Training epoch 13 | Loss 0.136037 | Accuracy 95.32% | Precision 95.36% | Recall 95.34% | F1 Score 95.35% | Time 45.16 seconds\n",
            "Validation epoch 13 | Loss 0.754699 | Accuracy 80.51% | Precision 81.56% | Recall 80.62% | F1 Score 80.72% | Time 6.68 seconds\n",
            "Training epoch 14 | Loss 0.115670 | Accuracy 96.20% | Precision 96.23% | Recall 96.22% | F1 Score 96.23% | Time 44.62 seconds\n",
            "Validation epoch 14 | Loss 1.061950 | Accuracy 75.10% | Precision 77.52% | Recall 75.29% | F1 Score 75.15% | Time 6.45 seconds\n",
            "Training epoch 15 | Loss 0.114776 | Accuracy 95.99% | Precision 96.04% | Recall 96.03% | F1 Score 96.04% | Time 44.68 seconds\n",
            "Validation epoch 15 | Loss 0.716714 | Accuracy 80.55% | Precision 81.05% | Recall 80.56% | F1 Score 80.34% | Time 6.46 seconds\n",
            "Training epoch 16 | Loss 0.121883 | Accuracy 95.75% | Precision 95.79% | Recall 95.78% | F1 Score 95.79% | Time 44.57 seconds\n",
            "Validation epoch 16 | Loss 0.809001 | Accuracy 78.66% | Precision 79.71% | Recall 78.65% | F1 Score 78.37% | Time 6.57 seconds\n",
            "Training epoch 17 | Loss 0.090098 | Accuracy 96.98% | Precision 97.00% | Recall 97.01% | F1 Score 97.01% | Time 44.50 seconds\n",
            "Validation epoch 17 | Loss 0.874064 | Accuracy 78.95% | Precision 79.72% | Recall 79.35% | F1 Score 78.88% | Time 6.60 seconds\n",
            "Training epoch 18 | Loss 0.089366 | Accuracy 97.09% | Precision 97.11% | Recall 97.12% | F1 Score 97.11% | Time 44.62 seconds\n",
            "Validation epoch 18 | Loss 0.755583 | Accuracy 81.37% | Precision 82.45% | Recall 81.06% | F1 Score 81.06% | Time 6.69 seconds\n",
            "Training epoch 19 | Loss 0.082241 | Accuracy 97.20% | Precision 97.23% | Recall 97.22% | F1 Score 97.22% | Time 45.01 seconds\n",
            "Validation epoch 19 | Loss 0.849508 | Accuracy 80.23% | Precision 80.78% | Recall 80.56% | F1 Score 80.12% | Time 6.61 seconds\n",
            "Training epoch 20 | Loss 0.079486 | Accuracy 97.39% | Precision 97.41% | Recall 97.42% | F1 Score 97.41% | Time 43.80 seconds\n",
            "Validation epoch 20 | Loss 1.190976 | Accuracy 72.64% | Precision 75.63% | Recall 72.28% | F1 Score 71.93% | Time 6.46 seconds\n"
          ]
        }
      ]
    },
    {
      "cell_type": "code",
      "source": [
        "# test_loss, test_accuracy = test_model(model_resnet50, test_loader, criterion)\n",
        "# print(\"Test Loss: {:.6f}\".format(test_loss))\n",
        "# print(\"Test Accuracy: {:.2f}%\".format(test_accuracy))\n",
        "test_loss, test_accuracy,  test_precision, test_recall, test_f1 = test_model(model_resnet50, test_loader, criterion)\n",
        "\n",
        "print(f\"DenseNet Test set:\\n\")\n",
        "print(\"Test Loss: {:.6f}\".format(test_loss))\n",
        "print(\"Test Accuracy: {:.2f}%\".format(test_accuracy))\n",
        "print(\"Test Precision: {:.6f}\".format(test_precision))\n",
        "print(\"Test Recall: {:.2f}%\".format(test_recall))\n",
        "print(\"Test F1: {:.6f}\".format(test_f1))"
      ],
      "metadata": {
        "id": "zXW1SJXxbiQ-",
        "outputId": "df21a491-2532-4f10-d4c3-38e4510dea18",
        "colab": {
          "base_uri": "https://localhost:8080/"
        }
      },
      "execution_count": 22,
      "outputs": [
        {
          "output_type": "stream",
          "name": "stdout",
          "text": [
            "Test | Loss 1.133015 | Accuracy 72.83% | Precision 76.79% | Recall 72.56% | F1 Score 72.51%\n",
            "DenseNet Test set:\n",
            "\n",
            "Test Loss: 1.133015\n",
            "Test Accuracy: 72.83%\n",
            "Test Precision: 0.767857\n",
            "Test Recall: 0.73%\n",
            "Test F1: 0.725147\n"
          ]
        }
      ]
    },
    {
      "cell_type": "code",
      "source": [
        "# %load_ext tensorboard\n",
        "# %tensorboard --logdir runs"
      ],
      "metadata": {
        "id": "PB8E5YAFNMMO"
      },
      "execution_count": null,
      "outputs": []
    },
    {
      "cell_type": "markdown",
      "source": [
        "# ResNet + Augmentations"
      ],
      "metadata": {
        "id": "O6jl5f-cFeW1"
      }
    },
    {
      "cell_type": "code",
      "source": [
        "import torch\n",
        "from torchvision import transforms\n",
        "from torchvision.datasets import ImageFolder\n",
        "from torch.utils.data import DataLoader\n",
        "\n",
        "torch.manual_seed(42)\n",
        "\n",
        "torch.backends.cudnn.deterministic = True\n",
        "torch.backends.cudnn.benchmark = False\n",
        "\n",
        "train_transform = transforms.Compose([\n",
        "    transforms.Resize((150, 150)),\n",
        "    # transforms.RandomAffine(degrees=0.4*180/np.pi,\n",
        "    #                         translate=(0.5, 0.3),\n",
        "    #                         scale=(1-0.4, 1+0.4),\n",
        "    #                         shear=0.3*180/np.pi),\n",
        "    transforms.RandomHorizontalFlip(p=0.2),\n",
        "    # transforms.RandomVerticalFlip(p=0.4),\n",
        "    transforms.ColorJitter(brightness=(0.1, 0.2)),\n",
        "    # transforms.RandomRotation(degrees=0.4*180/np.pi),\n",
        "    transforms.ToTensor()  # This converts the image to the [0,1] range\n",
        "])\n",
        "\n",
        "\n",
        "test_transform = transforms.Compose([\n",
        "    transforms.Resize((150, 150)),\n",
        "    transforms.ToTensor()\n",
        "])\n",
        "\n",
        "train_dataset = ImageFolder(\"train_set\", transform=train_transform)\n",
        "test_dataset = ImageFolder(\"test_set\", transform=test_transform)\n",
        "\n",
        "BATCH_SIZE = 10\n",
        "\n",
        "train_size = int(0.8 * len(train_dataset))\n",
        "valid_size = len(train_dataset) - train_size\n",
        "train, validation = torch.utils.data.random_split(train_dataset, [train_size, valid_size])\n",
        "print(f\"{len(train)} Training images, {len(validation)} Validation images\")\n",
        "\n",
        "train_loader = DataLoader(train, batch_size=BATCH_SIZE, shuffle=True, pin_memory=True)\n",
        "val_loader = DataLoader(validation, batch_size=BATCH_SIZE, pin_memory=True)\n",
        "test_loader = DataLoader(test_dataset, batch_size=BATCH_SIZE, pin_memory=True)\n",
        "\n",
        "\n",
        "device = torch.device('cuda:0' if torch.cuda.is_available() else 'cpu')\n",
        "print(device)\n",
        "\n",
        "\n",
        "BATCH_SIZE = 20\n",
        "LR = 0.0001\n",
        "NUMBER_EPOCHS = 50\n",
        "criterion = nn.CrossEntropyLoss().to(device)\n",
        "\n",
        "device = torch.device(\"cuda\" if torch.cuda.is_available() else \"cpu\")\n",
        "model_resnet50_con_aug = resnet50(num_classes = 10).to(device)\n",
        "\n",
        "optimizer = torch.optim.Adam(model_resnet50_con_aug.parameters(), lr=LR)\n",
        "\n",
        "run_name = 'resnet_con_aug'+str(datetime.now())\n",
        "\n",
        "train_model(model_resnet50_con_aug, train_loader, val_loader, criterion, optimizer, NUMBER_EPOCHS, run_name)\n"
      ],
      "metadata": {
        "id": "gY9EQI2OFbyC",
        "outputId": "96de6090-6f2d-4234-f35c-b3385445adb1",
        "colab": {
          "base_uri": "https://localhost:8080/"
        }
      },
      "execution_count": null,
      "outputs": [
        {
          "output_type": "stream",
          "name": "stdout",
          "text": [
            "11227 Training images, 2807 Validation images\n",
            "cuda:0\n",
            "Training epoch 1 | Loss 1.172573 | Accuracy 55.10% | Precision 46.78% | Recall 61.42% | F1 Score 46.89% | Time 80.42 seconds\n",
            "Validation epoch 1 | Loss 0.856674 | Accuracy 66.12% | Precision 70.11% | Recall 66.54% | F1 Score 65.79% | Time 9.83 seconds\n",
            "Training epoch 2 | Loss 0.788004 | Accuracy 70.30% | Precision 70.32% | Recall 70.35% | F1 Score 70.33% | Time 80.27 seconds\n",
            "Validation epoch 2 | Loss 0.646981 | Accuracy 75.63% | Precision 76.83% | Recall 76.17% | F1 Score 75.35% | Time 9.89 seconds\n",
            "Training epoch 3 | Loss 0.645573 | Accuracy 76.57% | Precision 76.68% | Recall 76.66% | F1 Score 76.66% | Time 80.36 seconds\n",
            "Validation epoch 3 | Loss 0.587344 | Accuracy 79.69% | Precision 80.59% | Recall 79.59% | F1 Score 79.77% | Time 9.85 seconds\n",
            "Training epoch 4 | Loss 0.582501 | Accuracy 79.02% | Precision 79.16% | Recall 79.12% | F1 Score 79.14% | Time 80.12 seconds\n",
            "Validation epoch 4 | Loss 0.849450 | Accuracy 70.64% | Precision 74.94% | Recall 70.64% | F1 Score 70.29% | Time 10.40 seconds\n",
            "Training epoch 5 | Loss 0.519715 | Accuracy 81.38% | Precision 81.48% | Recall 81.49% | F1 Score 81.48% | Time 84.06 seconds\n",
            "Validation epoch 5 | Loss 0.613463 | Accuracy 77.41% | Precision 78.82% | Recall 77.68% | F1 Score 77.34% | Time 10.29 seconds\n",
            "Training epoch 6 | Loss 0.490292 | Accuracy 82.24% | Precision 82.36% | Recall 82.36% | F1 Score 82.36% | Time 82.40 seconds\n",
            "Validation epoch 6 | Loss 0.730118 | Accuracy 74.21% | Precision 77.66% | Recall 73.76% | F1 Score 73.38% | Time 10.30 seconds\n",
            "Training epoch 7 | Loss 0.451969 | Accuracy 83.83% | Precision 83.93% | Recall 83.94% | F1 Score 83.94% | Time 82.19 seconds\n",
            "Validation epoch 7 | Loss 0.429210 | Accuracy 84.47% | Precision 84.76% | Recall 84.58% | F1 Score 84.44% | Time 9.98 seconds\n",
            "Training epoch 8 | Loss 0.417884 | Accuracy 85.03% | Precision 85.18% | Recall 85.15% | F1 Score 85.16% | Time 82.25 seconds\n",
            "Validation epoch 8 | Loss 0.471498 | Accuracy 83.08% | Precision 83.36% | Recall 83.13% | F1 Score 83.13% | Time 10.29 seconds\n",
            "Training epoch 9 | Loss 0.389246 | Accuracy 86.17% | Precision 86.31% | Recall 86.27% | F1 Score 86.28% | Time 82.48 seconds\n",
            "Validation epoch 9 | Loss 0.425312 | Accuracy 84.72% | Precision 84.86% | Recall 84.74% | F1 Score 84.65% | Time 10.32 seconds\n",
            "Training epoch 10 | Loss 0.359790 | Accuracy 87.01% | Precision 87.14% | Recall 87.14% | F1 Score 87.14% | Time 80.47 seconds\n",
            "Validation epoch 10 | Loss 0.548847 | Accuracy 80.48% | Precision 82.05% | Recall 80.97% | F1 Score 80.52% | Time 9.75 seconds\n",
            "Training epoch 11 | Loss 0.335435 | Accuracy 88.33% | Precision 88.47% | Recall 88.45% | F1 Score 88.46% | Time 79.44 seconds\n",
            "Validation epoch 11 | Loss 0.596953 | Accuracy 78.95% | Precision 82.59% | Recall 79.32% | F1 Score 79.27% | Time 9.76 seconds\n",
            "Training epoch 12 | Loss 0.306031 | Accuracy 89.20% | Precision 89.34% | Recall 89.33% | F1 Score 89.33% | Time 79.84 seconds\n",
            "Validation epoch 12 | Loss 0.385846 | Accuracy 86.82% | Precision 87.03% | Recall 87.01% | F1 Score 86.91% | Time 9.95 seconds\n",
            "Training epoch 13 | Loss 0.272440 | Accuracy 90.38% | Precision 90.51% | Recall 90.49% | F1 Score 90.50% | Time 79.63 seconds\n",
            "Validation epoch 13 | Loss 0.528406 | Accuracy 81.76% | Precision 83.72% | Recall 81.59% | F1 Score 81.80% | Time 9.81 seconds\n",
            "Training epoch 14 | Loss 0.247888 | Accuracy 91.41% | Precision 91.52% | Recall 91.51% | F1 Score 91.51% | Time 79.95 seconds\n",
            "Validation epoch 14 | Loss 0.456290 | Accuracy 84.65% | Precision 85.62% | Recall 84.61% | F1 Score 84.60% | Time 9.84 seconds\n",
            "Training epoch 15 | Loss 0.241213 | Accuracy 91.39% | Precision 91.52% | Recall 91.51% | F1 Score 91.51% | Time 79.63 seconds\n",
            "Validation epoch 15 | Loss 0.497863 | Accuracy 83.54% | Precision 84.60% | Recall 83.24% | F1 Score 83.43% | Time 9.78 seconds\n",
            "Training epoch 16 | Loss 0.221095 | Accuracy 92.29% | Precision 92.37% | Recall 92.38% | F1 Score 92.37% | Time 80.19 seconds\n",
            "Validation epoch 16 | Loss 0.464255 | Accuracy 84.72% | Precision 85.58% | Recall 84.81% | F1 Score 84.76% | Time 9.94 seconds\n",
            "Training epoch 17 | Loss 0.190150 | Accuracy 93.10% | Precision 93.19% | Recall 93.19% | F1 Score 93.19% | Time 82.05 seconds\n",
            "Validation epoch 17 | Loss 0.444428 | Accuracy 85.96% | Precision 86.43% | Recall 85.84% | F1 Score 85.81% | Time 10.09 seconds\n"
          ]
        }
      ]
    },
    {
      "cell_type": "code",
      "source": [
        "# test_loss, test_accuracy = test_model(model_resnet50_con_aug, test_loader, criterion)\n",
        "# print(\"Test Loss: {:.6f}\".format(test_loss))\n",
        "# print(\"Test Accuracy: {:.2f}%\".format(test_accuracy))\n",
        "test_loss, test_accuracy,  test_precision, test_recall, test_f1 = test_model(model_resnet50_con_aug, test_loader, criterion)\n",
        "\n",
        "print(f\"DenseNet Test set:\\n\")\n",
        "print(\"Test Loss: {:.6f}\".format(test_loss))\n",
        "print(\"Test Accuracy: {:.2f}%\".format(test_accuracy))\n",
        "print(\"Test Precision: {:.6f}\".format(test_precision))\n",
        "print(\"Test Recall: {:.2f}%\".format(test_recall))\n",
        "print(\"Test F1: {:.6f}\".format(test_f1))"
      ],
      "metadata": {
        "id": "Uc0N7M6ZF9LE",
        "outputId": "2005785a-c236-4553-917b-98963ed7f846",
        "colab": {
          "base_uri": "https://localhost:8080/"
        }
      },
      "execution_count": null,
      "outputs": [
        {
          "output_type": "stream",
          "name": "stdout",
          "text": [
            "Test Loss: 3.289479\n",
            "Test Accuracy: 45.00%\n"
          ]
        }
      ]
    },
    {
      "cell_type": "code",
      "source": [
        "%reload_ext tensorboard\n",
        "%tensorboard --logdir runs# --port 6008"
      ],
      "metadata": {
        "id": "BhojumNCRCeq",
        "outputId": "24d3aee2-3c19-4163-c7ab-20c2ff74e47e",
        "colab": {
          "base_uri": "https://localhost:8080/",
          "height": 821
        }
      },
      "execution_count": null,
      "outputs": [
        {
          "output_type": "display_data",
          "data": {
            "text/plain": [
              "<IPython.core.display.Javascript object>"
            ],
            "application/javascript": [
              "\n",
              "        (async () => {\n",
              "            const url = new URL(await google.colab.kernel.proxyPort(6008, {'cache': true}));\n",
              "            url.searchParams.set('tensorboardColab', 'true');\n",
              "            const iframe = document.createElement('iframe');\n",
              "            iframe.src = url;\n",
              "            iframe.setAttribute('width', '100%');\n",
              "            iframe.setAttribute('height', '800');\n",
              "            iframe.setAttribute('frameborder', 0);\n",
              "            document.body.appendChild(iframe);\n",
              "        })();\n",
              "    "
            ]
          },
          "metadata": {}
        }
      ]
    }
  ]
}