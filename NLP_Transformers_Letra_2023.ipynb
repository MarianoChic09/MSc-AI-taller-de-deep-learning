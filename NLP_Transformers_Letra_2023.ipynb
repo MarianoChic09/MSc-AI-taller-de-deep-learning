{
  "cells": [
    {
      "cell_type": "markdown",
      "metadata": {
        "id": "view-in-github",
        "colab_type": "text"
      },
      "source": [
        "<a href=\"https://colab.research.google.com/github/MarianoChic09/MSc-AI-taller-de-deep-learning/blob/main/NLP_Transformers_Letra_2023.ipynb\" target=\"_parent\"><img src=\"https://colab.research.google.com/assets/colab-badge.svg\" alt=\"Open In Colab\"/></a>"
      ]
    },
    {
      "cell_type": "markdown",
      "metadata": {
        "id": "hf1xDb60Rn-O"
      },
      "source": [
        "# Transformer\n",
        "\n",
        "En este laboratorio vamos a implementar una arquitectura de transformer desde cero. Recuerden usar la GPU de colab para acelerar el entrenamiento."
      ]
    },
    {
      "cell_type": "code",
      "source": [],
      "metadata": {
        "id": "tz4wYpGG8hQn"
      },
      "execution_count": null,
      "outputs": []
    },
    {
      "cell_type": "code",
      "execution_count": 1,
      "metadata": {
        "colab": {
          "base_uri": "https://localhost:8080/"
        },
        "id": "XZvV_rap8EL_",
        "outputId": "bae613bc-12a7-423e-e336-b3fe58e5c710"
      },
      "outputs": [
        {
          "output_type": "stream",
          "name": "stdout",
          "text": [
            "Collecting torch==1.11.0\n",
            "  Downloading torch-1.11.0-cp310-cp310-manylinux1_x86_64.whl (750.6 MB)\n",
            "\u001b[2K     \u001b[90m━━━━━━━━━━━━━━━━━━━━━━━━━━━━━━━━━━━━━━━━\u001b[0m \u001b[32m750.6/750.6 MB\u001b[0m \u001b[31m2.0 MB/s\u001b[0m eta \u001b[36m0:00:00\u001b[0m\n",
            "\u001b[?25hCollecting torchtext==0.6.0\n",
            "  Downloading torchtext-0.6.0-py3-none-any.whl (64 kB)\n",
            "\u001b[2K     \u001b[90m━━━━━━━━━━━━━━━━━━━━━━━━━━━━━━━━━━━━━━━━\u001b[0m \u001b[32m64.2/64.2 kB\u001b[0m \u001b[31m8.2 MB/s\u001b[0m eta \u001b[36m0:00:00\u001b[0m\n",
            "\u001b[?25hRequirement already satisfied: typing-extensions in /usr/local/lib/python3.10/dist-packages (from torch==1.11.0) (4.5.0)\n",
            "Requirement already satisfied: tqdm in /usr/local/lib/python3.10/dist-packages (from torchtext==0.6.0) (4.66.1)\n",
            "Requirement already satisfied: requests in /usr/local/lib/python3.10/dist-packages (from torchtext==0.6.0) (2.31.0)\n",
            "Requirement already satisfied: numpy in /usr/local/lib/python3.10/dist-packages (from torchtext==0.6.0) (1.23.5)\n",
            "Requirement already satisfied: six in /usr/local/lib/python3.10/dist-packages (from torchtext==0.6.0) (1.16.0)\n",
            "Collecting sentencepiece (from torchtext==0.6.0)\n",
            "  Downloading sentencepiece-0.1.99-cp310-cp310-manylinux_2_17_x86_64.manylinux2014_x86_64.whl (1.3 MB)\n",
            "\u001b[2K     \u001b[90m━━━━━━━━━━━━━━━━━━━━━━━━━━━━━━━━━━━━━━━━\u001b[0m \u001b[32m1.3/1.3 MB\u001b[0m \u001b[31m59.8 MB/s\u001b[0m eta \u001b[36m0:00:00\u001b[0m\n",
            "\u001b[?25hRequirement already satisfied: charset-normalizer<4,>=2 in /usr/local/lib/python3.10/dist-packages (from requests->torchtext==0.6.0) (3.3.2)\n",
            "Requirement already satisfied: idna<4,>=2.5 in /usr/local/lib/python3.10/dist-packages (from requests->torchtext==0.6.0) (3.4)\n",
            "Requirement already satisfied: urllib3<3,>=1.21.1 in /usr/local/lib/python3.10/dist-packages (from requests->torchtext==0.6.0) (2.0.7)\n",
            "Requirement already satisfied: certifi>=2017.4.17 in /usr/local/lib/python3.10/dist-packages (from requests->torchtext==0.6.0) (2023.7.22)\n",
            "Installing collected packages: sentencepiece, torch, torchtext\n",
            "  Attempting uninstall: torch\n",
            "    Found existing installation: torch 2.1.0+cu118\n",
            "    Uninstalling torch-2.1.0+cu118:\n",
            "      Successfully uninstalled torch-2.1.0+cu118\n",
            "  Attempting uninstall: torchtext\n",
            "    Found existing installation: torchtext 0.16.0\n",
            "    Uninstalling torchtext-0.16.0:\n",
            "      Successfully uninstalled torchtext-0.16.0\n",
            "\u001b[31mERROR: pip's dependency resolver does not currently take into account all the packages that are installed. This behaviour is the source of the following dependency conflicts.\n",
            "torchaudio 2.1.0+cu118 requires torch==2.1.0, but you have torch 1.11.0 which is incompatible.\n",
            "torchdata 0.7.0 requires torch==2.1.0, but you have torch 1.11.0 which is incompatible.\n",
            "torchvision 0.16.0+cu118 requires torch==2.1.0, but you have torch 1.11.0 which is incompatible.\u001b[0m\u001b[31m\n",
            "\u001b[0mSuccessfully installed sentencepiece-0.1.99 torch-1.11.0 torchtext-0.6.0\n"
          ]
        }
      ],
      "source": [
        "# !pip install spacy\n",
        "# !pip install typing_extensions==4.7.1\n",
        "!pip install torch==1.11.0 torchtext==0.6.0 #-f https://download.pytorch.org/whl/torch_stable.html\n"
      ]
    },
    {
      "cell_type": "code",
      "execution_count": 2,
      "metadata": {
        "id": "wKeC3ZzoY-cs",
        "colab": {
          "base_uri": "https://localhost:8080/"
        },
        "outputId": "23123b41-91a0-4907-9e79-a2a492eb5b1f"
      },
      "outputs": [
        {
          "output_type": "stream",
          "name": "stdout",
          "text": [
            "Using device: cuda:0\n",
            "\u001b[38;5;3m⚠ As of spaCy v3.0, shortcuts like 'en' are deprecated. Please use the\n",
            "full pipeline package name 'en_core_web_sm' instead.\u001b[0m\n",
            "\u001b[38;5;2m✔ Download and installation successful\u001b[0m\n",
            "You can now load the package via spacy.load('en_core_web_sm')\n",
            "\u001b[38;5;3m⚠ As of spaCy v3.0, shortcuts like 'fr' are deprecated. Please use the\n",
            "full pipeline package name 'fr_core_news_sm' instead.\u001b[0m\n",
            "\u001b[38;5;2m✔ Download and installation successful\u001b[0m\n",
            "You can now load the package via spacy.load('fr_core_news_sm')\n"
          ]
        }
      ],
      "source": [
        "import copy\n",
        "import math\n",
        "import random\n",
        "import time\n",
        "\n",
        "import pandas as pd\n",
        "import spacy\n",
        "import torch\n",
        "import torch.nn as nn\n",
        "import torchtext\n",
        "from torch import optim\n",
        "import torch.nn.functional as F\n",
        "from sklearn.model_selection import train_test_split\n",
        "# from torchtext.legacy.data import Field, BucketIterator, TabularDataset\n",
        "from torchtext.data import Field, BucketIterator, TabularDataset\n",
        "\n",
        "\n",
        "DEVICE = torch.device('cuda:0' if torch.cuda.is_available() else 'cpu')\n",
        "print(f\"Using device: {DEVICE}\")\n",
        "\n",
        "RANDOM_SEED = 42\n",
        "torch.manual_seed(RANDOM_SEED)\n",
        "random.seed(RANDOM_SEED)\n",
        "\n",
        "# Download English and French data from Spacy\n",
        "spacy.cli.download(\"en\")\n",
        "spacy.cli.download(\"fr\")"
      ]
    },
    {
      "cell_type": "markdown",
      "metadata": {
        "id": "0ZzQANhYZIkb"
      },
      "source": [
        "# Datos\n",
        "\n",
        "Vamos a seguir trabajando con los datos de parejas de oraciones en Frances-w Inglés.\n",
        "\n",
        "    I am cold.    J'ai froid.\n"
      ]
    },
    {
      "cell_type": "code",
      "execution_count": 3,
      "metadata": {
        "id": "qxV7Rk_mZNas",
        "colab": {
          "base_uri": "https://localhost:8080/"
        },
        "outputId": "bdae9619-0c00-4700-ff12-470d607bda1e"
      },
      "outputs": [
        {
          "output_type": "stream",
          "name": "stdout",
          "text": [
            "--2023-11-14 23:56:24--  https://download.pytorch.org/tutorial/data.zip\n",
            "Resolving download.pytorch.org (download.pytorch.org)... 18.160.200.71, 18.160.200.126, 18.160.200.77, ...\n",
            "Connecting to download.pytorch.org (download.pytorch.org)|18.160.200.71|:443... connected.\n",
            "HTTP request sent, awaiting response... 200 OK\n",
            "Length: 2882130 (2.7M) [application/zip]\n",
            "Saving to: ‘data.zip’\n",
            "\n",
            "data.zip            100%[===================>]   2.75M  --.-KB/s    in 0.09s   \n",
            "\n",
            "2023-11-14 23:56:24 (32.2 MB/s) - ‘data.zip’ saved [2882130/2882130]\n",
            "\n",
            "Archive:  data.zip\n",
            "   creating: data/\n",
            "  inflating: data/eng-fra.txt        \n",
            "   creating: data/names/\n",
            "  inflating: data/names/Arabic.txt   \n",
            "  inflating: data/names/Chinese.txt  \n",
            "  inflating: data/names/Czech.txt    \n",
            "  inflating: data/names/Dutch.txt    \n",
            "  inflating: data/names/English.txt  \n",
            "  inflating: data/names/French.txt   \n",
            "  inflating: data/names/German.txt   \n",
            "  inflating: data/names/Greek.txt    \n",
            "  inflating: data/names/Irish.txt    \n",
            "  inflating: data/names/Italian.txt  \n",
            "  inflating: data/names/Japanese.txt  \n",
            "  inflating: data/names/Korean.txt   \n",
            "  inflating: data/names/Polish.txt   \n",
            "  inflating: data/names/Portuguese.txt  \n",
            "  inflating: data/names/Russian.txt  \n",
            "  inflating: data/names/Scottish.txt  \n",
            "  inflating: data/names/Spanish.txt  \n",
            "  inflating: data/names/Vietnamese.txt  \n"
          ]
        }
      ],
      "source": [
        "!wget https://download.pytorch.org/tutorial/data.zip\n",
        "!unzip data.zip"
      ]
    },
    {
      "cell_type": "code",
      "execution_count": 4,
      "metadata": {
        "id": "xIp1UOFPZYuy",
        "colab": {
          "base_uri": "https://localhost:8080/",
          "height": 423
        },
        "outputId": "86cb3de7-20cd-4c0d-d77a-82b91cfc765d"
      },
      "outputs": [
        {
          "output_type": "execute_result",
          "data": {
            "text/plain": [
              "                                                  English  \\\n",
              "0                                                     Go.   \n",
              "1                                                    Run!   \n",
              "2                                                    Run!   \n",
              "3                                                    Wow!   \n",
              "4                                                   Fire!   \n",
              "...                                                   ...   \n",
              "135837  A carbon footprint is the amount of carbon dio...   \n",
              "135838  Death is something that we're often discourage...   \n",
              "135839  Since there are usually multiple websites on a...   \n",
              "135840  If someone who doesn't know your background sa...   \n",
              "135841  It may be impossible to get a completely error...   \n",
              "\n",
              "                                                   French  \n",
              "0                                                    Va !  \n",
              "1                                                 Cours !  \n",
              "2                                                Courez !  \n",
              "3                                              Ça alors !  \n",
              "4                                                Au feu !  \n",
              "...                                                   ...  \n",
              "135837  Une empreinte carbone est la somme de pollutio...  \n",
              "135838  La mort est une chose qu'on nous décourage sou...  \n",
              "135839  Puisqu'il y a de multiples sites web sur chaqu...  \n",
              "135840  Si quelqu'un qui ne connaît pas vos antécédent...  \n",
              "135841  Il est peut-être impossible d'obtenir un Corpu...  \n",
              "\n",
              "[135842 rows x 2 columns]"
            ],
            "text/html": [
              "\n",
              "  <div id=\"df-0c99f272-d1f0-4dd3-9d22-ec42d5612fc4\" class=\"colab-df-container\">\n",
              "    <div>\n",
              "<style scoped>\n",
              "    .dataframe tbody tr th:only-of-type {\n",
              "        vertical-align: middle;\n",
              "    }\n",
              "\n",
              "    .dataframe tbody tr th {\n",
              "        vertical-align: top;\n",
              "    }\n",
              "\n",
              "    .dataframe thead th {\n",
              "        text-align: right;\n",
              "    }\n",
              "</style>\n",
              "<table border=\"1\" class=\"dataframe\">\n",
              "  <thead>\n",
              "    <tr style=\"text-align: right;\">\n",
              "      <th></th>\n",
              "      <th>English</th>\n",
              "      <th>French</th>\n",
              "    </tr>\n",
              "  </thead>\n",
              "  <tbody>\n",
              "    <tr>\n",
              "      <th>0</th>\n",
              "      <td>Go.</td>\n",
              "      <td>Va !</td>\n",
              "    </tr>\n",
              "    <tr>\n",
              "      <th>1</th>\n",
              "      <td>Run!</td>\n",
              "      <td>Cours !</td>\n",
              "    </tr>\n",
              "    <tr>\n",
              "      <th>2</th>\n",
              "      <td>Run!</td>\n",
              "      <td>Courez !</td>\n",
              "    </tr>\n",
              "    <tr>\n",
              "      <th>3</th>\n",
              "      <td>Wow!</td>\n",
              "      <td>Ça alors !</td>\n",
              "    </tr>\n",
              "    <tr>\n",
              "      <th>4</th>\n",
              "      <td>Fire!</td>\n",
              "      <td>Au feu !</td>\n",
              "    </tr>\n",
              "    <tr>\n",
              "      <th>...</th>\n",
              "      <td>...</td>\n",
              "      <td>...</td>\n",
              "    </tr>\n",
              "    <tr>\n",
              "      <th>135837</th>\n",
              "      <td>A carbon footprint is the amount of carbon dio...</td>\n",
              "      <td>Une empreinte carbone est la somme de pollutio...</td>\n",
              "    </tr>\n",
              "    <tr>\n",
              "      <th>135838</th>\n",
              "      <td>Death is something that we're often discourage...</td>\n",
              "      <td>La mort est une chose qu'on nous décourage sou...</td>\n",
              "    </tr>\n",
              "    <tr>\n",
              "      <th>135839</th>\n",
              "      <td>Since there are usually multiple websites on a...</td>\n",
              "      <td>Puisqu'il y a de multiples sites web sur chaqu...</td>\n",
              "    </tr>\n",
              "    <tr>\n",
              "      <th>135840</th>\n",
              "      <td>If someone who doesn't know your background sa...</td>\n",
              "      <td>Si quelqu'un qui ne connaît pas vos antécédent...</td>\n",
              "    </tr>\n",
              "    <tr>\n",
              "      <th>135841</th>\n",
              "      <td>It may be impossible to get a completely error...</td>\n",
              "      <td>Il est peut-être impossible d'obtenir un Corpu...</td>\n",
              "    </tr>\n",
              "  </tbody>\n",
              "</table>\n",
              "<p>135842 rows × 2 columns</p>\n",
              "</div>\n",
              "    <div class=\"colab-df-buttons\">\n",
              "\n",
              "  <div class=\"colab-df-container\">\n",
              "    <button class=\"colab-df-convert\" onclick=\"convertToInteractive('df-0c99f272-d1f0-4dd3-9d22-ec42d5612fc4')\"\n",
              "            title=\"Convert this dataframe to an interactive table.\"\n",
              "            style=\"display:none;\">\n",
              "\n",
              "  <svg xmlns=\"http://www.w3.org/2000/svg\" height=\"24px\" viewBox=\"0 -960 960 960\">\n",
              "    <path d=\"M120-120v-720h720v720H120Zm60-500h600v-160H180v160Zm220 220h160v-160H400v160Zm0 220h160v-160H400v160ZM180-400h160v-160H180v160Zm440 0h160v-160H620v160ZM180-180h160v-160H180v160Zm440 0h160v-160H620v160Z\"/>\n",
              "  </svg>\n",
              "    </button>\n",
              "\n",
              "  <style>\n",
              "    .colab-df-container {\n",
              "      display:flex;\n",
              "      gap: 12px;\n",
              "    }\n",
              "\n",
              "    .colab-df-convert {\n",
              "      background-color: #E8F0FE;\n",
              "      border: none;\n",
              "      border-radius: 50%;\n",
              "      cursor: pointer;\n",
              "      display: none;\n",
              "      fill: #1967D2;\n",
              "      height: 32px;\n",
              "      padding: 0 0 0 0;\n",
              "      width: 32px;\n",
              "    }\n",
              "\n",
              "    .colab-df-convert:hover {\n",
              "      background-color: #E2EBFA;\n",
              "      box-shadow: 0px 1px 2px rgba(60, 64, 67, 0.3), 0px 1px 3px 1px rgba(60, 64, 67, 0.15);\n",
              "      fill: #174EA6;\n",
              "    }\n",
              "\n",
              "    .colab-df-buttons div {\n",
              "      margin-bottom: 4px;\n",
              "    }\n",
              "\n",
              "    [theme=dark] .colab-df-convert {\n",
              "      background-color: #3B4455;\n",
              "      fill: #D2E3FC;\n",
              "    }\n",
              "\n",
              "    [theme=dark] .colab-df-convert:hover {\n",
              "      background-color: #434B5C;\n",
              "      box-shadow: 0px 1px 3px 1px rgba(0, 0, 0, 0.15);\n",
              "      filter: drop-shadow(0px 1px 2px rgba(0, 0, 0, 0.3));\n",
              "      fill: #FFFFFF;\n",
              "    }\n",
              "  </style>\n",
              "\n",
              "    <script>\n",
              "      const buttonEl =\n",
              "        document.querySelector('#df-0c99f272-d1f0-4dd3-9d22-ec42d5612fc4 button.colab-df-convert');\n",
              "      buttonEl.style.display =\n",
              "        google.colab.kernel.accessAllowed ? 'block' : 'none';\n",
              "\n",
              "      async function convertToInteractive(key) {\n",
              "        const element = document.querySelector('#df-0c99f272-d1f0-4dd3-9d22-ec42d5612fc4');\n",
              "        const dataTable =\n",
              "          await google.colab.kernel.invokeFunction('convertToInteractive',\n",
              "                                                    [key], {});\n",
              "        if (!dataTable) return;\n",
              "\n",
              "        const docLinkHtml = 'Like what you see? Visit the ' +\n",
              "          '<a target=\"_blank\" href=https://colab.research.google.com/notebooks/data_table.ipynb>data table notebook</a>'\n",
              "          + ' to learn more about interactive tables.';\n",
              "        element.innerHTML = '';\n",
              "        dataTable['output_type'] = 'display_data';\n",
              "        await google.colab.output.renderOutput(dataTable, element);\n",
              "        const docLink = document.createElement('div');\n",
              "        docLink.innerHTML = docLinkHtml;\n",
              "        element.appendChild(docLink);\n",
              "      }\n",
              "    </script>\n",
              "  </div>\n",
              "\n",
              "\n",
              "<div id=\"df-d5bfbcfc-6eb4-4e73-88fc-9faafdb0701d\">\n",
              "  <button class=\"colab-df-quickchart\" onclick=\"quickchart('df-d5bfbcfc-6eb4-4e73-88fc-9faafdb0701d')\"\n",
              "            title=\"Suggest charts\"\n",
              "            style=\"display:none;\">\n",
              "\n",
              "<svg xmlns=\"http://www.w3.org/2000/svg\" height=\"24px\"viewBox=\"0 0 24 24\"\n",
              "     width=\"24px\">\n",
              "    <g>\n",
              "        <path d=\"M19 3H5c-1.1 0-2 .9-2 2v14c0 1.1.9 2 2 2h14c1.1 0 2-.9 2-2V5c0-1.1-.9-2-2-2zM9 17H7v-7h2v7zm4 0h-2V7h2v10zm4 0h-2v-4h2v4z\"/>\n",
              "    </g>\n",
              "</svg>\n",
              "  </button>\n",
              "\n",
              "<style>\n",
              "  .colab-df-quickchart {\n",
              "      --bg-color: #E8F0FE;\n",
              "      --fill-color: #1967D2;\n",
              "      --hover-bg-color: #E2EBFA;\n",
              "      --hover-fill-color: #174EA6;\n",
              "      --disabled-fill-color: #AAA;\n",
              "      --disabled-bg-color: #DDD;\n",
              "  }\n",
              "\n",
              "  [theme=dark] .colab-df-quickchart {\n",
              "      --bg-color: #3B4455;\n",
              "      --fill-color: #D2E3FC;\n",
              "      --hover-bg-color: #434B5C;\n",
              "      --hover-fill-color: #FFFFFF;\n",
              "      --disabled-bg-color: #3B4455;\n",
              "      --disabled-fill-color: #666;\n",
              "  }\n",
              "\n",
              "  .colab-df-quickchart {\n",
              "    background-color: var(--bg-color);\n",
              "    border: none;\n",
              "    border-radius: 50%;\n",
              "    cursor: pointer;\n",
              "    display: none;\n",
              "    fill: var(--fill-color);\n",
              "    height: 32px;\n",
              "    padding: 0;\n",
              "    width: 32px;\n",
              "  }\n",
              "\n",
              "  .colab-df-quickchart:hover {\n",
              "    background-color: var(--hover-bg-color);\n",
              "    box-shadow: 0 1px 2px rgba(60, 64, 67, 0.3), 0 1px 3px 1px rgba(60, 64, 67, 0.15);\n",
              "    fill: var(--button-hover-fill-color);\n",
              "  }\n",
              "\n",
              "  .colab-df-quickchart-complete:disabled,\n",
              "  .colab-df-quickchart-complete:disabled:hover {\n",
              "    background-color: var(--disabled-bg-color);\n",
              "    fill: var(--disabled-fill-color);\n",
              "    box-shadow: none;\n",
              "  }\n",
              "\n",
              "  .colab-df-spinner {\n",
              "    border: 2px solid var(--fill-color);\n",
              "    border-color: transparent;\n",
              "    border-bottom-color: var(--fill-color);\n",
              "    animation:\n",
              "      spin 1s steps(1) infinite;\n",
              "  }\n",
              "\n",
              "  @keyframes spin {\n",
              "    0% {\n",
              "      border-color: transparent;\n",
              "      border-bottom-color: var(--fill-color);\n",
              "      border-left-color: var(--fill-color);\n",
              "    }\n",
              "    20% {\n",
              "      border-color: transparent;\n",
              "      border-left-color: var(--fill-color);\n",
              "      border-top-color: var(--fill-color);\n",
              "    }\n",
              "    30% {\n",
              "      border-color: transparent;\n",
              "      border-left-color: var(--fill-color);\n",
              "      border-top-color: var(--fill-color);\n",
              "      border-right-color: var(--fill-color);\n",
              "    }\n",
              "    40% {\n",
              "      border-color: transparent;\n",
              "      border-right-color: var(--fill-color);\n",
              "      border-top-color: var(--fill-color);\n",
              "    }\n",
              "    60% {\n",
              "      border-color: transparent;\n",
              "      border-right-color: var(--fill-color);\n",
              "    }\n",
              "    80% {\n",
              "      border-color: transparent;\n",
              "      border-right-color: var(--fill-color);\n",
              "      border-bottom-color: var(--fill-color);\n",
              "    }\n",
              "    90% {\n",
              "      border-color: transparent;\n",
              "      border-bottom-color: var(--fill-color);\n",
              "    }\n",
              "  }\n",
              "</style>\n",
              "\n",
              "  <script>\n",
              "    async function quickchart(key) {\n",
              "      const quickchartButtonEl =\n",
              "        document.querySelector('#' + key + ' button');\n",
              "      quickchartButtonEl.disabled = true;  // To prevent multiple clicks.\n",
              "      quickchartButtonEl.classList.add('colab-df-spinner');\n",
              "      try {\n",
              "        const charts = await google.colab.kernel.invokeFunction(\n",
              "            'suggestCharts', [key], {});\n",
              "      } catch (error) {\n",
              "        console.error('Error during call to suggestCharts:', error);\n",
              "      }\n",
              "      quickchartButtonEl.classList.remove('colab-df-spinner');\n",
              "      quickchartButtonEl.classList.add('colab-df-quickchart-complete');\n",
              "    }\n",
              "    (() => {\n",
              "      let quickchartButtonEl =\n",
              "        document.querySelector('#df-d5bfbcfc-6eb4-4e73-88fc-9faafdb0701d button');\n",
              "      quickchartButtonEl.style.display =\n",
              "        google.colab.kernel.accessAllowed ? 'block' : 'none';\n",
              "    })();\n",
              "  </script>\n",
              "</div>\n",
              "    </div>\n",
              "  </div>\n"
            ]
          },
          "metadata": {},
          "execution_count": 4
        }
      ],
      "source": [
        "# Take a peek at the dataset\n",
        "dataset = pd.read_csv(\"data/eng-fra.txt\", sep=\"\\t\", header=None)\n",
        "dataset.columns = [\"English\", \"French\"]\n",
        "dataset"
      ]
    },
    {
      "cell_type": "code",
      "execution_count": 5,
      "metadata": {
        "id": "ScPj8X66po4c"
      },
      "outputs": [],
      "source": [
        "# dataset = dataset.sample(int(len(dataset)*0.4))"
      ]
    },
    {
      "cell_type": "code",
      "execution_count": 6,
      "metadata": {
        "id": "VQdP-OPws-82"
      },
      "outputs": [],
      "source": [
        "# Remove very long sentences\n",
        "\n",
        "MAX_SEQ_LEN = 50\n",
        "\n",
        "dataset['en_len'] = dataset['English'].str.count(' ')\n",
        "dataset['fr_len'] = dataset['French'].str.count(' ')\n",
        "dataset = dataset[\n",
        "    (dataset['fr_len'] < MAX_SEQ_LEN) &\n",
        "    (dataset['en_len'] < MAX_SEQ_LEN)\n",
        "][['English', 'French']]"
      ]
    },
    {
      "cell_type": "code",
      "execution_count": 7,
      "metadata": {
        "id": "Cb0hfkkpulUK"
      },
      "outputs": [],
      "source": [
        "# Split dataset into train, val and test\n",
        "train, val_test = train_test_split(dataset, test_size=0.2, random_state=RANDOM_SEED)\n",
        "val, test = train_test_split(val_test, test_size=0.5)\n",
        "\n",
        "# Save splits to CSV files\n",
        "train.to_csv(\"train.csv\", index=False)\n",
        "val.to_csv(\"val.csv\", index=False)\n",
        "test.to_csv(\"test.csv\", index=False)"
      ]
    },
    {
      "cell_type": "code",
      "execution_count": 8,
      "metadata": {
        "id": "aX1sIWsFq7rB"
      },
      "outputs": [],
      "source": [
        "# Load English and French models\n",
        "en = spacy.load('en_core_web_sm')\n",
        "fr = spacy.load('fr_core_news_sm')\n",
        "\n",
        "def tokenize_en(sentence):\n",
        "    return [tok.text for tok in en.tokenizer(sentence)]\n",
        "\n",
        "def tokenize_fr(sentence):\n",
        "    return [tok.text for tok in fr.tokenizer(sentence)]\n",
        "\n",
        "EN_TEXT = Field(tokenize=tokenize_en, fix_length=MAX_SEQ_LEN)\n",
        "FR_TEXT = Field(tokenize=tokenize_fr, init_token = \"<sos>\", eos_token = \"<eos>\", fix_length=MAX_SEQ_LEN)"
      ]
    },
    {
      "cell_type": "code",
      "execution_count": 9,
      "metadata": {
        "id": "HOh05JVfydM9"
      },
      "outputs": [],
      "source": [
        "# Associate the text in the 'English' column with the EN_TEXT field,\n",
        "# and 'French' with FR_TEXT\n",
        "data_fields = [('English', EN_TEXT), ('French', FR_TEXT)]\n",
        "\n",
        "train, val = TabularDataset.splits(\n",
        "    path='./',\n",
        "    train='train.csv',\n",
        "    validation='val.csv',\n",
        "    format='csv',\n",
        "    fields=data_fields\n",
        ")"
      ]
    },
    {
      "cell_type": "code",
      "execution_count": 43,
      "metadata": {
        "id": "_mAjoiHS4BH7"
      },
      "outputs": [],
      "source": [
        "# Build vocabularies\n",
        "FR_TEXT.build_vocab(train, val)\n",
        "EN_TEXT.build_vocab(train, val)\n",
        "\n",
        "# Construct a train iterator\n",
        "train_iter = BucketIterator(\n",
        "    train,\n",
        "    batch_size=128,\n",
        "    sort_key=lambda x: len(x.French),\n",
        "    shuffle=True\n",
        ")"
      ]
    },
    {
      "cell_type": "markdown",
      "metadata": {
        "id": "TO8tpkFPbdpN"
      },
      "source": [
        "# Armando el transformer paso a paso"
      ]
    },
    {
      "cell_type": "markdown",
      "metadata": {
        "id": "Lur0pJDoW8Hh"
      },
      "source": [
        "![Transformer architecture](https://miro.medium.com/max/1140/1*2vyKzFlzIHfSmOU_lnQE4A.png)\n",
        "\n",
        "El diagrama ilustra el modelo que vamos a implementar. Los inputs al encoder son las oraciones en Frances, y los \"Outputs\" que entran al decoder son las sentencias en Inglés.\n",
        "\n",
        "Necesitamos entender 5 procesos para implementar el modelo:\n",
        "- Embedding de los inputs\n",
        "- Encoding Posicional\n",
        "- Creación de máscaras\n",
        "- La capa de Multi-Head Attention\n",
        "- La capa Feed-Forward"
      ]
    },
    {
      "cell_type": "markdown",
      "metadata": {
        "id": "j6ULN-z2W8DJ"
      },
      "source": [
        "## Encoding Posicional\n",
        "----\n",
        "El embedding de cada palabra aprende su significado, ahora necesitamos una manera de que la red aprenda sobre la posicion de cada palabra en la sentencia.\n",
        "\n",
        "[Vaswani *et al.*](https://arxiv.org/abs/1706.03762) respondió esta pregunta usando las siguientes funciones para crear valores constantes relacionados a cada posición:\n",
        "\n",
        "$$ PE_{(pos, 2i)} = sin\\left(\\frac{pos}{10000^{2i/d_{model}}}\\right) $$\n",
        "$$ PE_{(pos, 2i+1)} = cos\\left(\\frac{pos}{10000^{2i/d_{model}}}\\right) $$\n",
        "\n",
        "Esta constante es una matriz en 2D con una de las dimensiones de igual tamaño que los embeddings y la otra igual a la cantidad de palabras en la sentencia.\n",
        "\n",
        "![Positional encoding matrix](https://miro.medium.com/max/1359/1*B-VR6R5vJl3Y7jbMNf5Fpw.png)\n",
        "\n",
        "![Positional encoding example](http://jalammar.github.io/images/t/transformer_positional_encoding_example.png)"
      ]
    },
    {
      "cell_type": "markdown",
      "source": [
        "POsitional encoding le da al modelo una sensacion de temporalidad (por eso introduce seno y coseno) [Parecido a electronica]"
      ],
      "metadata": {
        "id": "6s19rJdmKia5"
      }
    },
    {
      "cell_type": "code",
      "execution_count": 71,
      "metadata": {
        "id": "G7aRi6k5f-dk"
      },
      "outputs": [],
      "source": [
        "class PositionalEncoder(nn.Module):\n",
        "    def __init__(self, d_model, max_seq_len=MAX_SEQ_LEN, dropout=0.1):\n",
        "        super(PositionalEncoder, self).__init__()\n",
        "        self.d_model = d_model\n",
        "        self.dropout = nn.Dropout(dropout)\n",
        "\n",
        "        # Create constant 'pe' matrix with values dependant on pos and i\n",
        "        pe = torch.zeros(max_seq_len, d_model)\n",
        "        position = torch.arange(0, max_seq_len, dtype=torch.float).unsqueeze(1)\n",
        "        div_term = 1.0 / torch.pow(10000, torch.arange(0, d_model, 2).float() / d_model)\n",
        "        pe[:, 0::2] = torch.sin(position * div_term)\n",
        "        pe[:, 1::2] = torch.cos(position * div_term)\n",
        "        pe = pe.unsqueeze(0)\n",
        "\n",
        "        # We register them as a buffer so the optimzer doesn't see this as parameters of the model to optimize!\n",
        "        self.register_buffer('pe', pe)\n",
        "\n",
        "\n",
        "    def forward(self, x):\n",
        "        # Make embeddings relatively larger\n",
        "        x = x * math.sqrt(self.d_model)\n",
        "        # Add constant to embedding\n",
        "        x = x + self.pe[:, :x.size(1), :]\n",
        "        return self.dropout(x)"
      ]
    },
    {
      "cell_type": "code",
      "source": [
        "MAX_SEQ_LEN = 100\n",
        "d_model = 4\n",
        "pos_enc = PositionalEncoder(d_model, MAX_SEQ_LEN , 0) # d_model es el largo de embeddings, max_seq_len largo maximo de la secuencia\n",
        "example = torch.zeros(1,MAX_SEQ_LEN,d_model)"
      ],
      "metadata": {
        "id": "u-6_ZveCHsiK"
      },
      "execution_count": 72,
      "outputs": []
    },
    {
      "cell_type": "code",
      "source": [
        "pos_enc(example)"
      ],
      "metadata": {
        "colab": {
          "base_uri": "https://localhost:8080/"
        },
        "id": "gYC-dejbII5N",
        "outputId": "608545f9-236d-476b-9e25-b154ce8b5496"
      },
      "execution_count": 73,
      "outputs": [
        {
          "output_type": "execute_result",
          "data": {
            "text/plain": [
              "tensor([[[ 0.0000,  1.0000,  0.0000,  1.0000],\n",
              "         [ 0.8415,  0.5403,  0.0100,  0.9999],\n",
              "         [ 0.9093, -0.4161,  0.0200,  0.9998],\n",
              "         [ 0.1411, -0.9900,  0.0300,  0.9996],\n",
              "         [-0.7568, -0.6536,  0.0400,  0.9992],\n",
              "         [-0.9589,  0.2837,  0.0500,  0.9988],\n",
              "         [-0.2794,  0.9602,  0.0600,  0.9982],\n",
              "         [ 0.6570,  0.7539,  0.0699,  0.9976],\n",
              "         [ 0.9894, -0.1455,  0.0799,  0.9968],\n",
              "         [ 0.4121, -0.9111,  0.0899,  0.9960],\n",
              "         [-0.5440, -0.8391,  0.0998,  0.9950],\n",
              "         [-1.0000,  0.0044,  0.1098,  0.9940],\n",
              "         [-0.5366,  0.8439,  0.1197,  0.9928],\n",
              "         [ 0.4202,  0.9074,  0.1296,  0.9916],\n",
              "         [ 0.9906,  0.1367,  0.1395,  0.9902],\n",
              "         [ 0.6503, -0.7597,  0.1494,  0.9888],\n",
              "         [-0.2879, -0.9577,  0.1593,  0.9872],\n",
              "         [-0.9614, -0.2752,  0.1692,  0.9856],\n",
              "         [-0.7510,  0.6603,  0.1790,  0.9838],\n",
              "         [ 0.1499,  0.9887,  0.1889,  0.9820],\n",
              "         [ 0.9129,  0.4081,  0.1987,  0.9801],\n",
              "         [ 0.8367, -0.5477,  0.2085,  0.9780],\n",
              "         [-0.0089, -1.0000,  0.2182,  0.9759],\n",
              "         [-0.8462, -0.5328,  0.2280,  0.9737],\n",
              "         [-0.9056,  0.4242,  0.2377,  0.9713],\n",
              "         [-0.1324,  0.9912,  0.2474,  0.9689],\n",
              "         [ 0.7626,  0.6469,  0.2571,  0.9664],\n",
              "         [ 0.9564, -0.2921,  0.2667,  0.9638],\n",
              "         [ 0.2709, -0.9626,  0.2764,  0.9611],\n",
              "         [-0.6636, -0.7481,  0.2860,  0.9582],\n",
              "         [-0.9880,  0.1543,  0.2955,  0.9553],\n",
              "         [-0.4040,  0.9147,  0.3051,  0.9523],\n",
              "         [ 0.5514,  0.8342,  0.3146,  0.9492],\n",
              "         [ 0.9999, -0.0133,  0.3240,  0.9460],\n",
              "         [ 0.5291, -0.8486,  0.3335,  0.9428],\n",
              "         [-0.4282, -0.9037,  0.3429,  0.9394],\n",
              "         [-0.9918, -0.1280,  0.3523,  0.9359],\n",
              "         [-0.6435,  0.7654,  0.3616,  0.9323],\n",
              "         [ 0.2964,  0.9551,  0.3709,  0.9287],\n",
              "         [ 0.9638,  0.2666,  0.3802,  0.9249],\n",
              "         [ 0.7451, -0.6669,  0.3894,  0.9211],\n",
              "         [-0.1586, -0.9873,  0.3986,  0.9171],\n",
              "         [-0.9165, -0.4000,  0.4078,  0.9131],\n",
              "         [-0.8318,  0.5551,  0.4169,  0.9090],\n",
              "         [ 0.0177,  0.9998,  0.4259,  0.9048],\n",
              "         [ 0.8509,  0.5253,  0.4350,  0.9004],\n",
              "         [ 0.9018, -0.4322,  0.4439,  0.8961],\n",
              "         [ 0.1236, -0.9923,  0.4529,  0.8916],\n",
              "         [-0.7683, -0.6401,  0.4618,  0.8870],\n",
              "         [-0.9538,  0.3006,  0.4706,  0.8823],\n",
              "         [-0.2624,  0.9650,  0.4794,  0.8776],\n",
              "         [ 0.6702,  0.7422,  0.4882,  0.8727],\n",
              "         [ 0.9866, -0.1630,  0.4969,  0.8678],\n",
              "         [ 0.3959, -0.9183,  0.5055,  0.8628],\n",
              "         [-0.5588, -0.8293,  0.5141,  0.8577],\n",
              "         [-0.9998,  0.0221,  0.5227,  0.8525],\n",
              "         [-0.5216,  0.8532,  0.5312,  0.8473],\n",
              "         [ 0.4362,  0.8999,  0.5396,  0.8419],\n",
              "         [ 0.9929,  0.1192,  0.5480,  0.8365],\n",
              "         [ 0.6367, -0.7711,  0.5564,  0.8309],\n",
              "         [-0.3048, -0.9524,  0.5646,  0.8253],\n",
              "         [-0.9661, -0.2581,  0.5729,  0.8196],\n",
              "         [-0.7392,  0.6735,  0.5810,  0.8139],\n",
              "         [ 0.1674,  0.9859,  0.5891,  0.8080],\n",
              "         [ 0.9200,  0.3919,  0.5972,  0.8021],\n",
              "         [ 0.8268, -0.5625,  0.6052,  0.7961],\n",
              "         [-0.0266, -0.9996,  0.6131,  0.7900],\n",
              "         [-0.8555, -0.5178,  0.6210,  0.7838],\n",
              "         [-0.8979,  0.4401,  0.6288,  0.7776],\n",
              "         [-0.1148,  0.9934,  0.6365,  0.7712],\n",
              "         [ 0.7739,  0.6333,  0.6442,  0.7648],\n",
              "         [ 0.9511, -0.3090,  0.6518,  0.7584],\n",
              "         [ 0.2538, -0.9673,  0.6594,  0.7518],\n",
              "         [-0.6768, -0.7362,  0.6669,  0.7452],\n",
              "         [-0.9851,  0.1717,  0.6743,  0.7385],\n",
              "         [-0.3878,  0.9218,  0.6816,  0.7317],\n",
              "         [ 0.5661,  0.8243,  0.6889,  0.7248],\n",
              "         [ 0.9995, -0.0310,  0.6961,  0.7179],\n",
              "         [ 0.5140, -0.8578,  0.7033,  0.7109],\n",
              "         [-0.4441, -0.8960,  0.7104,  0.7038],\n",
              "         [-0.9939, -0.1104,  0.7174,  0.6967],\n",
              "         [-0.6299,  0.7767,  0.7243,  0.6895],\n",
              "         [ 0.3132,  0.9497,  0.7311,  0.6822],\n",
              "         [ 0.9684,  0.2495,  0.7379,  0.6749],\n",
              "         [ 0.7332, -0.6800,  0.7446,  0.6675],\n",
              "         [-0.1761, -0.9844,  0.7513,  0.6600],\n",
              "         [-0.9235, -0.3837,  0.7578,  0.6524],\n",
              "         [-0.8218,  0.5698,  0.7643,  0.6448],\n",
              "         [ 0.0354,  0.9994,  0.7707,  0.6372],\n",
              "         [ 0.8601,  0.5102,  0.7771,  0.6294],\n",
              "         [ 0.8940, -0.4481,  0.7833,  0.6216],\n",
              "         [ 0.1060, -0.9944,  0.7895,  0.6137],\n",
              "         [-0.7795, -0.6264,  0.7956,  0.6058],\n",
              "         [-0.9483,  0.3174,  0.8016,  0.5978],\n",
              "         [-0.2453,  0.9695,  0.8076,  0.5898],\n",
              "         [ 0.6833,  0.7302,  0.8134,  0.5817],\n",
              "         [ 0.9836, -0.1804,  0.8192,  0.5735],\n",
              "         [ 0.3796, -0.9251,  0.8249,  0.5653],\n",
              "         [-0.5734, -0.8193,  0.8305,  0.5570],\n",
              "         [-0.9992,  0.0398,  0.8360,  0.5487]]])"
            ]
          },
          "metadata": {},
          "execution_count": 73
        }
      ]
    },
    {
      "cell_type": "markdown",
      "metadata": {
        "id": "pv2ZLhMqW79c"
      },
      "source": [
        "## Máscaras para los inputs\n",
        "----\n",
        "Las máscaras de ceros cumplen dos propósitos:\n",
        "\n",
        "- En **ambos** encoder y decoder: Para obtener 0s en la atención sobre el padding.\n",
        "- En el **decoder**: Prevenir que el decoder \"espíe\" a los siguientes inputs de la secuencia traducida, el futuro que no debería conocer para predecir la siguiente palabra. Evita que el decoder \"vea\" lo que tiene que predecir antes de predecirlo."
      ]
    },
    {
      "cell_type": "code",
      "execution_count": 74,
      "metadata": {
        "id": "nqDBxGZg5xOq"
      },
      "outputs": [],
      "source": [
        "def build_attn_pad_mask(seq, pad_index):\n",
        "    # Creates mask with 0s wherever there is padding in the input\n",
        "    return (seq != pad_index).unsqueeze(1).type(torch.uint8)\n",
        "\n",
        "\n",
        "def build_nopeak_mask(size):\n",
        "    # Creates mask with 1s up until the the index of the word being predicted\n",
        "    nopeak_mask = torch.triu(torch.ones(size, size)).transpose(0, 1)\n",
        "    return nopeak_mask.unsqueeze(0).type(torch.uint8)\n",
        "\n",
        "def create_masks(src, src_pad, trg=None, trg_pad=None):\n",
        "    src_mask = build_attn_pad_mask(src, src_pad)\n",
        "\n",
        "    if trg is not None:\n",
        "        trg_mask = build_attn_pad_mask(trg, trg_pad)\n",
        "        size = trg.size(1) # get seq_len for matrix\n",
        "        np_mask = build_nopeak_mask(size)\n",
        "        trg_mask = trg_mask & np_mask\n",
        "    else:\n",
        "        trg_mask = None\n",
        "\n",
        "    return src_mask, trg_mask"
      ]
    },
    {
      "cell_type": "code",
      "source": [
        "example_tensor = torch.tensor([[4,5,3,666,666,666,666]])\n",
        "build_attn_pad_mask(example_tensor,666)"
      ],
      "metadata": {
        "colab": {
          "base_uri": "https://localhost:8080/"
        },
        "id": "TemOH04wLHXu",
        "outputId": "03b8f691-56c1-4211-a60c-c351238fcd33"
      },
      "execution_count": 75,
      "outputs": [
        {
          "output_type": "execute_result",
          "data": {
            "text/plain": [
              "tensor([[[1, 1, 1, 0, 0, 0, 0]]], dtype=torch.uint8)"
            ]
          },
          "metadata": {},
          "execution_count": 75
        }
      ]
    },
    {
      "cell_type": "code",
      "source": [
        "build_nopeak_mask(len(example_tensor[0]))"
      ],
      "metadata": {
        "colab": {
          "base_uri": "https://localhost:8080/"
        },
        "id": "l41gIzSyLX2_",
        "outputId": "15dee683-ec26-404a-91bf-0f6d43af01dc"
      },
      "execution_count": 76,
      "outputs": [
        {
          "output_type": "execute_result",
          "data": {
            "text/plain": [
              "tensor([[[1, 0, 0, 0, 0, 0, 0],\n",
              "         [1, 1, 0, 0, 0, 0, 0],\n",
              "         [1, 1, 1, 0, 0, 0, 0],\n",
              "         [1, 1, 1, 1, 0, 0, 0],\n",
              "         [1, 1, 1, 1, 1, 0, 0],\n",
              "         [1, 1, 1, 1, 1, 1, 0],\n",
              "         [1, 1, 1, 1, 1, 1, 1]]], dtype=torch.uint8)"
            ]
          },
          "metadata": {},
          "execution_count": 76
        }
      ]
    },
    {
      "cell_type": "code",
      "source": [
        "example_target_tensor = torch.tensor([[1,2,3,28,28,28,28]])"
      ],
      "metadata": {
        "id": "jSx5_nGoL31-"
      },
      "execution_count": 77,
      "outputs": []
    },
    {
      "cell_type": "code",
      "source": [
        "masks = create_masks(example_tensor, 666,example_target_tensor,28)"
      ],
      "metadata": {
        "id": "Hm-y2fdOMBhm"
      },
      "execution_count": 78,
      "outputs": []
    },
    {
      "cell_type": "code",
      "source": [
        "example_target_tensor * masks[1] # esto es lo que hace el transformer, tiene todo de una para poder procesarlo"
      ],
      "metadata": {
        "colab": {
          "base_uri": "https://localhost:8080/"
        },
        "id": "e8XAVwgHMmYd",
        "outputId": "50482add-6cbd-400a-9310-0e6a0617a1f1"
      },
      "execution_count": 79,
      "outputs": [
        {
          "output_type": "execute_result",
          "data": {
            "text/plain": [
              "tensor([[[1, 0, 0, 0, 0, 0, 0],\n",
              "         [1, 2, 0, 0, 0, 0, 0],\n",
              "         [1, 2, 3, 0, 0, 0, 0],\n",
              "         [1, 2, 3, 0, 0, 0, 0],\n",
              "         [1, 2, 3, 0, 0, 0, 0],\n",
              "         [1, 2, 3, 0, 0, 0, 0],\n",
              "         [1, 2, 3, 0, 0, 0, 0]]])"
            ]
          },
          "metadata": {},
          "execution_count": 79
        }
      ]
    },
    {
      "cell_type": "markdown",
      "metadata": {
        "id": "dulPyzCqW74v"
      },
      "source": [
        "## Multi-Head Attention\n",
        "----\n",
        "\n",
        "![Multihead attention schema](https://miro.medium.com/max/1254/1*1tsRtfaY9z6HxmERYhw8XQ.png)\n",
        "\n",
        "$V$, $K$ y $Q$ reprensentan ‘key’, ‘value’ and ‘query’. En el caso del Encoder, $V$, $K$ and $Q$ serán simplemente copias idénticas del vector de embedding (junto con el encoding posicional). Tendrán las siguientes dimensiones $\\text{batch_size} \\times \\text{seq_len} \\times d_\\text{model}$.\n",
        "\n",
        "En multi-head attention repartimos el vector de embedding en $N$ cabezas, por lo que tendrán las dimensiones: $\\text{batch_size} \\times N \\times \\text{seq_len} \\times (d_{\\text{model}} / N)$.\n",
        "\n",
        "La dimensión final: ($d_{\\text{model}} / N$) es a lo que llamaremos $d_k$."
      ]
    },
    {
      "cell_type": "markdown",
      "source": [
        "![WhatsApp Image 2023-11-07 at 21.21.20_23aa607d.jpg](data:image/jpeg;base64,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)"
      ],
      "metadata": {
        "id": "T0J0hIo-Tsd2"
      }
    },
    {
      "cell_type": "code",
      "execution_count": 80,
      "metadata": {
        "id": "s-_fobf8E7pD"
      },
      "outputs": [],
      "source": [
        "class MultiHeadAttention(nn.Module):\n",
        "    def __init__(self, heads, d_model, attn_pdrop = 0.1, resid_pdrop = 0.1):\n",
        "        super(MultiHeadAttention, self).__init__()\n",
        "\n",
        "        self.d_model = d_model\n",
        "        self.d_k = d_model // heads\n",
        "        self.h = heads\n",
        "\n",
        "        # Q, K, V\n",
        "        self.q_linear = nn.Linear(d_model, d_model)\n",
        "        self.k_linear = nn.Linear(d_model, d_model)\n",
        "        self.v_linear = nn.Linear(d_model, d_model)\n",
        "\n",
        "        # Regularization\n",
        "        self.attn_dropout  = nn.Dropout(attn_pdrop)\n",
        "        self.residual_dropout = nn.Dropout(resid_pdrop)\n",
        "\n",
        "        # Output projection\n",
        "        self.out = nn.Linear(d_model, d_model)\n",
        "\n",
        "    def forward(self, q, k, v, mask=None):\n",
        "        # Get batch size\n",
        "        bs = q.size(0)\n",
        "\n",
        "        # Perform linear operation and split into h heads\n",
        "        q = self.q_linear(q).view(bs, -1, self.h, self.d_k)\n",
        "        k = self.k_linear(k).view(bs, -1, self.h, self.d_k)\n",
        "        v = self.v_linear(v).view(bs, -1, self.h, self.d_k)\n",
        "\n",
        "        # Transpose to get dimensions bs * h * sl * d_k\n",
        "        q = q.transpose(1,2)\n",
        "        k = k.transpose(1,2)\n",
        "        v = v.transpose(1,2)\n",
        "\n",
        "        # Calculate attention scores using function we will define next\n",
        "\n",
        "        scores = attention(q,k,v,self.d_k,mask, self.attn_dropout)\n",
        "\n",
        "        # Re-assemble all head outputs side by side\n",
        "        # Need to use contigous here to get correspondence\n",
        "        concat = scores.transpose(1,2).contiguous().view(bs, -1, self.d_model)\n",
        "\n",
        "        # Output projection\n",
        "\n",
        "        output = self.residual_dropout(self.out(concat))\n",
        "\n",
        "        return output"
      ]
    },
    {
      "cell_type": "code",
      "source": [],
      "metadata": {
        "id": "O9ch5SsCYC_T"
      },
      "execution_count": 80,
      "outputs": []
    },
    {
      "cell_type": "markdown",
      "metadata": {
        "id": "W28fJmT9HXGk"
      },
      "source": [
        "### Mecanismo de Atención\n",
        "----\n",
        "\n",
        "![Attention diagram](https://miro.medium.com/max/336/1*15E9qKg9bKnWdSRWCyY2iA.png)\n",
        "![Attention equation](https://miro.medium.com/max/1068/1*evdACdTOBT5j1g1nXialBg.png)\n",
        "\n",
        "Inicialmente, multiplicamos $Q$ por la transpuesta de $K$. Esto es luego dividipo por $\\sqrt{d_k}$ (normalización).\n",
        "\n",
        "Algo que aún no vimos es qué hacer con atención y las máscaras. Antes de hacer el Softmax, aplicamos nuestra máscara de ceros para reducir los valores donde el input es padding (o futuro).\n",
        "\n",
        "Finalmente, el último paso es hacer el producto (dot product) entre el resultado hasta ahora y $V$."
      ]
    },
    {
      "cell_type": "code",
      "source": [
        "q = torch.rand(5,4,3,2)\n",
        "k = torch.rand(5,4,3,2)\n",
        "v = torch.ones(5,4,3,2)\n",
        "example_tensor = torch.tensor([[4,5,666]])\n",
        "example_batch = example_tensor * torch.ones(5,8,3)\n",
        "\n",
        "\n",
        "\n",
        "example_target_tensor = torch.tensor([[1,2,3,28,28,28,28]])\n",
        "mask = build_attn_pad_mask(example_batch,666).transpose(1,2)\n",
        "example_mask = mask.reshape(5,4,3,2)"
      ],
      "metadata": {
        "id": "UMacLSRaYFNJ"
      },
      "execution_count": 81,
      "outputs": []
    },
    {
      "cell_type": "code",
      "source": [
        "# attention(q,k,v,2, example_mask)"
      ],
      "metadata": {
        "id": "IKJSds11ZdIC"
      },
      "execution_count": 82,
      "outputs": []
    },
    {
      "cell_type": "markdown",
      "source": [
        "dimensiones: (batch_size, head, s_l, d_k)\n",
        "s_l => sequence length\n",
        "d_k => embedding sizes.\n",
        "\n",
        "No transpone todo solo las ultimas dos dimensiones:\n",
        "=> Q*Kt =>\n",
        "Q =  (batch_size, head, s_l, d_k) ej. (32,5,5,2)\n",
        "Kt =  (batch_size, head, d_k, s_l) ej. (32,5,2,5)\n",
        "\n",
        "QKt = (batch_size, head, s_l, s_l) ej. (32,5,5,5)\n",
        "\n",
        "V = (batch_size, head, s_l, d_k) ej. (32,5,5,2)\n",
        "MATHMUL SI TENES MAS DE DOS DIMENSIONES OPERA SOBRE LAS ULTIMAS DOS."
      ],
      "metadata": {
        "id": "2YdS3-XgRTXK"
      }
    },
    {
      "cell_type": "code",
      "execution_count": 83,
      "metadata": {
        "id": "gQTmzZ35Je5W"
      },
      "outputs": [],
      "source": [
        "def attention(q, k, v, d_k, mask=None, dropout=None):\n",
        "    scores = torch.matmul(q, k.transpose(-2, -1)) / math.sqrt(d_k)\n",
        "\n",
        "    if mask is not None:\n",
        "        mask = mask.unsqueeze(1)\n",
        "        scores = scores.masked_fill(mask == 0, -1e9)\n",
        "        scores = F.softmax(scores, dim=-1)\n",
        "\n",
        "    if dropout is not None:\n",
        "        scores = dropout(scores)\n",
        "\n",
        "    output = torch.matmul(scores, v)\n",
        "    return output"
      ]
    },
    {
      "cell_type": "markdown",
      "metadata": {
        "id": "97KT06QVcELb"
      },
      "source": [
        "## Capa Feed-Forward\n",
        "----\n",
        "Esta capa solo consiste en dos opeaciones lineales (nn.Linear) con ReLU y dropout entre ellas."
      ]
    },
    {
      "cell_type": "code",
      "execution_count": 84,
      "metadata": {
        "id": "hXXhptZ3JvhC"
      },
      "outputs": [],
      "source": [
        "class FeedForward(nn.Module):\n",
        "    def __init__(self, d_model, d_ff = 2048, dropout = 0.1):\n",
        "        super(FeedForward, self).__init__()\n",
        "        self.linear1 = nn.Linear(d_model, d_ff)\n",
        "        self.dropout = nn.Dropout(dropout)\n",
        "        self.linear2 = nn.Linear(d_ff, d_model)\n",
        "    def forward(self,x):\n",
        "        return self.linear2(self.dropout(F.relu(self.linear1(x))))"
      ]
    },
    {
      "cell_type": "markdown",
      "metadata": {
        "id": "4q4nextzKJFO"
      },
      "source": [
        "# Combinando todo\n",
        "\n",
        "Vamos a crear una capa EncoderLayer y DecoderLayer que agrupan los componentes necesarios para crear un solo encoder (o decoder).\n",
        "\n",
        "Luego, creamos el Encoder de nuestra arquitectura, conteniendo N de estos bloques anteriores. Repetimos para el decoder.\n",
        "\n",
        "![Transformer architecture](https://miro.medium.com/max/1140/1*2vyKzFlzIHfSmOU_lnQE4A.png)\n"
      ]
    },
    {
      "cell_type": "code",
      "execution_count": 85,
      "metadata": {
        "id": "MD-7Yks3K31b"
      },
      "outputs": [],
      "source": [
        "# Build an encoder layer with one multi-head attention layer and one\n",
        "# feed-forward layer\n",
        "class EncoderLayer(nn.Module):\n",
        "    def __init__(self, d_model, heads, dropout = 0.1):\n",
        "        super(EncoderLayer, self).__init__()\n",
        "        self.attn = MultiHeadAttention(heads, d_model, dropout, dropout)\n",
        "        self.ff = FeedForward(d_model)\n",
        "        self.dropout = nn.Dropout(dropout)\n",
        "\n",
        "    def forward(self, x, mask):\n",
        "        x = x + self.dropout(self.attn(x,x,x,mask))\n",
        "        x = x + self.dropout(self.ff(x))\n",
        "        return x\n",
        "\n",
        "# Build a decoder layer with two multi-head attention layers and\n",
        "# one feed-forward layer\n",
        "class DecoderLayer(nn.Module):\n",
        "    def __init__(self, d_model, heads, dropout=0.1):\n",
        "        super(DecoderLayer, self).__init__()\n",
        "        self.dropout = nn.Dropout(dropout)\n",
        "\n",
        "        self.attn_1 = MultiHeadAttention(heads, d_model)\n",
        "        self.attn_2 = MultiHeadAttention(heads, d_model)\n",
        "        self.ff = FeedForward(d_model)\n",
        "\n",
        "    def forward(self, x, e_outputs, src_mask, trg_mask):\n",
        "        x = x + self.dropout(self.attn_1(x,x,x,trg_mask))\n",
        "        x = x + self.dropout(self.attn_2(x,e_outputs,e_outputs,src_mask))\n",
        "        x = x + self.dropout(self.ff(x))\n",
        "        return x\n",
        "\n",
        "# Convenient cloning function that can generate multiple layers:\n",
        "def get_clones(module, N):\n",
        "    return nn.ModuleList([copy.deepcopy(module) for i in range(N)])"
      ]
    },
    {
      "cell_type": "code",
      "execution_count": 86,
      "metadata": {
        "id": "8QMVOFpaKK2z"
      },
      "outputs": [],
      "source": [
        "class Encoder(nn.Module):\n",
        "    def __init__(self, vocab_size, d_model, N, heads):\n",
        "        super(Encoder, self).__init__()\n",
        "        self.N = N\n",
        "        self.embed = nn.Embedding(vocab_size, d_model)\n",
        "        self.pe = PositionalEncoder(d_model)\n",
        "        self.layers = get_clones(EncoderLayer(d_model, heads), N)\n",
        "\n",
        "    def forward(self, src, mask):\n",
        "        x = self.embed(src)\n",
        "        x = self.pe(x)\n",
        "        for i in range(self.N):\n",
        "            x = self.layers[i](x,mask)\n",
        "        return x\n",
        "\n",
        "class Decoder(nn.Module):\n",
        "    def __init__(self, vocab_size, d_model, N, heads):\n",
        "        super(Decoder, self).__init__()\n",
        "        self.N = N\n",
        "        self.embed = nn.Embedding(vocab_size, d_model)\n",
        "        self.pe = PositionalEncoder(d_model)\n",
        "        self.layers = get_clones(DecoderLayer(d_model, heads), N)\n",
        "\n",
        "    def forward(self, trg, e_outputs, src_mask, trg_mask):\n",
        "        x = self.embed(trg)\n",
        "        x = self.pe(x)\n",
        "        for i in range(self.N):\n",
        "            x = self.layers[i](x,e_outputs,src_mask, trg_mask)\n",
        "        return x"
      ]
    },
    {
      "cell_type": "markdown",
      "metadata": {
        "id": "VUxlnAGv-AMu"
      },
      "source": [
        "Finalmente usando los dos bloques anteriores y una capa linear creamos el transformer con $N$ encoders/decoders!"
      ]
    },
    {
      "cell_type": "code",
      "execution_count": 87,
      "metadata": {
        "id": "58aNa611MsK_"
      },
      "outputs": [],
      "source": [
        "class Transformer(nn.Module):\n",
        "    def __init__(self, src_vocab, trg_vocab, d_model, N, heads):\n",
        "        super(Transformer, self).__init__()\n",
        "        self.encoder = Encoder(src_vocab, d_model, N, heads)\n",
        "        self.decoder = Decoder(trg_vocab, d_model, N, heads)\n",
        "        self.out = nn.Linear(d_model, trg_vocab)\n",
        "\n",
        "    def forward(self, src, trg, src_mask, trg_mask):\n",
        "        e_outputs = self.encoder(src, src_mask)\n",
        "        d_output = self.decoder(trg, e_outputs, src_mask, trg_mask)\n",
        "        output = self.out(d_output)\n",
        "        return output"
      ]
    },
    {
      "cell_type": "markdown",
      "metadata": {
        "id": "YSYVGuqCM-Hn"
      },
      "source": [
        "# Entrenando"
      ]
    },
    {
      "cell_type": "code",
      "execution_count": 88,
      "metadata": {
        "id": "0Wun9klgM9AN"
      },
      "outputs": [],
      "source": [
        "d_model = 512\n",
        "heads = 4\n",
        "N = 3\n",
        "src_vocab = len(EN_TEXT.vocab) # No es trivial como inicializo los parametros.\n",
        "trg_vocab = len(FR_TEXT.vocab)\n",
        "\n",
        "model = Transformer(src_vocab, trg_vocab, d_model, N, heads).to(DEVICE)\n",
        "\n",
        "for p in model.parameters():\n",
        "    if p.dim() > 1:\n",
        "        nn.init.xavier_uniform_(p)\n",
        "\n",
        "# This code is very important! It initialises the parameters with a\n",
        "# range of values that stops the signal fading or getting too big.\n",
        "# See this blog for a mathematical explanation:\n",
        "# https://andyljones.tumblr.com/post/110998971763/an-explanation-of-xavier-initialization"
      ]
    },
    {
      "cell_type": "code",
      "execution_count": 89,
      "metadata": {
        "id": "WNKzh6dLNYVR"
      },
      "outputs": [],
      "source": [
        "def train_model(epochs, print_every=100):\n",
        "    model.train()\n",
        "\n",
        "    start = time.time()\n",
        "    temp = start\n",
        "    total_loss = 0\n",
        "\n",
        "    src_pad = EN_TEXT.vocab.stoi['<pad>']\n",
        "    trg_pad = FR_TEXT.vocab.stoi['<pad>']\n",
        "\n",
        "    for epoch in range(epochs):\n",
        "        total_loss = 0\n",
        "        for i, batch in enumerate(train_iter):\n",
        "            src = batch.English.transpose(0, 1)\n",
        "            trg = batch.French.transpose(0, 1)\n",
        "            # the French sentence we input has all words except\n",
        "            # the last, as it is using each word to predict the next\n",
        "            trg_input = trg[:, :-1]\n",
        "\n",
        "            # the words we are trying to predict\n",
        "            targets = trg[:, 1:].contiguous().view(-1)\n",
        "\n",
        "            # create function to make masks using mask code above\n",
        "            src_mask, trg_mask = create_masks(src, src_pad, trg_input, trg_pad)\n",
        "\n",
        "            preds = model(src.to(DEVICE), trg_input.to(DEVICE), src_mask.to(DEVICE), trg_mask.to(DEVICE))\n",
        "\n",
        "            optim.zero_grad()\n",
        "\n",
        "            loss = F.cross_entropy(\n",
        "                preds.view(-1, preds.size(-1)),\n",
        "                targets.to(DEVICE),\n",
        "                ignore_index=trg_pad\n",
        "            )\n",
        "\n",
        "            loss.backward()\n",
        "            optim.step()\n",
        "            total_loss += loss.item()\n",
        "            if (i + 1) % print_every == 0:\n",
        "                loss_avg = total_loss / print_every\n",
        "                print(\"time = %dm, epoch %d, iter = %d, loss = %.3f, %ds per %d iters\" % (\n",
        "                    (time.time() - start) // 60, epoch + 1, i + 1, loss_avg, time.time() - temp, print_every)\n",
        "                )\n",
        "                total_loss = 0\n",
        "                temp = time.time()"
      ]
    },
    {
      "cell_type": "code",
      "execution_count": null,
      "metadata": {
        "id": "jGfw-ZZffh5P",
        "outputId": "55b3a111-4057-425a-b3bf-c3909a7ae137",
        "colab": {
          "base_uri": "https://localhost:8080/"
        }
      },
      "outputs": [
        {
          "output_type": "stream",
          "name": "stdout",
          "text": [
            "time = 0m, epoch 1, iter = 100, loss = 8.705, 41s per 100 iters\n"
          ]
        }
      ],
      "source": [
        "optim = torch.optim.Adam(model.parameters(), lr=0.0002)\n",
        "\n",
        "train_model(1) # Train for 10 epochs (~60min)"
      ]
    },
    {
      "cell_type": "code",
      "execution_count": null,
      "metadata": {
        "id": "BiaAAFHrb-Fl"
      },
      "outputs": [],
      "source": [
        "def translate(model, src, max_len=80):\n",
        "  model.eval()\n",
        "\n",
        "  input_pad = EN_TEXT.vocab.stoi['<pad>']\n",
        "\n",
        "  src = tokenize_en(src)\n",
        "  src = (torch.LongTensor([[EN_TEXT.vocab.stoi[tok] for tok in src]])).cuda()\n",
        "\n",
        "  src_mask = (src != input_pad).unsqueeze(-2).cuda()\n",
        "  e_outputs = model.encoder(src, src_mask)\n",
        "\n",
        "  outputs = torch.zeros(max_len).type_as(src.data)\n",
        "  outputs[0] = torch.LongTensor([FR_TEXT.vocab.stoi['<sos>']])\n",
        "\n",
        "  for i in range(1, max_len):\n",
        "    trg_mask = torch.triu(torch.ones((1, i, i))).type(torch.uint8)\n",
        "    trg_mask = ((trg_mask) == 0).cuda()\n",
        "\n",
        "    out = model.out(model.decoder(outputs[:i].unsqueeze(0), e_outputs, src_mask, trg_mask))\n",
        "    out = F.softmax(out, dim=-1)\n",
        "    val, ix = out[:, -1].data.topk(1)\n",
        "\n",
        "    outputs[i] = ix[0][0]\n",
        "\n",
        "    if ix[0][0] == FR_TEXT.vocab.stoi['<eos>']:\n",
        "        break\n",
        "\n",
        "  return ' '.join([FR_TEXT.vocab.itos[ix] for ix in outputs[:i]])"
      ]
    },
    {
      "cell_type": "code",
      "execution_count": null,
      "metadata": {
        "id": "FALTQeiJdXQQ"
      },
      "outputs": [],
      "source": [
        "translate(model, \"How are you ?\")"
      ]
    },
    {
      "cell_type": "code",
      "execution_count": null,
      "metadata": {
        "id": "EbHnAGr1WGeO"
      },
      "outputs": [],
      "source": []
    },
    {
      "cell_type": "code",
      "execution_count": null,
      "metadata": {
        "id": "ky-OfrkNWGhZ"
      },
      "outputs": [],
      "source": []
    },
    {
      "cell_type": "code",
      "execution_count": null,
      "metadata": {
        "id": "kL5UiQeaWGkS"
      },
      "outputs": [],
      "source": []
    }
  ],
  "metadata": {
    "accelerator": "GPU",
    "colab": {
      "name": "NLP_Transformers_Letra.ipynb",
      "provenance": [],
      "include_colab_link": true
    },
    "kernelspec": {
      "display_name": "Python 3",
      "language": "python",
      "name": "python3"
    },
    "language_info": {
      "codemirror_mode": {
        "name": "ipython",
        "version": 3
      },
      "file_extension": ".py",
      "mimetype": "text/x-python",
      "name": "python",
      "nbconvert_exporter": "python",
      "pygments_lexer": "ipython3",
      "version": "3.7.6"
    }
  },
  "nbformat": 4,
  "nbformat_minor": 0
}